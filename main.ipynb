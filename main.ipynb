{
  "nbformat": 4,
  "nbformat_minor": 0,
  "metadata": {
    "colab": {
      "name": "main.ipynb",
      "provenance": [],
      "collapsed_sections": [],
      "authorship_tag": "ABX9TyOMKHtw85t0n+4idXeJnAGn"
    },
    "kernelspec": {
      "name": "python3",
      "display_name": "Python 3"
    }
  },
  "cells": [
    {
      "cell_type": "code",
      "metadata": {
        "colab": {
          "base_uri": "https://localhost:8080/"
        },
        "id": "UTyZ8l_C_2N8",
        "cellView": "form",
        "outputId": "b43c3c46-e1a2-4f87-ac62-5ee4bebb88de"
      },
      "source": [
        "#@title 실행 환경 구축\r\n",
        "import os, sys\r\n",
        "from google.colab import drive\r\n",
        "drive.mount('/content/drive')\r\n",
        "%cd /content/drive/Shareddrives/KPMG_Ideation\r\n",
        "import warnings\r\n",
        "warnings.filterwarnings('ignore')\r\n",
        "import pandas as pd\r\n",
        "from flask_ngrok import run_with_ngrok\r\n",
        "from flask import Flask, render_template, request, redirect, url_for\r\n",
        "from flask_admin.contrib.fileadmin import FileAdmin\r\n",
        "from flask_admin import Admin\r\n",
        "from flask_dropzone import Dropzone\r\n",
        "\r\n",
        "# nb_path = '/content/notebooks'\r\n",
        "# os.symlink('/content/drive/Shareddrives/KPMG_Ideation', nb_path)\r\n",
        "# sys.path.insert(0, nb_path)\r\n",
        "# !pip install --target=$nb_path flask-ngrok\r\n",
        "# !pip install --target=$nb_path flask\r\n",
        "# !pip install --target=$nb_path flask-admin\r\n",
        "# !pip install --target=$nb_path flask-dropzone"
      ],
      "execution_count": 6,
      "outputs": [
        {
          "output_type": "stream",
          "text": [
            "Drive already mounted at /content/drive; to attempt to forcibly remount, call drive.mount(\"/content/drive\", force_remount=True).\n",
            "/content/drive/Shareddrives/KPMG_Ideation\n"
          ],
          "name": "stdout"
        }
      ]
    },
    {
      "cell_type": "code",
      "metadata": {
        "colab": {
          "base_uri": "https://localhost:8080/"
        },
        "cellView": "form",
        "id": "cSh8ZtpU9x8B",
        "outputId": "bd33f52b-bda6-4054-c3e6-d8bdce393e62"
      },
      "source": [
        "#@title Flask\r\n",
        "%cd /content/drive/Shareddrives/KPMG_Ideation/Dobby-AI/Flask\r\n",
        "app = Flask(__name__)\r\n",
        "run_with_ngrok(app)\r\n",
        "\r\n",
        "basedir = '/content/drive/Shareddrives/KPMG_Ideation/Dobby-AI/Flask' \r\n",
        "upload_dir = os.path.join(basedir, 'uploads')  # basedir 의 uploads 에 파일 저장\r\n",
        "#################################################################################################################\r\n",
        "\r\n",
        "admin = Admin(name='Uploaded Files')\r\n",
        "admin.init_app(app)\r\n",
        "dropzone = Dropzone(app)\r\n",
        "admin.add_view(FileAdmin(upload_dir, name='FILES')) \r\n",
        "app.config['DROPZONE_ALLOWED_FILE_CUSTOM'] = True\r\n",
        "app.config['DROPZONE_ALLOWED_FILE_TYPE'] = 'audio/*, .mp3, .wav, .m4a'\r\n",
        "# app.config['DROPZONE_REDIRECT_VIEW']='result'\r\n",
        "\r\n",
        "\r\n",
        "#############################################################################\r\n",
        "@app.route(\"/\", methods=['GET', 'POST'])\r\n",
        "def upload():\r\n",
        "    if request.method == 'POST':\r\n",
        "        f = request.files.get('file')\r\n",
        "        f.save(os.path.join(upload_dir, f.filename))\r\n",
        "    return render_template('homepage.html')\r\n",
        "\r\n",
        "\r\n",
        "@app.route(\"/result\", methods=['GET', 'POST'])\r\n",
        "def result():\r\n",
        "    if request.method == 'POST':\r\n",
        "        f = request.files.get('file')\r\n",
        "        f.save(os.path.join(upload_dir, f.filename))\r\n",
        "    return render_template('result.html')\r\n",
        "\r\n",
        "    \r\n",
        "##############################################################################\r\n",
        "if __name__ == '__main__':\r\n",
        "    app.run()"
      ],
      "execution_count": 8,
      "outputs": [
        {
          "output_type": "stream",
          "text": [
            "/content/drive/Shareddrives/KPMG_Ideation/Dobby-AI/Flask\n",
            " * Serving Flask app \"__main__\" (lazy loading)\n",
            " * Environment: production\n",
            "\u001b[31m   WARNING: This is a development server. Do not use it in a production deployment.\u001b[0m\n",
            "\u001b[2m   Use a production WSGI server instead.\u001b[0m\n",
            " * Debug mode: off\n"
          ],
          "name": "stdout"
        },
        {
          "output_type": "stream",
          "text": [
            " * Running on http://127.0.0.1:5000/ (Press CTRL+C to quit)\n"
          ],
          "name": "stderr"
        },
        {
          "output_type": "stream",
          "text": [
            " * Running on http://d7132b5ef59a.ngrok.io\n",
            " * Traffic stats available on http://127.0.0.1:4040\n"
          ],
          "name": "stdout"
        },
        {
          "output_type": "stream",
          "text": [
            "127.0.0.1 - - [12/Feb/2021 11:27:45] \"\u001b[37mGET / HTTP/1.1\u001b[0m\" 200 -\n",
            "127.0.0.1 - - [12/Feb/2021 11:27:45] \"\u001b[37mGET /static/css/bootstrap.min.css HTTP/1.1\u001b[0m\" 200 -\n",
            "127.0.0.1 - - [12/Feb/2021 11:27:45] \"\u001b[37mGET /static/css/mdb.min.css HTTP/1.1\u001b[0m\" 200 -\n",
            "127.0.0.1 - - [12/Feb/2021 11:27:45] \"\u001b[37mGET /static/css/style.min.css HTTP/1.1\u001b[0m\" 200 -\n",
            "127.0.0.1 - - [12/Feb/2021 11:27:45] \"\u001b[37mGET /static/js/jquery-3.4.1.min.js HTTP/1.1\u001b[0m\" 200 -\n",
            "127.0.0.1 - - [12/Feb/2021 11:27:45] \"\u001b[37mGET /static/js/popper.min.js HTTP/1.1\u001b[0m\" 200 -\n",
            "127.0.0.1 - - [12/Feb/2021 11:27:46] \"\u001b[37mGET /static/js/bootstrap.min.js HTTP/1.1\u001b[0m\" 200 -\n",
            "127.0.0.1 - - [12/Feb/2021 11:27:46] \"\u001b[37mGET /static/js/mdb.min.js HTTP/1.1\u001b[0m\" 200 -\n",
            "127.0.0.1 - - [12/Feb/2021 11:27:46] \"\u001b[37mGET /static/font/roboto/Roboto-Light.woff2 HTTP/1.1\u001b[0m\" 200 -\n",
            "127.0.0.1 - - [12/Feb/2021 11:27:46] \"\u001b[37mGET /static/font/roboto/Roboto-Bold.woff2 HTTP/1.1\u001b[0m\" 200 -\n",
            "127.0.0.1 - - [12/Feb/2021 11:27:46] \"\u001b[37mGET /static/font/roboto/Roboto-Medium.woff2 HTTP/1.1\u001b[0m\" 200 -\n",
            "127.0.0.1 - - [12/Feb/2021 11:27:46] \"\u001b[37mGET /static/font/roboto/Roboto-Regular.woff2 HTTP/1.1\u001b[0m\" 200 -\n",
            "127.0.0.1 - - [12/Feb/2021 11:27:49] \"\u001b[37mGET /result HTTP/1.1\u001b[0m\" 200 -\n",
            "127.0.0.1 - - [12/Feb/2021 11:27:50] \"\u001b[33mGET /static/js/query1.js HTTP/1.1\u001b[0m\" 404 -\n"
          ],
          "name": "stderr"
        }
      ]
    },
    {
      "cell_type": "code",
      "metadata": {
        "id": "RK7-CRl9FOsi"
      },
      "source": [
        ""
      ],
      "execution_count": null,
      "outputs": []
    }
  ]
}