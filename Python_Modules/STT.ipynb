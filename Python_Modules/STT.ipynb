{
  "nbformat": 4,
  "nbformat_minor": 0,
  "metadata": {
    "colab": {
      "name": "STT.ipynb",
      "provenance": [],
      "collapsed_sections": [],
      "authorship_tag": "ABX9TyM3V81EhjBQDNHfnJ8JHYx7"
    },
    "kernelspec": {
      "name": "python3",
      "display_name": "Python 3"
    },
    "accelerator": "GPU"
  },
  "cells": [
    {
      "cell_type": "markdown",
      "metadata": {
        "id": "eVv82PyAvSHR"
      },
      "source": [
        "1/14 최초 구현 by 소연 \r\n",
        "\r\n",
        "수정 및 테스트 시 본 파일이 아닌 사본 사용을 부탁드립니다."
      ]
    },
    {
      "cell_type": "code",
      "metadata": {
        "colab": {
          "base_uri": "https://localhost:8080/"
        },
        "id": "Bd82roy9fTZg",
        "outputId": "dbec7ea6-593c-4a22-8850-c88c905451d8"
      },
      "source": [
        "import os, sys\r\n",
        "from google.colab import drive\r\n",
        "drive.mount('/content/drive')\r\n",
        "%cd /content/drive/Shareddrives/KPMG_Ideation\r\n",
        "import warnings\r\n",
        "warnings.filterwarnings('ignore')\r\n",
        "import numpy as np\r\n",
        "import pandas as pd\r\n",
        "from pprint import pprint\r\n",
        "from krwordrank.word import KRWordRank\r\n",
        "from copy import deepcopy\r\n",
        "import kss\r\n",
        "import itertools\r\n",
        "import unicodedata\r\n",
        "import requests\r\n",
        "from functools import reduce\r\n",
        "from bs4 import BeautifulSoup\r\n",
        "import string\r\n",
        "import torch\r\n",
        "from textrankr import TextRank\r\n",
        "from lexrankr import LexRank\r\n",
        "from nltk.corpus import stopwords \r\n",
        "from nltk.tokenize import word_tokenize, sent_tokenize \r\n",
        "from pydub import AudioSegment\r\n",
        "from konlpy.tag import Okt\r\n",
        "import re\r\n",
        "import nltk\r\n",
        "# nltk.download('punkt')"
      ],
      "execution_count": null,
      "outputs": [
        {
          "output_type": "stream",
          "text": [
            "Drive already mounted at /content/drive; to attempt to forcibly remount, call drive.mount(\"/content/drive\", force_remount=True).\n",
            "/content/drive/Shareddrives/KPMG_Ideation\n"
          ],
          "name": "stdout"
        }
      ]
    },
    {
      "cell_type": "code",
      "metadata": {
        "id": "nxdbYb9RonDm",
        "colab": {
          "base_uri": "https://localhost:8080/"
        },
        "outputId": "062a92ec-2755-47aa-a35f-b64064b95eeb"
      },
      "source": [
        "# import pre-trained model -- frameBERT (pytorch GPU 환경 필요)\r\n",
        "%cd /content/drive/Shareddrives/KPMG_Ideation/OpenInformationExtraction/frameBERT\r\n",
        "!pip install transformers \r\n",
        "import frame_parser\r\n",
        "path=\"/content/drive/Shareddrives/KPMG_Ideation/OpenInformationExtraction/frameBERT\"\r\n",
        "parser = frame_parser.FrameParser(model_path=path, language='ko')"
      ],
      "execution_count": null,
      "outputs": [
        {
          "output_type": "stream",
          "text": [
            "/content/drive/Shareddrives/KPMG_Ideation/OpenInformationExtraction/frameBERT\n",
            "Requirement already satisfied: transformers in /usr/local/lib/python3.6/dist-packages (4.2.1)\n",
            "Requirement already satisfied: dataclasses; python_version < \"3.7\" in /usr/local/lib/python3.6/dist-packages (from transformers) (0.8)\n",
            "Requirement already satisfied: filelock in /usr/local/lib/python3.6/dist-packages (from transformers) (3.0.12)\n",
            "Requirement already satisfied: numpy in /usr/local/lib/python3.6/dist-packages (from transformers) (1.19.5)\n",
            "Requirement already satisfied: tqdm>=4.27 in /usr/local/lib/python3.6/dist-packages (from transformers) (4.41.1)\n",
            "Requirement already satisfied: packaging in /usr/local/lib/python3.6/dist-packages (from transformers) (20.8)\n",
            "Requirement already satisfied: regex!=2019.12.17 in /usr/local/lib/python3.6/dist-packages (from transformers) (2019.12.20)\n",
            "Requirement already satisfied: tokenizers==0.9.4 in /usr/local/lib/python3.6/dist-packages (from transformers) (0.9.4)\n",
            "Requirement already satisfied: sacremoses in /usr/local/lib/python3.6/dist-packages (from transformers) (0.0.43)\n",
            "Requirement already satisfied: importlib-metadata; python_version < \"3.8\" in /usr/local/lib/python3.6/dist-packages (from transformers) (3.3.0)\n",
            "Requirement already satisfied: requests in /usr/local/lib/python3.6/dist-packages (from transformers) (2.23.0)\n",
            "Requirement already satisfied: pyparsing>=2.0.2 in /usr/local/lib/python3.6/dist-packages (from packaging->transformers) (2.4.7)\n",
            "Requirement already satisfied: click in /usr/local/lib/python3.6/dist-packages (from sacremoses->transformers) (7.1.2)\n",
            "Requirement already satisfied: joblib in /usr/local/lib/python3.6/dist-packages (from sacremoses->transformers) (1.0.0)\n",
            "Requirement already satisfied: six in /usr/local/lib/python3.6/dist-packages (from sacremoses->transformers) (1.15.0)\n",
            "Requirement already satisfied: zipp>=0.5 in /usr/local/lib/python3.6/dist-packages (from importlib-metadata; python_version < \"3.8\"->transformers) (3.4.0)\n",
            "Requirement already satisfied: typing-extensions>=3.6.4; python_version < \"3.8\" in /usr/local/lib/python3.6/dist-packages (from importlib-metadata; python_version < \"3.8\"->transformers) (3.7.4.3)\n",
            "Requirement already satisfied: certifi>=2017.4.17 in /usr/local/lib/python3.6/dist-packages (from requests->transformers) (2020.12.5)\n",
            "Requirement already satisfied: idna<3,>=2.5 in /usr/local/lib/python3.6/dist-packages (from requests->transformers) (2.10)\n",
            "Requirement already satisfied: urllib3!=1.25.0,!=1.25.1,<1.26,>=1.21.1 in /usr/local/lib/python3.6/dist-packages (from requests->transformers) (1.24.3)\n",
            "Requirement already satisfied: chardet<4,>=3.0.2 in /usr/local/lib/python3.6/dist-packages (from requests->transformers) (3.0.4)\n",
            "srl model: framenet\n",
            "language: ko\n",
            "version: 1.2\n",
            "using viterbi: False\n",
            "using masking: True\n",
            "pretrained BERT: bert-base-multilingual-cased\n",
            "using TGT special token: True\n",
            "used dictionary:\n",
            "\t /content/drive/Shareddrives/KPMG_Ideation/OpenInformationExtraction/frameBERT/src/../koreanframenet/resource/info/kfn1.2_lu2idx.json\n",
            "\t /content/drive/Shareddrives/KPMG_Ideation/OpenInformationExtraction/frameBERT/src/../koreanframenet/resource/info/kfn1.2_lufrmap.json\n",
            "\t /content/drive/Shareddrives/KPMG_Ideation/OpenInformationExtraction/frameBERT/src/../koreanframenet/resource/info/mul_bio_frargmap.json\n",
            "...loaded model path: /content/drive/Shareddrives/KPMG_Ideation/OpenInformationExtraction/frameBERT\n",
            "/content/drive/Shareddrives/KPMG_Ideation/OpenInformationExtraction/frameBERT\n",
            "...model is loaded\n"
          ],
          "name": "stdout"
        }
      ]
    },
    {
      "cell_type": "code",
      "metadata": {
        "id": "8w5FQbH1ffsM"
      },
      "source": [
        "##### below are permanently installed packages #####\r\n",
        "# nb_path = '/content/notebooks'\r\n",
        "# os.symlink('/content/drive/Shareddrives/KPMG_Ideation', nb_path)\r\n",
        "# sys.path.insert(0, nb_path)\r\n",
        "# !pip install --target=$nb_path pydub\r\n",
        "# !pip install --target=$nb_path kss\r\n",
        "# %cd /content/drive/Shareddrives/KPMG_Ideation/hanspell\r\n",
        "# !python setup.py install\r\n",
        "# !pip install --target=$nb_path transformers\r\n",
        "# !apt-get update\r\n",
        "# !apt-get g++ openjdk-8-jdk \r\n",
        "# !pip3 install --target=$nb_path konlpy\r\n",
        "# !pip install --target=$nb_path soykeyword\r\n",
        "# !pip install --target=$nb_path krwordrank\r\n",
        "# !pip install --target=$nb_path bert\r\n",
        "# !pip install --target=$nb_path textrankr\r\n",
        "# !pip install --target=$nb_path lexrankr"
      ],
      "execution_count": null,
      "outputs": []
    },
    {
      "cell_type": "code",
      "metadata": {
        "colab": {
          "base_uri": "https://localhost:8080/"
        },
        "id": "VYdHPgYzIaen",
        "outputId": "1fc56faa-4a14-44eb-d388-26f927eaa33b"
      },
      "source": [
        "# Due to google api credentials, SpeechRecognition needs to be installed everytime\r\n",
        "!pip install SpeechRecognition\r\n",
        "import speech_recognition as sr\r\n",
        "# !pip install --upgrade google-cloud-speech"
      ],
      "execution_count": null,
      "outputs": [
        {
          "output_type": "stream",
          "text": [
            "Requirement already satisfied: SpeechRecognition in /usr/local/lib/python3.6/dist-packages (3.8.1)\n"
          ],
          "name": "stdout"
        }
      ]
    },
    {
      "cell_type": "code",
      "metadata": {
        "id": "ZzVQz28Td9mC"
      },
      "source": [
        "def to_wav(audio_file_name):\r\n",
        "    if audio_file_name.split('.')[1] == 'mp3':    \r\n",
        "        sound = AudioSegment.from_mp3(audio_file_name)\r\n",
        "        audio_file_name = audio_file_name.split('.')[0] + '.wav'\r\n",
        "        sound.export(audio_file_name, format=\"wav\")\r\n",
        "    if audio_file_name.split('.')[1] == 'm4a':\r\n",
        "        sound = AudioSegment.from_file(file_name,'m4a')\r\n",
        "        audio_file_name = audio_file_name.replace('m4a','wav')\r\n",
        "        sound.export(audio_file_name, format=\"wav\")"
      ],
      "execution_count": null,
      "outputs": []
    },
    {
      "cell_type": "code",
      "metadata": {
        "colab": {
          "base_uri": "https://localhost:8080/"
        },
        "id": "oRYLQ4tzgZF6",
        "outputId": "1d2a4397-a99f-4af4-8271-fed184c84e4a"
      },
      "source": [
        "#!/usr/bin/env python3\r\n",
        "files_path = ''\r\n",
        "file_name = ''\r\n",
        "\r\n",
        "startMin = 0\r\n",
        "startSec = 0\r\n",
        "\r\n",
        "endMin = 4\r\n",
        "endSec = 30\r\n",
        "\r\n",
        "# Time to miliseconds\r\n",
        "startTime = startMin*60*1000+startSec*1000\r\n",
        "endTime = endMin*60*1000+endSec*1000\r\n",
        "\r\n",
        "%cd /content/drive/Shareddrives/KPMG_Ideation/data\r\n",
        "file_name='audio_only_1.m4a'\r\n",
        "track = AudioSegment.from_file(file_name,'m4a')\r\n",
        "wav_filename = file_name.replace('m4a', 'wav')\r\n",
        "file_handle = track.export(wav_filename, format='wav')\r\n",
        "song = AudioSegment.from_wav('audio_only_1.wav')\r\n",
        "extract = song[startTime:endTime]\r\n",
        "\r\n",
        "# Saving as wav\r\n",
        "extract.export('result.wav', format=\"wav\")\r\n",
        "\r\n",
        "AUDIO_FILE = os.path.join(os.path.dirname(os.path.abspath('data')), \"result.wav\")\r\n",
        "\r\n",
        "# use the audio file as the audio source\r\n",
        "r = sr.Recognizer()\r\n",
        "with sr.AudioFile(AUDIO_FILE) as source:\r\n",
        "    audio = r.record(source)  # read the entire audio file\r\n",
        "\r\n",
        "# recognize speech using Google Speech Recognition\r\n",
        "try:\r\n",
        "    # for testing purposes, we're just using the default API key\r\n",
        "    # to use another API key, use `r.recognize_google(audio, key=\"GOOGLE_SPEECH_RECOGNITION_API_KEY\")`\r\n",
        "    # instead of `r.recognize_google(audio)`\r\n",
        "    txt = r.recognize_google(audio, language='ko')\r\n",
        "    print(\"Google Speech Recognition:\" + txt)\r\n",
        "except sr.UnknownValueError:\r\n",
        "    print(\"Google Speech Recognition could not understand audio\")\r\n",
        "except sr.RequestError as e:\r\n",
        "    print(\"Could not request results from Google Speech Recognition service; {0}\".format(e))\r\n",
        "    "
      ],
      "execution_count": null,
      "outputs": [
        {
          "output_type": "stream",
          "text": [
            "/content/drive/Shareddrives/KPMG_Ideation/data\n",
            "Google Speech Recognition:문제가 있었다 그 알고리즘으로 막상 해 놨길래 했는데 거기서 그 의료인들이 거의 다 빠지고 1순위에서 의료인들이 제일 필요한데 개를 다 빠지고 다른데 접종을 하는 것 때문에 막 난리가 났다고 그래가지고 알고리즘을 다시 만나기로 했어 나 뭐 이런 얘기 하다 그래서 거기서 어떻게 그 어떤 자료들을 사용을 한다면은 아까 말씀했듯이 그 바이러스 노출도 직업에따른 바이러스 노출도 그러나이 그걸 가진 크게 두 개로 받고 멜론에서 나이가 65세 이상 해결하는 거 아닌가 25세 이하 라던가 하면은 그 조금 더 가산점을 주는 거라던가 아니면은 뭐 직업특성상 뭐 그 의도가 이런데 종사하면 가산점을 주는 거고 근데 반면에 이제 조금 문제가 어떻게 될 수 있냐면 직업특성 만 가지고 하면 내 막상 재택근무자 아들이라도 산업군이 막 그런 그쪽에서 켜면은 태권도는 아무런 위험에 노출되어 있지 않은데 그런 식으로 바다쪽으로 받아가지고 오히려 더 그런 그런 문제들이 아직 해결 할 때 많이 남았다고 찾아왔어요 굉장히 좋은 지적이십니다 그렇다면 직업 특성상 재택근무가 아예 불가능한 집중된 섞여 있을 거 같은데 직업특성 뿐만이 아니라 그냥 바이러스 노출도 제일 중요한 거 같기도 하고 그 그게 이제 목적에 따라서 누굴먼저 맞춰야 되니까 조금 다른게 그 감염률을 나 죽고 싶으면네 사실 뭐랄까 제일 활발하게 활동하는 새끼들을 먼저 맞춰야지 그래야지 지금 뭐 그 퍼트리고 다니는 애들이 안 걸려 있으니까 그래서 그런 경우 조금 야외활동이 라던가 이런 것들이 활동이 많은 젊은 층들이 맞춰야 되는 반면에 치사율을 낮추고자를 목표로 하면은 우선은 노인 인구가 가장 큰 높으니까 애들 먼저 맞춰야 된다 이런 일이 있어가지고 달달 말씀이시죠 목적에 따라 달라진다 목적에 따라 준다 그리고 또 다른 이슈가 될 만한게 또 배탈 개 중에 하나가 박신 백신을 맞고 나서 이제 어느 정도로 확진자 수가 누적되서 증가하는 야 그걸 또 어느 도착할 것으로 보는 경우도 많잖아요 그러려면 그렇죠 그런데 그럴 때는 차라리 야 그런 그의 만약 그 수치를 낮추고 싶으면 감옥에 있는 사람들아 사람들이 맞추는게 제일 좋지 않냐라는 의견들이 있어서 좀 논란이 됐다고 하더라고요 그래서 타겠어요 줘 동해 보는게 좋을 거 같고 왜냐면 사실대로 감옥에서 가장 감염이 많이 일어나긴 했으니까요 저게 나라 타기 시작한다 좀 계속 와 가지고 없는데이 바이러스 바이러스 백신 저희가 여러 개가 있잖아요 제가 아는 것만 정도 되는데 그 모든 백진희 백신에 대해서 최적화알고리즘 나오는 건가요 저희는 어떤 특정 몇 개의 백신의 포커스링 아 그렇네요 따라서 죄송합니다 아네네네 처음에 생각하기로는 그렇게 백신의 여러 개까지 아니고요 일단은 택시 하나에 대해서 그 그 대신에 그 예방 줄 알고 있다 하고 그걸 적용하고 그렇게 생각했습니다 말씀하세요 적용해 볼 수 있을 것 같네요 내일 각각 내가 문제를 적용할 수 있을 거니까 그 저도 얘기를 한번 해 보자면 그거 그렇게 이제 백신의 각각의 따라서 어떻게 그 최적화모델 만드는 거는 조금 일을 키우는 거 같긴 한데 많은 얘기를 키우고 잘 맞는 것도 이제 따라서 달라질 수밖에 없는게 콜드체인 방이 달라지기 때문에 어디에 어디에는 이거를 보내는 것이 더 비효율적일 수도 있고 가장 가까운 데에다가 나는 그냥 빠져 공급망을 사용하는 거는 문제가 없지만 막 멀리 있는 데까지 굳이 그런 걸 보내기에는 시간이나 이런 뭐 경제적인 제약이 있을 수 그런 그런 것까지 고려를 하는 거네 좀 후순위 담긴 거 같고 그 민찬이 말씀했듯이 우선 가장 기본적인 모델은 재생산지수 같은 거를 이렇게 생각을 해 가지고 그 각 지역별로 그게 다르잖아요 그 각 지역별로 인구밀도 하던가 아니면은 그 사람들이 활동량이 다르기 때문에 어떤 곳은 그 전체 인구의 10% 만 백신이나 그 뭐라고 하지 학원이 있어\n"
          ],
          "name": "stdout"
        }
      ]
    },
    {
      "cell_type": "code",
      "metadata": {
        "colab": {
          "base_uri": "https://localhost:8080/"
        },
        "id": "eSp9kYqTgaf-",
        "outputId": "1a0a1f95-f84a-4875-c134-f1e064728240"
      },
      "source": [
        "%cd /content/drive/Shareddrives/KPMG_Ideation/hanspell\r\n",
        "from hanspell import spell_checker\r\n",
        "chked=\"\"\r\n",
        "line = kss.split_sentences(txt)\r\n",
        "for i in range(len(line)):\r\n",
        "  line[i] = spell_checker.check(line[i])[2]\r\n",
        "  print(\"Checked spelling \",line[i])\r\n",
        "  chked += \"\".join(line[i])\r\n",
        "  chked += \". \""
      ],
      "execution_count": null,
      "outputs": [
        {
          "output_type": "stream",
          "text": [
            "/content/drive/Shareddrives/KPMG_Ideation/hanspell\n",
            "Checked spelling  문제가 있었다\n",
            "Checked spelling  그 알고리즘으로 막상 해 놨길래 했는데 거기서 그 의료인들이 거의 다 빠지고 1순위에서 의료인들이 제일 필요한데 개를 다 빠지고 다른데 접종을 하는 것 때문에 막 난리가 났다고 그래가지고 알고리즘을 다시 만나기로 했어 나 뭐 이런 얘기 하다\n",
            "Checked spelling  그래서 거기서 어떻게 그 어떤 자료들을 사용을 한다면은 아까 말씀했듯이 그 바이러스 노출도 직업에 따른 바이러스 노출도 그러나 이 그걸 가진 크게 두 개로 받고 멜론에서 나이가 65세 이상 해결하는 거 아닌가 25세 이하라던가 하면은 그 조금 더 가산점을 주는 거라던가 아니면은 뭐 직업 특성상 뭐 그 의도가 이런데 종사하면 가산점을 주는 거고 근데 반면에 이제 조금 문제가 어떻게 될 수 있냐면 직업 특성 만 가지고 하면 내 막상 재택근무자 아들이라도 산업 군이 막 그런 그쪽에서 켜면은 태권도는 아무런 위험에 노출되어 있지 않은데 그런 식으로 바다 쪽으로 받아가지고 오히려 더 그런 그런 문제들이 아직 해결할 때 많이 남았다고 찾아왔어요\n",
            "Checked spelling  굉장히 좋은 지적이십니다\n",
            "Checked spelling  그렇다면 직업 특성상 재택근무가 아예 불가능한 집중된 섞여 있을 거 같은데 직업 특성뿐만이 아니라 그냥 바이러스 노출도 제일 중요한 거 같기도 하고 그 그게 이제 목적에 따라서 누굴 먼저 맞춰야 되니까 조금 다른게 그 감염률을 나 죽고 싶으면 네 사실 뭐랄까 제일 활발하게 활동하는 새끼들을 먼저 맞춰야지 그래야지 지금 뭐 그 퍼트리고 다니는 애들이 안 걸려 있으니까 그래서 그런 경우 조금 야외활동이라던가 이런 것들이 활동이 많은 젊은 층들이 맞춰야 되는 반면에 치사율을 낮추고자를 목표로 하면은 우선은 노인 인구가 가장 큰 높으니까 애들 먼저 맞춰야 된다 이런 일이 있어가지고 달달 말씀이시죠 목적에 따라 달라진다\n",
            "Checked spelling  목적에 따라 준다\n",
            "Checked spelling  그리고 또 다른 이슈가 될 만한 게 또 배탈 개 중에 하나가 박신 백신을 맞고 나서 이제 어느 정도로 확진자 수가 누적돼서 증가하는 야 그걸 또 어느 도착할 것으로 보는 경우도 많잖아요\n",
            "Checked spelling  그러려면 그렇죠 그런데 그럴 때는 차라리 야 그런 그의 만약 그 수치를 낮추고 싶으면 감옥에 있는 사람들아 사람들이 맞추는 게 제일 좋지 않냐라는 의견들이 있어서 좀 논란이 됐다고 하더라고요\n",
            "Checked spelling  그래서 타겠어요\n",
            "Checked spelling  줘 동해 보는 게 좋을 거 같고 왜냐면 사실대로 감옥에서 가장 감염이 많이 일어나긴 했으니까요\n",
            "Checked spelling  저게 나라 타기 시작한다\n",
            "Checked spelling  좀 계속 와 가지고 없는데 이 바이러스 바이러스 백신 저희가 여러 개가 있잖아요\n",
            "Checked spelling  제가 아는 것만 정도 되는데 그 모든 백진희 백신에 대해서 최적화 알고리즘 나오는 건가요\n",
            "Checked spelling  저희는 어떤 특정 몇 개의 백신의 포커스링 아 그렇네요\n",
            "Checked spelling  따라서 죄송합니다\n",
            "Checked spelling  아 네네네 처음에 생각하기로는 그렇게 백신의 여러 개까지 아니고요\n",
            "Checked spelling  일단은 택시 하나에 대해서 그 그 대신에 그 예방 줄 알고 있다 하고 그걸 적용하고 그렇게 생각했습니다\n",
            "Checked spelling  말씀하세요\n",
            "Checked spelling  적용해 볼 수 있을 것 같네요\n",
            "Checked spelling  내일 각각 내가 문제를 적용할 수 있을 거니까 그 저도 얘기를 한번 해 보자면 그거 그렇게 이제 백신의 각각의 따라서 어떻게 그 최적화 모델 만드는 거는 조금 일을 키우는 거 같긴 한데 많은 얘기를 키우고 잘 맞는 것도 이제 따라서 달라질 수밖에 없는 게 콜드체인 방이 달라지기 때문에 어디에 어디에는 이거를 보내는 것이 더 비효율적일 수도 있고 가장 가까운 데에다가 나는 그냥 빠져 공급망을 사용하는 거는 문제가 없지만 막 멀리 있는 데까지 굳이 그런 걸 보내기에는 시간이나 이런 뭐 경제적인 제약이 있을 수 그런 그런 것까지 고려를 하는 거네 좀 후 순위 담긴 거 같고 그 민찬이 말씀했듯이 우선 가장 기본적인 모델은 재생산지수 같은 거를 이렇게 생각을 해 가지고 그 각 지역별로 그게 다르잖아요\n",
            "Checked spelling  그 각 지역별로 인구밀도 하더가 아니면은 그 사람들이 활동량이 다르기 때문에 어떤 곳은 그 전체 인구의 10%만 백신이나 그 뭐라고 하지 학원이 있어\n"
          ],
          "name": "stdout"
        }
      ]
    },
    {
      "cell_type": "code",
      "metadata": {
        "colab": {
          "base_uri": "https://localhost:8080/",
          "height": 159
        },
        "id": "56-B2OSOc7L0",
        "outputId": "0e7fe8ab-35ed-49ff-e8ea-ce42fc007618"
      },
      "source": [
        "chked"
      ],
      "execution_count": null,
      "outputs": [
        {
          "output_type": "execute_result",
          "data": {
            "application/vnd.google.colaboratory.intrinsic+json": {
              "type": "string"
            },
            "text/plain": [
              "'문제가 있었다. 그 알고리즘으로 막상 해 놨길래 했는데 거기서 그 의료인들이 거의 다 빠지고 1순위에서 의료인들이 제일 필요한데 개를 다 빠지고 다른데 접종을 하는 것 때문에 막 난리가 났다고 그래가지고 알고리즘을 다시 만나기로 했어 나 뭐 이런 얘기 하다. 그래서 거기서 어떻게 그 어떤 자료들을 사용을 한다면은 아까 말씀했듯이 그 바이러스 노출도 직업에 따른 바이러스 노출도 그러나 이 그걸 가진 크게 두 개로 받고 멜론에서 나이가 65세 이상 해결하는 거 아닌가 25세 이하라던가 하면은 그 조금 더 가산점을 주는 거라던가 아니면은 뭐 직업 특성상 뭐 그 의도가 이런데 종사하면 가산점을 주는 거고 근데 반면에 이제 조금 문제가 어떻게 될 수 있냐면 직업 특성 만 가지고 하면 내 막상 재택근무자 아들이라도 산업 군이 막 그런 그쪽에서 켜면은 태권도는 아무런 위험에 노출되어 있지 않은데 그런 식으로 바다 쪽으로 받아가지고 오히려 더 그런 그런 문제들이 아직 해결할 때 많이 남았다고 찾아왔어요. 굉장히 좋은 지적이십니다. 그렇다면 직업 특성상 재택근무가 아예 불가능한 집중된 섞여 있을 거 같은데 직업 특성뿐만이 아니라 그냥 바이러스 노출도 제일 중요한 거 같기도 하고 그 그게 이제 목적에 따라서 누굴 먼저 맞춰야 되니까 조금 다른게 그 감염률을 나 죽고 싶으면 네 사실 뭐랄까 제일 활발하게 활동하는 새끼들을 먼저 맞춰야지 그래야지 지금 뭐 그 퍼트리고 다니는 애들이 안 걸려 있으니까 그래서 그런 경우 조금 야외활동이라던가 이런 것들이 활동이 많은 젊은 층들이 맞춰야 되는 반면에 치사율을 낮추고자를 목표로 하면은 우선은 노인 인구가 가장 큰 높으니까 애들 먼저 맞춰야 된다 이런 일이 있어가지고 달달 말씀이시죠 목적에 따라 달라진다. 목적에 따라 준다. 그리고 또 다른 이슈가 될 만한 게 또 배탈 개 중에 하나가 박신 백신을 맞고 나서 이제 어느 정도로 확진자 수가 누적돼서 증가하는 야 그걸 또 어느 도착할 것으로 보는 경우도 많잖아요. 그러려면 그렇죠 그런데 그럴 때는 차라리 야 그런 그의 만약 그 수치를 낮추고 싶으면 감옥에 있는 사람들아 사람들이 맞추는 게 제일 좋지 않냐라는 의견들이 있어서 좀 논란이 됐다고 하더라고요. 그래서 타겠어요. 줘 동해 보는 게 좋을 거 같고 왜냐면 사실대로 감옥에서 가장 감염이 많이 일어나긴 했으니까요. 저게 나라 타기 시작한다. 좀 계속 와 가지고 없는데 이 바이러스 바이러스 백신 저희가 여러 개가 있잖아요. 제가 아는 것만 정도 되는데 그 모든 백진희 백신에 대해서 최적화 알고리즘 나오는 건가요. 저희는 어떤 특정 몇 개의 백신의 포커스링 아 그렇네요. 따라서 죄송합니다. 아 네네네 처음에 생각하기로는 그렇게 백신의 여러 개까지 아니고요. 일단은 택시 하나에 대해서 그 그 대신에 그 예방 줄 알고 있다 하고 그걸 적용하고 그렇게 생각했습니다. 말씀하세요. 적용해 볼 수 있을 것 같네요. 내일 각각 내가 문제를 적용할 수 있을 거니까 그 저도 얘기를 한번 해 보자면 그거 그렇게 이제 백신의 각각의 따라서 어떻게 그 최적화 모델 만드는 거는 조금 일을 키우는 거 같긴 한데 많은 얘기를 키우고 잘 맞는 것도 이제 따라서 달라질 수밖에 없는 게 콜드체인 방이 달라지기 때문에 어디에 어디에는 이거를 보내는 것이 더 비효율적일 수도 있고 가장 가까운 데에다가 나는 그냥 빠져 공급망을 사용하는 거는 문제가 없지만 막 멀리 있는 데까지 굳이 그런 걸 보내기에는 시간이나 이런 뭐 경제적인 제약이 있을 수 그런 그런 것까지 고려를 하는 거네 좀 후 순위 담긴 거 같고 그 민찬이 말씀했듯이 우선 가장 기본적인 모델은 재생산지수 같은 거를 이렇게 생각을 해 가지고 그 각 지역별로 그게 다르잖아요. 그 각 지역별로 인구밀도 하더가 아니면은 그 사람들이 활동량이 다르기 때문에 어떤 곳은 그 전체 인구의 10%만 백신이나 그 뭐라고 하지 학원이 있어. '"
            ]
          },
          "metadata": {
            "tags": []
          },
          "execution_count": 115
        }
      ]
    },
    {
      "cell_type": "code",
      "metadata": {
        "id": "HjoeqHrKZDI_"
      },
      "source": [
        "okt = Okt()\r\n",
        "class Text():\r\n",
        "    def __init__(self, text):\r\n",
        "        text = re.sub(\"'\", ' ', text)\r\n",
        "        paragraphs = text.split('\\n')\r\n",
        "        self.text = text\r\n",
        "        self.paragraphs = [i for i in paragraphs if i]\r\n",
        "        self.counts = len(self.paragraphs)\r\n",
        "        self.docs = [kss.split_sentences(paragraph) for paragraph in paragraphs if kss.split_sentences(paragraph)]\r\n",
        "        self.newtext = deepcopy(self.text)\r\n",
        "        print(\"TEXT\")\r\n",
        "\r\n",
        "    def findall(self, p, s):\r\n",
        "        i = s.find(p)\r\n",
        "        while i != -1:\r\n",
        "            yield i\r\n",
        "            i = s.find(p, i + 1)\r\n",
        "      \r\n",
        "    def countMatcher(self, sentences, paragraph_no):\r\n",
        "        paragraph = self.docs[paragraph_no]\r\n",
        "        total_no = len(paragraph)\r\n",
        "        vec = [0] * total_no\r\n",
        "        \r\n",
        "        for idx, candidate in enumerate(paragraph):\r\n",
        "            for sentence in sentences:\r\n",
        "                if sentence[:4] in candidate:\r\n",
        "                    vec[idx] += 1\r\n",
        "        return vec\r\n",
        "\r\n",
        "\r\n",
        "class Highlight(Text):\r\n",
        "    def __init__(self, text):\r\n",
        "        super().__init__(text)\r\n",
        "        print(\"Highlight\")\r\n",
        "        wordrank_extractor = KRWordRank(min_count=3, max_length=10)\r\n",
        "        self.keywords, rank, graph = wordrank_extractor.extract(self.paragraphs)\r\n",
        "        self.path = \"/content/drive/Shareddrives/KPMG_Ideation/OpenInformationExtraction/frameBERT\"\r\n",
        "        p = []\r\n",
        "        kw = []\r\n",
        "        for k, v in self.keywords.items():\r\n",
        "            p.append(okt.pos(k))\r\n",
        "            kw.append(k)\r\n",
        "        words = self.text.split(' ')\r\n",
        "        s = set()\r\n",
        "        keylist = [word for i in kw for word in words if i in word]\r\n",
        "        keylist = [i for i in keylist if len(i)>2]\r\n",
        "        for i in keylist:\r\n",
        "            if len(i)>2:\r\n",
        "              s.add(i)\r\n",
        "        # print(\"KEYLIST: \",keylist)\r\n",
        "\r\n",
        "        p = [okt.pos(word) for word in s]\r\n",
        "        self.s = set()\r\n",
        "        for idx in range(len(p)):\r\n",
        "            ls = p[idx]\r\n",
        "            for tags in ls:\r\n",
        "              word,tag = tags\r\n",
        "              if tag == \"Noun\":\r\n",
        "                if len(word)>=2:\r\n",
        "                  self.s.add(word)\r\n",
        "        self.keys = []\r\n",
        "        for temp in self.s:\r\n",
        "            self.keys.append(\" \" + str(temp))\r\n",
        "        print(\"KEYWORDS: \", self.keys)\r\n",
        "\r\n",
        "    def add_tags_conj(self, txt):\r\n",
        "        conj = '그리고, 그런데, 그러나, 그래도, 그래서, 또는, 및, 즉, 게다가, 따라서, 때문에, 아니면, 왜냐하면, 단, 오히려, 비록, 예를 들어, 반면에, 하지만, 그렇다면, 바로, 이에 대해'\r\n",
        "        conj = conj.replace(\"'\", \"\")\r\n",
        "        self.candidates = conj.split(\",\")\r\n",
        "        self.newtext = deepcopy(txt)\r\n",
        "        self.idx = [(i, i + len(candidate)) for candidate in self.candidates for i in\r\n",
        "                        self.findall(candidate, txt)]\r\n",
        "        for i in range(len(self.idx)):\r\n",
        "            try:\r\n",
        "                self.idx = [(start, start + len(candidate)) for candidate in self.candidates for start in\r\n",
        "                            self.findall(candidate, self.newtext)]\r\n",
        "                word = self.newtext[self.idx[i][0]:self.idx[i][1]]\r\n",
        "                self.newtext = word.join([self.newtext[:self.idx[i][0]], self.newtext[self.idx[i][1]:]])\r\n",
        "            except:\r\n",
        "                pass\r\n",
        "        return self.newtext"
      ],
      "execution_count": null,
      "outputs": []
    },
    {
      "cell_type": "code",
      "metadata": {
        "id": "JaFLquZkZ8Dw"
      },
      "source": [
        "class Summarize(Highlight):\r\n",
        "    def __init__(self, text, paragraph_no):\r\n",
        "      super().__init__(text)\r\n",
        "      print(\"length of paragraphs \",len(self.paragraphs))\r\n",
        "      self.txt = self.paragraphs[paragraph_no]\r\n",
        "      self.paragraph_no = paragraph_no\r\n",
        "\r\n",
        "    def summarize(self):\r\n",
        "        url = \"https://api.smrzr.io/v1/summarize?num_sentences=5&algorithm=kmeans\"\r\n",
        "        headers = {\r\n",
        "            'content-type': 'raw/text',\r\n",
        "            'origin': 'https://smrzr.io',\r\n",
        "            'referer': 'https://smrzr.io/',\r\n",
        "            'sec-fetch-dest': 'empty',\r\n",
        "            'sec-fetch-mode': 'cors',\r\n",
        "            'sec-fetch-site': 'same-site',\r\n",
        "            \"user-agent\": \"Mozilla/5.0\"\r\n",
        "        }\r\n",
        "        resp = requests.post(url, headers=headers, data= self.txt.encode('utf-8'))\r\n",
        "        assert resp.status_code == 200\r\n",
        "        summary = resp.json()['summary']\r\n",
        "        temp = summary.split('\\n')\r\n",
        "        print(\"BERT: \", temp)\r\n",
        "        return temp\r\n",
        "\r\n",
        "\r\n",
        "    def summarizeTextRank(self):\r\n",
        "        tr = TextRank(sent_tokenize)\r\n",
        "        summary = tr.summarize(self.txt, num_sentences=5).split('\\n')\r\n",
        "        print(\"Textrank: \",summary)\r\n",
        "        return summary\r\n",
        "\r\n",
        "\r\n",
        "    def summarizeLexRank(self):\r\n",
        "        lr = LexRank()\r\n",
        "        lr.summarize(self.txt)\r\n",
        "        summaries = lr.probe()\r\n",
        "        print(\"Lexrank: \",summaries)\r\n",
        "        return summaries\r\n",
        "\r\n",
        "    def ensembleSummarize(self):\r\n",
        "        a = np.array(self.countMatcher(self.summarize(), self.paragraph_no))\r\n",
        "        \r\n",
        "        try:\r\n",
        "          b = np.array(self.countMatcher(self.summarizeLexRank(), self.paragraph_no))\r\n",
        "        except:\r\n",
        "          b = np.zeros_like(a)\r\n",
        "        c = np.array(self.countMatcher(self.summarizeTextRank(),self.paragraph_no))\r\n",
        "        result= a+b+c\r\n",
        "        i, = np.where(result == max(result))\r\n",
        "        txt, index = self.docs[self.paragraph_no][i[0]], i[0]\r\n",
        "        return txt, index"
      ],
      "execution_count": null,
      "outputs": []
    },
    {
      "cell_type": "code",
      "metadata": {
        "id": "QvhPe7pamSUn",
        "colab": {
          "base_uri": "https://localhost:8080/"
        },
        "outputId": "eb1350fc-84dd-431b-ee2e-01877e2d77b2"
      },
      "source": [
        "result = chked\r\n",
        "high = Highlight(result)"
      ],
      "execution_count": null,
      "outputs": [
        {
          "output_type": "stream",
          "text": [
            "TEXT\n",
            "Highlight\n",
            "KEYLIST:  ['그런데', '바이러스', '바이러스', '바이러스', '바이러스', '바이러스', '따라서', '따라서', '따라서', '따라서', '직업에', '이런데', '노출도', '노출도', '노출도', '백신을', '백신에', '백신의', '백신의', '백신의', '백신이나', '맞춰야', '맞춰야지', '맞춰야', '맞춰야', '그렇게', '그렇게', '그렇게', '그래서', '그래서', '그래서', '문제가', '문제가', '문제들이', '문제를', '문제가', '목적에', '목적에', '목적에', '특성상', '특성상', '특성뿐만이', '때문에', '때문에', '때문에', '그래가지고', '가지고', '받아가지고', '있어가지고', '가지고', '가지고', '어떻게', '어떻게', '어떻게', '알고리즘으로', '알고리즘을', '알고리즘', '얘기를', '얘기를', '하면은', '종사하면', '하면은', '다른데', '다른게', '있어가지고', '있어서', '있어.', '아니면은', '아니라', '아니고요.', '아니면은', '사람들아', '사람들이', '사람들이', '적용하고', '적용해', '적용할', '활동하는', '야외활동이라던가', '활동이', '활동량이', '생각하기로는', '생각했습니다.', '생각을', '인구가', '인구밀도', '인구의', '달라진다.', '달라질', '달라지기']\n",
            "KEYWORDS:  [' 때문', ' 백신', ' 문제', ' 사람', ' 따라서', ' 가지', ' 특성', ' 알고리즘', ' 노출', ' 활동량', ' 목적', ' 다른', ' 종사', ' 적용', ' 직업', ' 얘기', ' 활동', ' 인구', ' 밀도', ' 바이러스', ' 야외', ' 생각']\n"
          ],
          "name": "stdout"
        }
      ]
    },
    {
      "cell_type": "code",
      "metadata": {
        "colab": {
          "base_uri": "https://localhost:8080/"
        },
        "id": "NCqcx5miWDX3",
        "outputId": "78639d01-8fbb-4b37-e73e-bd725c9d3742"
      },
      "source": [
        "summarizer = Summarize(chked, 0)\r\n",
        "sum, id = summarizer.ensembleSummarize()\r\n",
        "print(\"summarized \",sum)"
      ],
      "execution_count": null,
      "outputs": [
        {
          "output_type": "stream",
          "text": [
            "TEXT\n",
            "Highlight\n",
            "KEYLIST:  ['그런데', '바이러스', '바이러스', '바이러스', '바이러스', '바이러스', '따라서', '따라서', '따라서', '따라서', '직업에', '이런데', '노출도', '노출도', '노출도', '백신을', '백신에', '백신의', '백신의', '백신의', '백신이나', '맞춰야', '맞춰야지', '맞춰야', '맞춰야', '그렇게', '그렇게', '그렇게', '그래서', '그래서', '그래서', '문제가', '문제가', '문제들이', '문제를', '문제가', '목적에', '목적에', '목적에', '특성상', '특성상', '특성뿐만이', '때문에', '때문에', '때문에', '그래가지고', '가지고', '받아가지고', '있어가지고', '가지고', '가지고', '어떻게', '어떻게', '어떻게', '알고리즘으로', '알고리즘을', '알고리즘', '얘기를', '얘기를', '하면은', '종사하면', '하면은', '다른데', '다른게', '있어가지고', '있어서', '있어.', '아니면은', '아니라', '아니고요.', '아니면은', '사람들아', '사람들이', '사람들이', '적용하고', '적용해', '적용할', '활동하는', '야외활동이라던가', '활동이', '활동량이', '생각하기로는', '생각했습니다.', '생각을', '인구가', '인구밀도', '인구의', '달라진다.', '달라질', '달라지기']\n",
            "KEYWORDS:  [' 때문', ' 백신', ' 문제', ' 사람', ' 따라서', ' 가지', ' 특성', ' 알고리즘', ' 노출', ' 활동량', ' 목적', ' 다른', ' 종사', ' 적용', ' 직업', ' 얘기', ' 활동', ' 인구', ' 밀도', ' 바이러스', ' 야외', ' 생각']\n",
            "length of paragraphs  1\n",
            "BERT:  ['그 알고리즘으로 막상 해 놨길래 했는데 거기서 그 의료인들이 거의 다 빠지고 1순위에서 의료인들이 제일 필요한데 개를 다 빠지고 다른데 접종을 하는 것 때문에 막 난리가 났다고 그래가지고 알고리즘을 다시 만나기로 했어 나 뭐 이런 얘기 하다. 그렇다면 직업 특성상 재택근무가 아예 불가능한 집중된 섞여 있을 거 같은데 직업 특성뿐만이 아니라 그냥 바이러스 노출도 제일 중요한 거 같기도 하고 그 그게 이제 목적에 따라서 누굴 먼저 맞춰야 되니까 조금 다른게 그 감염률을 나 죽고 싶으면 네 사실 뭐랄까 제일 활발하게 활동하는 새끼들을 먼저 맞춰야지 그래야지 지금 뭐 그 퍼트리고 다니는 애들이 안 걸려 있으니까 그래서 그런 경우 조금 야외활동이라던가 이런 것들이 활동이 많은 젊은 층들이 맞춰야 되는 반면에 치사율을 낮추고자를 목표로 하면은 우선은 노인 인구가 가장 큰 높으니까 애들 먼저 맞춰야 된다 이런 일이 있어가지고 달달 말씀이시죠 목적에 따라 달라진다. 좀 계속 와 가지고 없는데 이 바이러스 바이러스 백신 저희가 여러 개가 있잖아요. 제가 아는 것만 정도 되는데 그 모든 백진희 백신에 대해서 최적화 알고리즘 나오는 건가요. 내일 각각 내가 문제를 적용할 수 있을 거니까 그 저도 얘기를 한번 해 보자면 그거 그렇게 이제 백신의 각각의 따라서 어떻게 그 최적화 모델 만드는 거는 조금 일을 키우는 거 같긴 한데 많은 얘기를 키우고 잘 맞는 것도 이제 따라서 달라질 수밖에 없는 게 콜드체인 방이 달라지기 때문에 어디에 어디에는 이거를 보내는 것이 더 비효율적일 수도 있고 가장 가까운 데에다가 나는 그냥 빠져 공급망을 사용하는 거는 문제가 없지만 막 멀리 있는 데까지 굳이 그런 걸 보내기에는 시간이나 이런 뭐 경제적인 제약이 있을 수 그런 그런 것까지 고려를 하는 거네 좀 후 순위 담긴 거 같고 그 민찬이 말씀했듯이 우선 가장 기본적인 모델은 재생산지수 같은 거를 이렇게 생각을 해 가지고 그 각 지역별로 그게 다르잖아요.']\n",
            "Lexrank:  ['그렇다면 직업 특성상 재택근무가 아예 불가능한 집중된 섞여 있을 거 같은데 직업 특성뿐만이 아니라 그냥 바이러스 노출도 제일 중요한 거 같기도 하고 그 그게 이제 목적에 따라서 누굴 먼저 맞춰야 되니까 조금 다른게 그 감염률을 나 죽고 싶으면 네 사실 뭐랄까 제일 활발하게 활동하는 새끼들을 먼저 맞춰야지 그래야지 지금 뭐 그 퍼트리고 다니는 애들이 안 걸려 있으니까 그래서 그런 경우 조금 야외활동이라던가 이런 것들이 활동이 많은 젊은 층들이 맞춰야 되는 반면에 치사율을 낮추고자를 목표로 하면은 우선은 노인 인구가 가장 큰 높으니까 애들 먼저 맞춰야 된다 이런 일이 있어가지고 달달 말씀이시죠 목적에 따라 달라진다', '내일 각각 내가 문제를 적용할 수 있을 거니까 그 저도 얘기를 한번 해 보자면 그거 그렇게 이제 백신의 각각의 따라서 어떻게 그 최적화 모델 만드는 거는 조금 일을 키우는 거 같긴 한데 많은 얘기를 키우고 잘 맞는 것도 이제 따라서 달라질 수밖에 없는 게 콜드체인 방이 달라지기 때문에 어디에 어디에는 이거를 보내는 것이 더 비효율적일 수도 있고 가장 가까운 데에다가 나는 그냥 빠져 공급망을 사용하는 거는 문제가 없지만 막 멀리 있는 데까지 굳이 그런 걸 보내기에는 시간이나 이런 뭐 경제적인 제약이 있을 수 그런 그런 것까지 고려를 하는 거네 좀 후 순위 담긴 거 같고 그 민찬이 말씀했듯이 우선 가장 기본적인 모델은 재생산지수 같은 거를 이렇게 생각을 해 가지고 그 각 지역별로 그게 다르잖아요']\n",
            "Textrank:  ['문제가 있었다', '그 알고리즘으로 막상 해 놨길래 했는데 거기서 그 의료인들이 거의 다 빠지고 1순위에서 의료인들이 제일 필요한데 개를 다 빠지고 다른데 접종을 하는 것 때문에 막 난리가 났다고 그래가지고 알고리즘을 다시 만나기로 했어 나 뭐 이런 얘기 하다', '그래서 거기서 어떻게 그 어떤 자료들을 사용을 한다면은 아까 말씀했듯이 그 바이러스 노출도 직업에 따른 바이러스 노출도 그러나 이 그걸 가진 크게 두 개로 받고 멜론에서 나이가 65세 이상 해결하는 거 아닌가 25세 이하라던가 하면은 그 조금 더 가산점을 주는 거라던가 아니면은 뭐 직업 특성상 뭐 그 의도가 이런데 종사하면 가산점을 주는 거고 근데 반면에 이제 조금 문제가 어떻게 될 수 있냐면 직업 특성 만 가지고 하면 내 막상 재택근무자 아들이라도 산업 군이 막 그런 그쪽에서 켜면은 태권도는 아무런 위험에 노출되어 있지 않은데 그런 식으로 바다 쪽으로 받아가지고 오히려 더 그런 그런 문제들이 아직 해결할 때 많이 남았다고 찾아왔어요', '굉장히 좋은 지적이십니다', '그렇다면 직업 특성상 재택근무가 아예 불가능한 집중된 섞여 있을 거 같은데 직업 특성뿐만이 아니라 그냥 바이러스 노출도 제일 중요한 거 같기도 하고 그 그게 이제 목적에 따라서 누굴 먼저 맞춰야 되니까 조금 다른게 그 감염률을 나 죽고 싶으면 네 사실 뭐랄까 제일 활발하게 활동하는 새끼들을 먼저 맞춰야지 그래야지 지금 뭐 그 퍼트리고 다니는 애들이 안 걸려 있으니까 그래서 그런 경우 조금 야외활동이라던가 이런 것들이 활동이 많은 젊은 층들이 맞춰야 되는 반면에 치사율을 낮추고자를 목표로 하면은 우선은 노인 인구가 가장 큰 높으니까 애들 먼저 맞춰야 된다 이런 일이 있어가지고 달달 말씀이시죠 목적에 따라 달라진다']\n",
            "summarized  그렇다면 직업 특성상 재택근무가 아예 불가능한 집중된 섞여 있을 거 같은데 직업 특성뿐만이 아니라 그냥 바이러스 노출도 제일 중요한 거 같기도 하고 그 그게 이제 목적에 따라서 누굴 먼저 맞춰야 되니까 조금 다른게 그 감염률을 나 죽고 싶으면 네 사실 뭐랄까 제일 활발하게 활동하는 새끼들을 먼저 맞춰야지 그래야지 지금 뭐 그 퍼트리고 다니는 애들이 안 걸려 있으니까 그래서 그런 경우 조금 야외활동이라던가 이런 것들이 활동이 많은 젊은 층들이 맞춰야 되는 반면에 치사율을 낮추고자를 목표로 하면은 우선은 노인 인구가 가장 큰 높으니까 애들 먼저 맞춰야 된다 이런 일이 있어가지고 달달 말씀이시죠 목적에 따라 달라진다.\n"
          ],
          "name": "stdout"
        }
      ]
    },
    {
      "cell_type": "code",
      "metadata": {
        "colab": {
          "base_uri": "https://localhost:8080/",
          "height": 70
        },
        "id": "bTkaatLht9lU",
        "outputId": "00ab8687-8461-489e-a22b-22d6c62754e3"
      },
      "source": [
        "sum"
      ],
      "execution_count": null,
      "outputs": [
        {
          "output_type": "execute_result",
          "data": {
            "application/vnd.google.colaboratory.intrinsic+json": {
              "type": "string"
            },
            "text/plain": [
              "'그렇다면 직업 특성상 재택근무가 아예 불가능한 집중된 섞여 있을 거 같은데 직업 특성뿐만이 아니라 그냥 바이러스 노출도 제일 중요한 거 같기도 하고 그 그게 이제 목적에 따라서 누굴 먼저 맞춰야 되니까 조금 다른게 그 감염률을 나 죽고 싶으면 네 사실 뭐랄까 제일 활발하게 활동하는 새끼들을 먼저 맞춰야지 그래야지 지금 뭐 그 퍼트리고 다니는 애들이 안 걸려 있으니까 그래서 그런 경우 조금 야외활동이라던가 이런 것들이 활동이 많은 젊은 층들이 맞춰야 되는 반면에 치사율을 낮추고자를 목표로 하면은 우선은 노인 인구가 가장 큰 높으니까 애들 먼저 맞춰야 된다 이런 일이 있어가지고 달달 말씀이시죠 목적에 따라 달라진다.'"
            ]
          },
          "metadata": {
            "tags": []
          },
          "execution_count": 118
        }
      ]
    },
    {
      "cell_type": "code",
      "metadata": {
        "id": "WISzsUJKzrrc"
      },
      "source": [
        " "
      ],
      "execution_count": null,
      "outputs": []
    },
    {
      "cell_type": "code",
      "metadata": {
        "id": "qYEgpAlrj-MI"
      },
      "source": [
        ""
      ],
      "execution_count": null,
      "outputs": []
    },
    {
      "cell_type": "markdown",
      "metadata": {
        "id": "Qv744gokBRfi"
      },
      "source": [
        "- 사용자 인식(speaker identification)이 됐으면 좋겠다 -- clova NOTE 사용시 해결\r\n",
        "\r\n",
        "> 무료 api는 supervised만 있는 듯\r\n",
        "\r\n",
        ">google speech api는 한국어 speaker diarization 지원 X\r\n",
        "\r\n",
        "- 시간단위로 잘리는 것 루프 만들기\r\n",
        "\r\n",
        "- 기본 웹프레임워크 만들기\r\n",
        "\r\n",
        "- 아웃풋 어떤 모양일지?\r\n"
      ]
    }
  ]
}