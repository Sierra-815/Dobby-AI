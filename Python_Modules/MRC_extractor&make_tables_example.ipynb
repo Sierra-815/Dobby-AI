{
  "nbformat": 4,
  "nbformat_minor": 0,
  "metadata": {
    "colab": {
      "name": "MRC_extractor&make_tables_example.ipynb",
      "provenance": [],
      "collapsed_sections": [],
      "authorship_tag": "ABX9TyOEEhc1hcJqmUhXOWTcCF2v",
      "include_colab_link": true
    },
    "kernelspec": {
      "name": "python3",
      "display_name": "Python 3"
    }
  },
  "cells": [
    {
      "cell_type": "markdown",
      "metadata": {
        "id": "view-in-github",
        "colab_type": "text"
      },
      "source": [
        "<a href=\"https://colab.research.google.com/github/superspray/11/blob/master/MRC_extractor%26make_tables_example.ipynb\" target=\"_parent\"><img src=\"https://colab.research.google.com/assets/colab-badge.svg\" alt=\"Open In Colab\"/></a>"
      ]
    },
    {
      "cell_type": "code",
      "metadata": {
        "id": "mF_Naapo84HV"
      },
      "source": [
        "import numpy as np\r\n",
        "import warnings\r\n",
        "warnings.filterwarnings(\"ignore\")\r\n",
        "!pip install transformers==3.3.0\r\n",
        "from transformers import AutoTokenizer, AutoModelForSequenceClassification\r\n",
        "!pip install word2number\r\n",
        "#import mrc_extractor\r\n",
        "\r\n",
        "\r\n"
      ],
      "execution_count": null,
      "outputs": []
    },
    {
      "cell_type": "code",
      "metadata": {
        "id": "gLoBPxpGwXwn"
      },
      "source": [
        "#queries 로 변경 \r\n",
        "\r\n",
        "import numpy as np\r\n",
        "import warnings\r\n",
        "warnings.filterwarnings(\"ignore\")\r\n",
        "from transformers import AutoTokenizer, AutoModelForSequenceClassification, pipeline\r\n",
        "\r\n",
        "\r\n",
        "class MRC_EXTRACTION:\r\n",
        "\r\n",
        "\tdef __init__(self, queries, full_context, max_seq_len=512, \\\r\n",
        "              trained_model1=\"amberoad/bert-multilingual-passage-reranking-msmarco\", \\\r\n",
        "              trained_model2=\"ahotrod/electra_large_discriminator_squad2_512\"):\r\n",
        "\t\tself.queries = queries\r\n",
        "\t\t#self.query = query\r\n",
        "\t\tself.full_context = full_context\r\n",
        "\t\tself.max_seq_len =  max_seq_len\r\n",
        "\t\tself.trained_model1 = trained_model1\r\n",
        "\t\tself.trained_model2 = trained_model2\r\n",
        "\t\tself.tokenizer = AutoTokenizer.from_pretrained(self.trained_model1)\r\n",
        "\t\tself.model = AutoModelForSequenceClassification.from_pretrained(self.trained_model1)\r\n",
        "\t\tself.model_name = self.trained_model2\r\n",
        "\t\t\t\t#deepset/electra-base-squad2 \r\n",
        "\t\t\t\t#twmkn9/distilbert-base-uncased-squad2\r\n",
        "\t\tself.nlp = pipeline('question-answering', model=self.model_name, tokenizer=self.model_name)\r\n",
        "\r\n",
        "\r\n",
        "\tdef get_sep_passages(self):\r\n",
        "\t\t# <br> 처리 & ' 처리된 text\r\n",
        "\t\tcontext=[ x for x in self.full_context.split('<br>') if x]\r\n",
        "\t\tn_text=len(context)\r\n",
        "\t\tn_token_query = max([len(self.tokenizer(query)['input_ids']) for query in self.queries]) + 1\r\n",
        "\r\n",
        "\t\ti=0\r\n",
        "\t\ttexts=[]\r\n",
        "\t\twhile i<= n_text-1:\r\n",
        "\t\t\tindex=i+1\r\n",
        "\t\t\twhile index<=n_text-1:\r\n",
        "\t\t\t\tif len(self.tokenizer(\" \".join(context[i:index+1]))['input_ids']) > self.max_seq_len-n_token_query:\r\n",
        "\t\t\t\t\tbreak;\r\n",
        "\t\t\t\tindex += 1\r\n",
        "\t\t\ttexts.append(\" \".join(context[i: index]))\r\n",
        "\t\t\ti=index\r\n",
        "\t\treturn texts\r\n",
        "\r\n",
        "\t# Model 1 \r\n",
        "\tdef passage_reranking(self):\r\n",
        "\r\n",
        "\t\ttexts = self.get_sep_passages()\r\n",
        "\t\tranked_texts = {}\r\n",
        "\r\n",
        "\t\tfor query in self.queries:\r\n",
        "\t\t\tscores = []\r\n",
        "\t\t\tfor text in texts: \r\n",
        "\t\t\t\tinputs = self.tokenizer.encode_plus(query, text, truncation=True, add_special_tokens=True, return_tensors=\"pt\",max_length=512)\r\n",
        "\t\t\t\tinput_ids = inputs[\"input_ids\"].tolist()[0]\r\n",
        "\t\t\t\tscore = self.model(**inputs)[0][0][1]\r\n",
        "\t\t\t\tscores.append(score)\r\n",
        "\t\t\tranked_texts[query] = np.array(texts)[np.array(scores).argsort()[::-1]]\r\n",
        "\r\n",
        "\t\treturn ranked_texts\r\n",
        "\r\n",
        "\t# arg 형태 및 에러 관련 수정사항 추가할 것\r\n",
        "\t# Model 2 \r\n",
        "\tdef get_answer(self, query, context):\r\n",
        "\r\n",
        "\t\tQA_input = {\r\n",
        "\t\t'question': query,\r\n",
        "\t\t'context': context\r\n",
        "\t\t}\r\n",
        "\t\tres = self.nlp(QA_input, model_max_length=self.max_seq_len) # max_question_len=64\r\n",
        "\t\treturn query, res['answer'], res['score']\r\n",
        "\r\n",
        "\tdef get_topN_answers(self, max_texts=3, n_answer=1):\r\n",
        "\r\n",
        "\t\ttexts = self.passage_reranking()\r\n",
        "\t\tn_texts=len(texts[list(texts.keys())[0]])\r\n",
        "\r\n",
        "\t\tqa_result={}\r\n",
        "\t\tfor query in self.queries:\r\n",
        "\t\t\tres={}\r\n",
        "\t\t\tfor i in range(min(n_texts, max_texts)):\r\n",
        "\t\t\t\tresult = self.get_answer(query=query, context=texts[query][i])\r\n",
        "\t\t\t\tres[i] = (result[1], result[2])\r\n",
        "\t\t\tres = sorted(res.items(), key=lambda x: x[1][1], reverse=True)\r\n",
        "\t\t\tanswers = [x[1][0] for x in res[:n_answer]] #candidates\r\n",
        "\t\t\tif n_answer==1:\r\n",
        "\t\t\t\tanswers=answers[0]\r\n",
        "\t\t\tqa_result[query]=answers\r\n",
        "\t\treturn qa_result\r\n",
        "\r\n",
        "\r\n",
        "\r\n"
      ],
      "execution_count": null,
      "outputs": []
    },
    {
      "cell_type": "code",
      "metadata": {
        "colab": {
          "base_uri": "https://localhost:8080/"
        },
        "id": "RDTdPpb39A-4",
        "outputId": "60b248d5-7a59-4a35-93c0-632cb8a52dc2"
      },
      "source": [
        "full=\"2021.02.14. 16:03 We're starting 3rd KIC Project Progress Check meeting.  The attendees of today's meeting are Erin, Kim, Steven, Sierra, Koo, and Jeon.   Shall we begin our meeting?  So we have two main agendas for today.  Why don't we start with Kim and talk about the first agenda?    Kim  The first thing we need to discuss about is what API we should use.  So I have been searching up APIs and found 5 products, but the ones worth talking about are 2, one made by Google and the other made by IBM. Both of them have pretty much similar quality I think. They can interpret the words well and transcribe them with high accuracy. The bottom line is, Google and IBM works the best.     Erin  Oh I have used Google API before. Isn't it kinda bad? The accuracy is not so great isn't it?     Kim  I think the accuracy and the level of completion is different between the free version and premium paid version. Since we can still use the premium paid version for free during trial period, we should do that.    Erin   Alright then, could you please use the premium version and see how it works out? After that let's select the API and do some coding works to get them to function. You should work with Sierra on that Can we do this by next meeting which we should hold on the 12th?    Kim   Okay, so we have two action items for this. First thing is to evaluate Google Premium API, and i will do that. The next item is to confirm API and edit the code, me, Kim and Sierra will    Erin  Next is Steven, please update us with your interface works, the second agenda for this meeting.     Steven  Well I haven't been very productive with my task so please excuse me. What I did do however is I searched up some already-available services for Ai automated transcription services. There were two that I found to be somewhat relevant to what we were doing: Otter.ai and Deeptalk. Fortunately both of them have yet developed ways to produce meeting notes or minute so if we can get it done, we would be the first to do so. I will get the interface design by today and the rest of the work including homepage feedback by the next meeting on the 12th.    Erin   alright. Steven will have two tasks for the second agenda. First one is to get the interface design by today. Second is to give some Homepage feedback by the next meeting.  \"\r\n",
        "\r\n",
        "sj=MRC_EXTRACTION(query, full)\r\n",
        "\r\n",
        "sj.get_sep_passages()"
      ],
      "execution_count": null,
      "outputs": [
        {
          "output_type": "execute_result",
          "data": {
            "text/plain": [
              "[\"2021.02.14. 16:03 We're starting 3rd KIC Project Progress Check meeting.  The attendees of today's meeting are Erin, Kim, Steven, Sierra, Koo, and Jeon.   Shall we begin our meeting?  So we have two main agendas for today.  Why don't we start with Kim and talk about the first agenda?    Kim  The first thing we need to discuss about is what API we should use.  So I have been searching up APIs and found 5 products, but the ones worth talking about are 2, one made by Google and the other made by IBM. Both of them have pretty much similar quality I think. They can interpret the words well and transcribe them with high accuracy. The bottom line is, Google and IBM works the best.     Erin  Oh I have used Google API before. Isn't it kinda bad? The accuracy is not so great isn't it?     Kim  I think the accuracy and the level of completion is different between the free version and premium paid version. Since we can still use the premium paid version for free during trial period, we should do that.    Erin   Alright then, could you please use the premium version and see how it works out? After that let's select the API and do some coding works to get them to function. You should work with Sierra on that Can we do this by next meeting which we should hold on the 12th?    Kim   Okay, so we have two action items for this. First thing is to evaluate Google Premium API, and i will do that. The next item is to confirm API and edit the code, me, Kim and Sierra will    Erin  Next is Steven, please update us with your interface works, the second agenda for this meeting.     Steven  Well I haven't been very productive with my task so please excuse me. What I did do however is I searched up some already-available services for Ai automated transcription services. There were two that I found to be somewhat relevant to what we were doing: Otter.ai and Deeptalk. Fortunately both of them have yet developed ways to produce meeting notes or minute so if we can get it done, we would be the first to do so. I will get the interface design by today and the rest of the work including homepage feedback by the next meeting on the 12th.    Erin   alright. Steven will have two tasks for the second agenda. First one is to get the interface design by today. Second is to give some Homepage feedback by the next meeting.  \"]"
            ]
          },
          "metadata": {
            "tags": []
          },
          "execution_count": 58
        }
      ]
    },
    {
      "cell_type": "code",
      "metadata": {
        "id": "vI1Fg62Y9cVT"
      },
      "source": [
        ""
      ],
      "execution_count": null,
      "outputs": []
    },
    {
      "cell_type": "code",
      "metadata": {
        "colab": {
          "base_uri": "https://localhost:8080/",
          "height": 524,
          "referenced_widgets": [
            "1d68d2ce29bd4a2095c25668d4c1831e",
            "8c9905b7db484649bf247c88262ce4d0",
            "de65925651244f8bb165dd4c7643a59b",
            "f76a12807def4bf3a763d4766e9536ff",
            "7946481c101b42748294a029193cbb89",
            "d9cdc50b1ca6498ba3c1a9f116bb8c23",
            "3d931919b4844c6194602165c9d7a130",
            "defd39cc87a44c50841d3ff2c02a0606",
            "fb966b6ba9b44fe096c2af864e1b73fe",
            "176b5cbe7e4f435dacff942fc1541cd0",
            "2e7c2f3a7db644dd8baf856f8d6d4e79",
            "6a89c3037e4d48b8b4b1ddda1808f61c",
            "ef5bbc0a36814746a2ad0b6501a25aa3",
            "ab23e7b5adc043bd961f2173ae5e3a2b",
            "37ba76fdd85240d188142773f888df2d",
            "4dcd04a9250240f08c0212eeff480629",
            "65ed33164a914d1e9d4af316cb2bf18e",
            "6907e6f4d06d4c8484f9c147fa5008f0",
            "b20ee95e332a44e687b8f6cc37015178",
            "c2eda938390b44d7a2045aea80b0538d",
            "e75060c437654aba929dc55d3b31db12",
            "c4b523f694084e2c9c5bdd3a8c3db926",
            "ed65db20ae6c4c45a87cb0fda1dad871",
            "bf443bf0abc74b5eb4ec6076300d8a2c",
            "b516e9c8bf1f4e048dcdd56f105050cf",
            "6abe8bbe705a430bb1af6c7c62c18c3f",
            "b6609aa693fa451e98a2260d454436f1",
            "c70db235aff84b37a35224cbae4f3f20",
            "56202bcd6d5042108c97fd75a0277dee",
            "5fe12c56c1704e469d06875cf507856a",
            "98b7d8282ba9425daf8fa23950f60af8",
            "e4f31441f528470c9ff0e4e62783b6c0",
            "148a5124336f457d8169862fee30ac68",
            "4777ed4ac6e54429a1ad67438d9e958f",
            "d208badc38dd4ec1bb8ac7bf83cade52",
            "840d80f458e9422e872bea1bd3fb9b9f",
            "212ac4157c524d9abdf36c2b6e93ed47",
            "195cd945fb264b4e96cbd4803d3c7108",
            "eab78c7e168a43b1bf9e91fa159128f9",
            "1eaa4476fca24499bc4545e0980f4188",
            "aaaff2c6b7f4433eb576ed9cb8d90174",
            "050673955c284aff8d10f9e72e67671c",
            "1c59ef9bbe22417b9cc93e95761b2c2e",
            "957f2692ea5c419bb5dfbe3544d563e1",
            "858986d543b84c689afe6dec37817ca6",
            "abc73caf5e5849238a8af45140fbe26d",
            "c283a179471c4b58893f58600014c53d",
            "5607b5e0d10e41c5b07703e73f3e0c40",
            "2cc8f9246ce64929843dac57b92e99b7",
            "1ab9cc3e48d24f0cb8c1238a786648e7",
            "eb8d821287a24eda850fd3d454208cdd",
            "88446ee2ec2e4b249c16443d1f0329e6",
            "b4c937a6bfc74f43be0ba1382dcfcedb",
            "f3766cef5dd848febb589a6ae1483241",
            "3bef07f2ad844f02b0c4371c5e5db27a",
            "4c95c75a63654795a252eeec246fb7e2",
            "06ccfc0a0ada4c51acc7a5b14c896df5",
            "1effc8ea098b4901ba7ac75d41b02ee6",
            "0e0a91400a6242138e47bb5336068b5e",
            "6793d28e294b4b41896e846295f6f6f7",
            "575b0ca2d82249a3a0107ed0396a8265",
            "c7981f5f673e44459b97e78d08f99a0b",
            "aff248c3ac7f4f92a5fe7a21fec15ad2",
            "5f8adea39e1f42c8ac0a195dba8dce7d",
            "c699f6506ee74921a2beffb500702d07",
            "97c04d18da50414da06be18059cc820a",
            "5a429ae503ab4eed96ac1f77c15512ec",
            "b415fbb13a6d4ef5acd4d7840ca6b446",
            "f6ca9dd0e7674bcbb49ec04f62337dbe",
            "489759d5c1934c48a90522bebc1d4e27",
            "440a0a77efc1433ab8b3d0737bd791bf",
            "d6dbac44744f4a99b03a67756a505465",
            "2d3b506acf7142dfa4fc9c4d3513149b",
            "acdef35bd1254ed4bc4cc4e8db2eabcd",
            "937db0049b9a45d7975fc063feeb5781",
            "0afd7f0d29ab4ad3892f8b57cd07e258",
            "6d77ea0ac604467796e799cce05dc93d",
            "3768b5b2c5624bb8b616e0de14a64724",
            "ba14853c4ac34e46b66bddb35aa7c3c0",
            "91cfdb2a67b94a7283537db0379e7b2a"
          ]
        },
        "id": "TdfGtXbwuheN",
        "outputId": "15a6c0d0-0028-4c44-cded-b86f2e337427"
      },
      "source": [
        "#full=\"2021.02.14. 16:03  Erin  Hi everyone, We're starting 3rd KIC Project Progress Check meeting.  The attendees of today's meeting are Erin, Kim, Steven, Sierra, Koo, and Jeon.   Shall we begin our meeting?  So we have two main agendas for today.  Why don't we start with Kim and talk about the first agenda?    Kim  The first thing we need to discuss about is what API we should use.  So I have been searching up APIs and found 5 products, but the ones worth talking about are 2, one made by Google and the other made by IBM. Both of them have pretty much similar quality I think. They can interpret the words well and transcribe them with high accuracy. The bottom line is, Google and IBM works the best.     Erin  Oh I have used Google API before. Isn't it kinda bad? The accuracy is not so great isn't it?     Kim  I think the accuracy and the level of completion is different between the free version and premium paid version. Since we can still use the premium paid version for free during trial period, we should do that.    Erin   Alright then, could you please use the premium version and see how it works out? After that let's select the API and do some coding works to get them to function. You should work with Sierra on that Can we do this by next meeting which we should hold on the 12th?    Kim   Okay, so we have two action items for this. First thing is to evaluate Google Premium API, and i will do that. The next item is to confirm API and edit the code, me, Kim and Sierra will    Erin  Next is Steven, please update us with your interface works, the second agenda for this meeting.     Steven  Well I haven't been very productive with my task so please excuse me. What I did do however is I searched up some already-available services for Ai automated transcription services. There were two that I found to be somewhat relevant to what we were doing: Otter.ai and Deeptalk. Fortunately both of them have yet developed ways to produce meeting notes or minute so if we can get it done, we would be the first to do so. I will get the interface design by today and the rest of the work including homepage feedback by the next meeting on the 12th.\"\r\n",
        "query=['who are the attendees at the meeting?',\r\n",
        "\t'what was the main topic of the meeting?'\r\n",
        "\t]\r\n",
        "\r\n",
        "mrc=MRC_EXTRACTION(query, full)\r\n"
      ],
      "execution_count": null,
      "outputs": [
        {
          "output_type": "display_data",
          "data": {
            "application/vnd.jupyter.widget-view+json": {
              "model_id": "1d68d2ce29bd4a2095c25668d4c1831e",
              "version_minor": 0,
              "version_major": 2
            },
            "text/plain": [
              "HBox(children=(FloatProgress(value=0.0, description='Downloading', max=696.0, style=ProgressStyle(description_…"
            ]
          },
          "metadata": {
            "tags": []
          }
        },
        {
          "output_type": "stream",
          "text": [
            "\n"
          ],
          "name": "stdout"
        },
        {
          "output_type": "display_data",
          "data": {
            "application/vnd.jupyter.widget-view+json": {
              "model_id": "fb966b6ba9b44fe096c2af864e1b73fe",
              "version_minor": 0,
              "version_major": 2
            },
            "text/plain": [
              "HBox(children=(FloatProgress(value=0.0, description='Downloading', max=871891.0, style=ProgressStyle(descripti…"
            ]
          },
          "metadata": {
            "tags": []
          }
        },
        {
          "output_type": "stream",
          "text": [
            "\n"
          ],
          "name": "stdout"
        },
        {
          "output_type": "display_data",
          "data": {
            "application/vnd.jupyter.widget-view+json": {
              "model_id": "65ed33164a914d1e9d4af316cb2bf18e",
              "version_minor": 0,
              "version_major": 2
            },
            "text/plain": [
              "HBox(children=(FloatProgress(value=0.0, description='Downloading', max=112.0, style=ProgressStyle(description_…"
            ]
          },
          "metadata": {
            "tags": []
          }
        },
        {
          "output_type": "stream",
          "text": [
            "\n"
          ],
          "name": "stdout"
        },
        {
          "output_type": "display_data",
          "data": {
            "application/vnd.jupyter.widget-view+json": {
              "model_id": "b516e9c8bf1f4e048dcdd56f105050cf",
              "version_minor": 0,
              "version_major": 2
            },
            "text/plain": [
              "HBox(children=(FloatProgress(value=0.0, description='Downloading', max=62.0, style=ProgressStyle(description_w…"
            ]
          },
          "metadata": {
            "tags": []
          }
        },
        {
          "output_type": "stream",
          "text": [
            "\n"
          ],
          "name": "stdout"
        },
        {
          "output_type": "display_data",
          "data": {
            "application/vnd.jupyter.widget-view+json": {
              "model_id": "148a5124336f457d8169862fee30ac68",
              "version_minor": 0,
              "version_major": 2
            },
            "text/plain": [
              "HBox(children=(FloatProgress(value=0.0, description='Downloading', max=669478888.0, style=ProgressStyle(descri…"
            ]
          },
          "metadata": {
            "tags": []
          }
        },
        {
          "output_type": "stream",
          "text": [
            "\n"
          ],
          "name": "stdout"
        },
        {
          "output_type": "display_data",
          "data": {
            "application/vnd.jupyter.widget-view+json": {
              "model_id": "aaaff2c6b7f4433eb576ed9cb8d90174",
              "version_minor": 0,
              "version_major": 2
            },
            "text/plain": [
              "HBox(children=(FloatProgress(value=0.0, description='Downloading', max=475.0, style=ProgressStyle(description_…"
            ]
          },
          "metadata": {
            "tags": []
          }
        },
        {
          "output_type": "stream",
          "text": [
            "\n"
          ],
          "name": "stdout"
        },
        {
          "output_type": "display_data",
          "data": {
            "application/vnd.jupyter.widget-view+json": {
              "model_id": "2cc8f9246ce64929843dac57b92e99b7",
              "version_minor": 0,
              "version_major": 2
            },
            "text/plain": [
              "HBox(children=(FloatProgress(value=0.0, description='Downloading', max=231508.0, style=ProgressStyle(descripti…"
            ]
          },
          "metadata": {
            "tags": []
          }
        },
        {
          "output_type": "stream",
          "text": [
            "\n"
          ],
          "name": "stdout"
        },
        {
          "output_type": "display_data",
          "data": {
            "application/vnd.jupyter.widget-view+json": {
              "model_id": "06ccfc0a0ada4c51acc7a5b14c896df5",
              "version_minor": 0,
              "version_major": 2
            },
            "text/plain": [
              "HBox(children=(FloatProgress(value=0.0, description='Downloading', max=112.0, style=ProgressStyle(description_…"
            ]
          },
          "metadata": {
            "tags": []
          }
        },
        {
          "output_type": "stream",
          "text": [
            "\n"
          ],
          "name": "stdout"
        },
        {
          "output_type": "display_data",
          "data": {
            "application/vnd.jupyter.widget-view+json": {
              "model_id": "c699f6506ee74921a2beffb500702d07",
              "version_minor": 0,
              "version_major": 2
            },
            "text/plain": [
              "HBox(children=(FloatProgress(value=0.0, description='Downloading', max=48.0, style=ProgressStyle(description_w…"
            ]
          },
          "metadata": {
            "tags": []
          }
        },
        {
          "output_type": "stream",
          "text": [
            "\n"
          ],
          "name": "stdout"
        },
        {
          "output_type": "display_data",
          "data": {
            "application/vnd.jupyter.widget-view+json": {
              "model_id": "2d3b506acf7142dfa4fc9c4d3513149b",
              "version_minor": 0,
              "version_major": 2
            },
            "text/plain": [
              "HBox(children=(FloatProgress(value=0.0, description='Downloading', max=1336478856.0, style=ProgressStyle(descr…"
            ]
          },
          "metadata": {
            "tags": []
          }
        },
        {
          "output_type": "stream",
          "text": [
            "\n"
          ],
          "name": "stdout"
        }
      ]
    },
    {
      "cell_type": "code",
      "metadata": {
        "colab": {
          "base_uri": "https://localhost:8080/"
        },
        "id": "mBPrwlCaJJJa",
        "outputId": "8463b310-f7b3-4ef5-e8b9-710d00778de3"
      },
      "source": [
        "answers=mrc.get_topN_answers()\r\n",
        "answers"
      ],
      "execution_count": null,
      "outputs": [
        {
          "output_type": "execute_result",
          "data": {
            "text/plain": [
              "{'what was the conclusion of the first agenda?': 'Google and IBM works the best.',\n",
              " 'what was the first action item of the first agenda?': 'evaluate Google Premium API,',\n",
              " 'what was the main topic of the meeting?': 'KIC Project Progress Check',\n",
              " 'what was the topic of the first agenda?': 'what API we should use.',\n",
              " 'when is the deadline of the first action item?': 'evaluate Google Premium API,',\n",
              " 'who are the attendees at the meeting?': 'Erin, Kim, Steven, Sierra, Koo, and Jeon.',\n",
              " 'who is responsible for the first action item?': 'Kim',\n",
              " 'who was the presenter of the first agenda?': 'Kim'}"
            ]
          },
          "metadata": {
            "tags": []
          },
          "execution_count": 45
        }
      ]
    },
    {
      "cell_type": "code",
      "metadata": {
        "colab": {
          "base_uri": "https://localhost:8080/",
          "height": 294
        },
        "id": "_rBf6WF7HcLb",
        "outputId": "fbaf46a1-3233-4d12-c98c-acb07510eca7"
      },
      "source": [
        "import pandas as pd\r\n",
        "questions={'table_top': {\r\n",
        "\t'Participants':'who are the attendees at the meeting?',\r\n",
        "\t'Topic':'what was the main topic of the meeting?'\r\n",
        "\t},\r\n",
        " 'table_mid_v1': {\r\n",
        "\t'Discussion Topic':'what was the topic of the first agenda?',\r\n",
        "\t'Presenter':'who was the presenter of the first agenda?',\r\n",
        "\t'Conclusion':'what was the conclusion of the first agenda?'\r\n",
        "\t},\r\n",
        " 'table_mid_v2': {\r\n",
        "\t'Action Items':'what was the first ?',\r\n",
        "\t'Person Responsible':'who was the presenter of the first agenda?',\r\n",
        "\t'Deadline':'what was the deadline of the first action item?'\r\n",
        "\t}\r\n",
        "}\r\n",
        "df=pd.DataFrame(di)\r\n",
        "df"
      ],
      "execution_count": null,
      "outputs": [
        {
          "output_type": "execute_result",
          "data": {
            "text/html": [
              "<div>\n",
              "<style scoped>\n",
              "    .dataframe tbody tr th:only-of-type {\n",
              "        vertical-align: middle;\n",
              "    }\n",
              "\n",
              "    .dataframe tbody tr th {\n",
              "        vertical-align: top;\n",
              "    }\n",
              "\n",
              "    .dataframe thead th {\n",
              "        text-align: right;\n",
              "    }\n",
              "</style>\n",
              "<table border=\"1\" class=\"dataframe\">\n",
              "  <thead>\n",
              "    <tr style=\"text-align: right;\">\n",
              "      <th></th>\n",
              "      <th>table_top</th>\n",
              "      <th>table_mid_v1</th>\n",
              "      <th>table_mid_v2</th>\n",
              "    </tr>\n",
              "  </thead>\n",
              "  <tbody>\n",
              "    <tr>\n",
              "      <th>Participants</th>\n",
              "      <td>who are the attendees at the meeting?</td>\n",
              "      <td>NaN</td>\n",
              "      <td>NaN</td>\n",
              "    </tr>\n",
              "    <tr>\n",
              "      <th>Topic</th>\n",
              "      <td>what was the main topic of the meeting?</td>\n",
              "      <td>NaN</td>\n",
              "      <td>NaN</td>\n",
              "    </tr>\n",
              "    <tr>\n",
              "      <th>Discussion Topic</th>\n",
              "      <td>NaN</td>\n",
              "      <td>what was the topic of the first agenda?</td>\n",
              "      <td>NaN</td>\n",
              "    </tr>\n",
              "    <tr>\n",
              "      <th>Presenter</th>\n",
              "      <td>NaN</td>\n",
              "      <td>who was the presenter of the first agenda?</td>\n",
              "      <td>NaN</td>\n",
              "    </tr>\n",
              "    <tr>\n",
              "      <th>Conclusion</th>\n",
              "      <td>NaN</td>\n",
              "      <td>what was the conclusion of the first agenda?</td>\n",
              "      <td>NaN</td>\n",
              "    </tr>\n",
              "    <tr>\n",
              "      <th>Action Items</th>\n",
              "      <td>NaN</td>\n",
              "      <td>NaN</td>\n",
              "      <td>what was the first ?</td>\n",
              "    </tr>\n",
              "    <tr>\n",
              "      <th>Person Responsible</th>\n",
              "      <td>NaN</td>\n",
              "      <td>NaN</td>\n",
              "      <td>who was the presenter of the first agenda?</td>\n",
              "    </tr>\n",
              "    <tr>\n",
              "      <th>Deadline</th>\n",
              "      <td>NaN</td>\n",
              "      <td>NaN</td>\n",
              "      <td>what was the deadline of the first action item?</td>\n",
              "    </tr>\n",
              "  </tbody>\n",
              "</table>\n",
              "</div>"
            ],
            "text/plain": [
              "                                                  table_top  ...                                     table_mid_v2\n",
              "Participants          who are the attendees at the meeting?  ...                                              NaN\n",
              "Topic               what was the main topic of the meeting?  ...                                              NaN\n",
              "Discussion Topic                                        NaN  ...                                              NaN\n",
              "Presenter                                               NaN  ...                                              NaN\n",
              "Conclusion                                              NaN  ...                                              NaN\n",
              "Action Items                                            NaN  ...                             what was the first ?\n",
              "Person Responsible                                      NaN  ...       who was the presenter of the first agenda?\n",
              "Deadline                                                NaN  ...  what was the deadline of the first action item?\n",
              "\n",
              "[8 rows x 3 columns]"
            ]
          },
          "metadata": {
            "tags": []
          },
          "execution_count": 66
        }
      ]
    },
    {
      "cell_type": "code",
      "metadata": {
        "colab": {
          "base_uri": "https://localhost:8080/",
          "height": 294
        },
        "id": "CIlQF89KHcVq",
        "outputId": "ce044b71-c867-4dfa-88c3-77377c6d61f9"
      },
      "source": [
        "df=df.replace(answers)\r\n",
        "df"
      ],
      "execution_count": null,
      "outputs": [
        {
          "output_type": "execute_result",
          "data": {
            "text/html": [
              "<div>\n",
              "<style scoped>\n",
              "    .dataframe tbody tr th:only-of-type {\n",
              "        vertical-align: middle;\n",
              "    }\n",
              "\n",
              "    .dataframe tbody tr th {\n",
              "        vertical-align: top;\n",
              "    }\n",
              "\n",
              "    .dataframe thead th {\n",
              "        text-align: right;\n",
              "    }\n",
              "</style>\n",
              "<table border=\"1\" class=\"dataframe\">\n",
              "  <thead>\n",
              "    <tr style=\"text-align: right;\">\n",
              "      <th></th>\n",
              "      <th>table_top</th>\n",
              "      <th>table_mid_v1</th>\n",
              "      <th>table_mid_v2</th>\n",
              "    </tr>\n",
              "  </thead>\n",
              "  <tbody>\n",
              "    <tr>\n",
              "      <th>Participants</th>\n",
              "      <td>Erin, Kim, Steven, Sierra, Koo, and Jeon.</td>\n",
              "      <td>NaN</td>\n",
              "      <td>NaN</td>\n",
              "    </tr>\n",
              "    <tr>\n",
              "      <th>Topic</th>\n",
              "      <td>KIC Project Progress Check</td>\n",
              "      <td>NaN</td>\n",
              "      <td>NaN</td>\n",
              "    </tr>\n",
              "    <tr>\n",
              "      <th>Discussion Topic</th>\n",
              "      <td>NaN</td>\n",
              "      <td>what API we should use.</td>\n",
              "      <td>NaN</td>\n",
              "    </tr>\n",
              "    <tr>\n",
              "      <th>Presenter</th>\n",
              "      <td>NaN</td>\n",
              "      <td>Kim</td>\n",
              "      <td>NaN</td>\n",
              "    </tr>\n",
              "    <tr>\n",
              "      <th>Conclusion</th>\n",
              "      <td>NaN</td>\n",
              "      <td>Google and IBM works the best.</td>\n",
              "      <td>NaN</td>\n",
              "    </tr>\n",
              "    <tr>\n",
              "      <th>Action Items</th>\n",
              "      <td>NaN</td>\n",
              "      <td>NaN</td>\n",
              "      <td>what was the first ?</td>\n",
              "    </tr>\n",
              "    <tr>\n",
              "      <th>Person Responsible</th>\n",
              "      <td>NaN</td>\n",
              "      <td>NaN</td>\n",
              "      <td>Kim</td>\n",
              "    </tr>\n",
              "    <tr>\n",
              "      <th>Deadline</th>\n",
              "      <td>NaN</td>\n",
              "      <td>NaN</td>\n",
              "      <td>what was the deadline of the first action item?</td>\n",
              "    </tr>\n",
              "  </tbody>\n",
              "</table>\n",
              "</div>"
            ],
            "text/plain": [
              "                                                    table_top  ...                                     table_mid_v2\n",
              "Participants        Erin, Kim, Steven, Sierra, Koo, and Jeon.  ...                                              NaN\n",
              "Topic                              KIC Project Progress Check  ...                                              NaN\n",
              "Discussion Topic                                          NaN  ...                                              NaN\n",
              "Presenter                                                 NaN  ...                                              NaN\n",
              "Conclusion                                                NaN  ...                                              NaN\n",
              "Action Items                                              NaN  ...                             what was the first ?\n",
              "Person Responsible                                        NaN  ...                                              Kim\n",
              "Deadline                                                  NaN  ...  what was the deadline of the first action item?\n",
              "\n",
              "[8 rows x 3 columns]"
            ]
          },
          "metadata": {
            "tags": []
          },
          "execution_count": 67
        }
      ]
    },
    {
      "cell_type": "code",
      "metadata": {
        "colab": {
          "base_uri": "https://localhost:8080/"
        },
        "id": "VA2h-MWmHtfr",
        "outputId": "04bd53b6-7ee9-47ac-9f52-3bb105c37de1"
      },
      "source": [
        "df.to_dict()"
      ],
      "execution_count": null,
      "outputs": [
        {
          "output_type": "execute_result",
          "data": {
            "text/plain": [
              "{'table_mid_v1': {'Action Items': nan,\n",
              "  'Conclusion': 'Google and IBM works the best.',\n",
              "  'Deadline': nan,\n",
              "  'Discussion Topic': 'what API we should use.',\n",
              "  'Participants': nan,\n",
              "  'Person Responsible': nan,\n",
              "  'Presenter': 'Kim',\n",
              "  'Topic': nan},\n",
              " 'table_mid_v2': {'Action Items': 'what was the first ?',\n",
              "  'Conclusion': nan,\n",
              "  'Deadline': 'what was the deadline of the first action item?',\n",
              "  'Discussion Topic': nan,\n",
              "  'Participants': nan,\n",
              "  'Person Responsible': 'Kim',\n",
              "  'Presenter': nan,\n",
              "  'Topic': nan},\n",
              " 'table_top': {'Action Items': nan,\n",
              "  'Conclusion': nan,\n",
              "  'Deadline': nan,\n",
              "  'Discussion Topic': nan,\n",
              "  'Participants': 'Erin, Kim, Steven, Sierra, Koo, and Jeon.',\n",
              "  'Person Responsible': nan,\n",
              "  'Presenter': nan,\n",
              "  'Topic': 'KIC Project Progress Check'}}"
            ]
          },
          "metadata": {
            "tags": []
          },
          "execution_count": 68
        }
      ]
    },
    {
      "cell_type": "code",
      "metadata": {
        "id": "BJDSmZFj9cbC"
      },
      "source": [
        ""
      ],
      "execution_count": null,
      "outputs": []
    },
    {
      "cell_type": "code",
      "metadata": {
        "id": "s9ygZk1L4ImJ"
      },
      "source": [
        "import numpy as np\r\n",
        "import warnings\r\n",
        "warnings.filterwarnings(\"ignore\")\r\n",
        "from transformers import AutoTokenizer, AutoModelForSequenceClassification, pipeline\r\n",
        "import mrc_extractor\r\n",
        "from mrc_extractor import MRC_EXTRACTION\r\n",
        "import pandas as pd\r\n",
        "from word2number import w2n\r\n",
        "\r\n",
        "query_dict_ex={'table_top': {\r\n",
        "\t'Participants':'who are the attendees at the meeting?',\r\n",
        "\t'Topic':'what was the main topic of the meeting?',\r\n",
        "    'num_agendas':'How many agendas?',\r\n",
        "    'num_act_items_1':'How many action items for the first agenda?', # 이후 일괄 처리 --> 질문 생성 함수 만들기\r\n",
        "    'num_act_items_2':'How many action items for the second agenda?' # 이후 일괄 처리 --> 질문 생성 함수 만들기\r\n",
        "\t},\r\n",
        " 'table_main1': {\r\n",
        "    'Discussion Topic':'what was the topic of the first agenda?',\r\n",
        "\t'Presenter':'who was the presenter of the first agenda?',\r\n",
        "\t'Conclusion':'what was the conclusion of the first agenda?'\r\n",
        " },\r\n",
        "  'table_main1_1':{\r\n",
        "\t'Action Item':'what was the first task for the first agenda ?',\r\n",
        "\t'Person Responsible':'who was responsible for the first task  of the first agenda?',\r\n",
        "\t'Deadline':'when is the deadline of the first task of the first agenda?'\r\n",
        "  },\r\n",
        "    'table_main1_2':{\r\n",
        "\t'Action Item':'what was the second task for the first agenda ?',\r\n",
        "\t'Person Responsible':'who was responsible for the second task  of the first agenda?',\r\n",
        "\t'Deadline':'when is the deadline of the second task of the first agenda?'\r\n",
        "  },\r\n",
        " 'table_main2': {\r\n",
        "    'Discussion Topic':'what was the topic of the second agenda?',\r\n",
        "\t'Presenter':'who was the presenter of the second agenda?',\r\n",
        "\t'Conclusion':'what was the conclusion of the second agenda?'\r\n",
        " },\r\n",
        "  'table_main2_1':{\r\n",
        "\t'Action Item':'what was the first task for the second agenda ?',\r\n",
        "\t'Person Responsible':'who was responsible for the first task  of the second agenda?',\r\n",
        "\t'Deadline':'when is the deadline of the first task of the second agenda?'\r\n",
        "  },\r\n",
        "    'table_main2_2':{\r\n",
        "\t'Action Item':'what was the second task for the second agenda ?',\r\n",
        "\t'Person Responsible':'who was responsible for the second task  of the second agenda?',\r\n",
        "\t'Deadline':'when is the deadline of the second task of the second agenda?'\r\n",
        "  }\r\n",
        "}\r\n",
        "\r\n",
        "\r\n",
        "## number  처리할것 \r\n",
        "#질문 부분 수정\r\n",
        "class make_tables:\r\n",
        "\r\n",
        "\tdef __init__(self, queries_dict, full_context, type='PPC'):\r\n",
        "\t\tself.date = full_context[:10] \r\n",
        "\t\tself.full_context =  full_context[22:]\r\n",
        "\t\t# if type=='PPC':\r\n",
        "\t\t# \tself.num_act_items, self.num_agendas = list(MRC_EXTRACTION.get_topN_answers( \\\r\n",
        "\t\t# \t\t['How many action items for the first agenda?','How many agendas?'], self.full_context).values())  #모델 학습 후 query로 몇개인지 찾기\r\n",
        "\r\n",
        "\t\t#질문 수정할 것\r\n",
        "\t\tqueries=[list(x.values()) for x in  list(queries_dict.values())]\r\n",
        "\t\tqueries = [item for sublist in queries for item in sublist]\r\n",
        "\r\n",
        "\t\tmrc = MRC_EXTRACTION(queries, self.full_context)\r\n",
        "\t\t\r\n",
        "\t\tanswers_list=mrc.get_topN_answers()\r\n",
        "\r\n",
        "\t\ttemp_df = pd.DataFrame(queries_dict)\r\n",
        "\t\tself.answers_dict=temp_df.replace(answers_list).to_dict()\r\n",
        "\t\tself.answers_dict['Date']=self.date\r\n",
        "\t\tprint(answers_list)\r\n",
        "\t\ttry: \r\n",
        "\t\t\tself.num_agendas=w2n.word_to_num(self.answers_dict['table_top']['num_agendas'])\r\n",
        "\t\t\tself.num_act_items={}\r\n",
        "\t\t\tfor i in range(1, 1+self.num_agendas):\r\n",
        "\t\t\t\ttry: \r\n",
        "\t\t\t\t\tself.num_act_items[i]=w2n.word_to_num(self.answers_dict['table_top']['num_act_items_'+str(i)])\r\n",
        "\t\t\t\texcept:\r\n",
        "\t\t\t\t\tself.num_act_items[i]=0\r\n",
        "\t\texcept:\r\n",
        "\t\t\tself.num_agendas=0\r\n",
        "\r\n",
        "\r\n",
        "\r\n",
        "\t# 회의록 공통 질문 및 agenda 내 첫번째 table용\r\n",
        "\tdef make_table_top(self, items=['Topic','Participants', 'Date'], loc='table_top'):\r\n",
        "\r\n",
        "\t\thtml_string = '<table class=\"table table-bordered\">'\r\n",
        "\r\n",
        "\t\tfor item in items:\r\n",
        "\t\t\ttemp='<tr><td><strong>'+item+'</strong></td>'\r\n",
        "\t\t\thtml_string+=temp\r\n",
        "\t\t\tif item=='Date':\r\n",
        "\t\t\t\tanswer_str = '<td>'+self.answers_dict[item]+'</td></tr>' \r\n",
        "\t\t\telse:\r\n",
        "\t\t\t\tanswer_str = '<td>'+self.answers_dict[loc][item]+'</td></tr>' \r\n",
        "\r\n",
        "\t\t\thtml_string+=answer_str\r\n",
        "\r\n",
        "\t\thtml_string+='</table>'\r\n",
        "\r\n",
        "\t\treturn html_string\r\n",
        "\r\n",
        "\r\n",
        "\t# agenda의 두번째 table용\r\n",
        "\tdef make_table_mid(self, n_act_items=0,items=['Action Item','Person Responsible', 'Deadline'], loc='table_main1'):\r\n",
        "\r\n",
        "\t\tif n_act_items==0:\r\n",
        "\t\t\treturn ''\r\n",
        "\t\thtml_string = '<table class=\"table addel table-bordered\" id=\"addel\"><tr>'\r\n",
        "\r\n",
        "\t\tfor item in items:\r\n",
        "\t\t\thtml_string += '<td><strong>'+item+'</strong></td>'\r\n",
        "\r\n",
        "\t\thtml_string+='</tr><tr>'\r\n",
        "\r\n",
        "\t\tfor i in range(1,1+n_act_items):\r\n",
        "\t\t\tfor item in items:\r\n",
        "\t\t\t\tanswer = '<td>'+self.answers_dict[loc+'_'+str(i)][item]+'</td>' # 답 나오게 수정\r\n",
        "\t\t\t\thtml_string += answer\r\n",
        "\r\n",
        "\t\thtml_string+='</tr>'\r\n",
        "\r\n",
        "\t\thtml_string+='<input type=\"button\" class=\"float\" value=\"Add\" id=\"addrow2\"></table>'\r\n",
        "\r\n",
        "\t\treturn html_string\r\n",
        "\r\n",
        "\r\n",
        "\t# 각 Agenda table 생성용\r\n",
        "\r\n",
        "\tdef make_table_final(self, type='PPC'):\r\n",
        "\r\n",
        "\t\thtml_string = self.make_table_top()\r\n",
        "\t\tlabel = ''\r\n",
        "\t\tif type=='PPC':  \r\n",
        "\t\t\tlabel = 'Agenda'\r\n",
        "\t\tfor i in range(1, 1+self.num_agendas):\r\n",
        "\t\t\tloc='table_main'+str(i)\r\n",
        "\t\t\thtml_string += '<label><strong>'+label+' '+str(i)+'</strong></label>'\r\n",
        "\t\t\thtml_string += self.make_table_top(items=['Presenter', 'Discussion Topic', 'Conclusion'], loc=loc)# 이후 적절한 query로 수정\r\n",
        "\t\t\thtml_string += self.make_table_mid(self.num_act_items[i], loc=loc) # 수정\r\n",
        "\r\n",
        "\t\thtml_string += '<table class=\"table table-bordered\"><tr><td><strong>Additional Notes</strong></td></tr><tr><td></td></tr></table>' # 수정\r\n",
        "\t\treturn html_string\r\n",
        "\r\n",
        "\r\n"
      ],
      "execution_count": null,
      "outputs": []
    },
    {
      "cell_type": "code",
      "metadata": {
        "colab": {
          "base_uri": "https://localhost:8080/",
          "height": 187
        },
        "id": "OWrirZ33XerG",
        "outputId": "aff6be71-a16f-4712-b02e-66f669db8b3e"
      },
      "source": [
        "import time\r\n",
        "full=\"2021.02.14. 16:03 <br> Erin Hi everyone, We're starting 3rd KIC Project Progress Check meeting. <br> The attendees of today's meeting are Erin, Kim, Steven, Sierra, Koo, and Jeon.  <br> Shall we begin our meeting? <br> So we have two main agendas for today. <br> Why don't we start with Kim and talk about the first agenda? <br>  <br> Kim The first thing we need to discuss about is what API we should use. <br> So I have been searching up APIs and found 5 products, but the ones worth talking about are 2, one made by Google and the other made by IBM. Both of them have pretty much similar quality I think. They can interpret the words well and transcribe them with high accuracy. The bottom line is, Google and IBM works the best.  <br>  <br> Erin Oh I have used Google API before. Isn't it kinda bad? The accuracy is not so great isn't it?  <br>  <br> Kim I think the accuracy and the level of completion is different between the free version and premium paid version. Since we can still use the premium paid version for free during trial period, we should do that. <br>  <br> Erin Alright then, could you please use the premium version and see how it works out? After that let's select the API and do some coding works to get them to function. You should work with Sierra on that Can we do this by next meeting which we should hold on the 12th? <br>  <br> Kim Okay, so we have two action items for this. First thing is to evaluate Google Premium API, and i will do that. The next item is to confirm API and edit the code, me, Kim and Sierra will <br>  <br> Erin Next is Steven, please update us with your interface works, the second agenda for this meeting.  <br>  <br> Steven Well I haven't been very productive with my task so please excuse me. What I did do however is I searched up some already-available services for Ai automated transcription services. There were two that I found to be somewhat relevant to what we were doing: Otter.ai and Deeptalk. Fortunately both of them have yet developed ways to produce meeting notes or minute so if we can get it done, we would be the first to do so. I will get the interface design by today and the rest of the work including homepage feedback by the next meeting on the 12th. <br>  <br> Erin alright. Steven will have two tasks for the second agenda. First one is to get the interface design by today. Second is to give some Homepage feedback by the next meeting. <br> \"\r\n",
        "start=time.time()\r\n",
        "mtl=make_tables(query_dict_ex, full)\r\n",
        "result=mtl.make_table_final()\r\n",
        "print(time.strftime(\"%H:%M:%S\", time.gmtime(time.time()-start)))\r\n",
        "result"
      ],
      "execution_count": null,
      "outputs": [
        {
          "output_type": "stream",
          "text": [
            "{'who are the attendees at the meeting?': 'Erin, Kim, Steven, Sierra, Koo, and Jeon.', 'what was the main topic of the meeting?': 'KIC Project Progress Check', 'How many agendas?': 'two', 'How many action items for the first agenda?': 'two', 'How many action items for the second agenda?': 'two', 'what was the topic of the first agenda?': 'what API we should use.', 'who was the presenter of the first agenda?': 'Kim', 'what was the conclusion of the first agenda?': 'Google and IBM works the best.', 'what was the first task for the first agenda ?': 'evaluate Google Premium API,', 'who was responsible for the first task  of the first agenda?': 'Kim', 'when is the deadline of the first task of the first agenda?': 'today.', 'what was the second task for the first agenda ?': 'to confirm API and edit the code,', 'who was responsible for the second task  of the first agenda?': 'Steven,', 'when is the deadline of the second task of the first agenda?': 'by the next meeting on the 12th.', 'what was the topic of the second agenda?': 'interface works,', 'who was the presenter of the second agenda?': 'Steven,', 'what was the conclusion of the second agenda?': 'Google and IBM works the best.', 'what was the first task for the second agenda ?': 'evaluate Google Premium API,', 'who was responsible for the first task  of the second agenda?': 'Steven', 'when is the deadline of the first task of the second agenda?': 'today.', 'what was the second task for the second agenda ?': 'confirm API and edit the code,', 'who was responsible for the second task  of the second agenda?': 'Steven', 'when is the deadline of the second task of the second agenda?': 'the next meeting.'}\n",
            "00:03:52\n"
          ],
          "name": "stdout"
        },
        {
          "output_type": "execute_result",
          "data": {
            "application/vnd.google.colaboratory.intrinsic+json": {
              "type": "string"
            },
            "text/plain": [
              "'<table class=\"table table-bordered\"><tr><td><strong>Topic</strong></td><td>KIC Project Progress Check</td></tr><tr><td><strong>Participants</strong></td><td>Erin, Kim, Steven, Sierra, Koo, and Jeon.</td></tr><tr><td><strong>Date</strong></td><td>2021.02.14</td></tr></table><label><strong>Agenda 1</strong></label><table class=\"table table-bordered\"><tr><td><strong>Presenter</strong></td><td>Kim</td></tr><tr><td><strong>Discussion Topic</strong></td><td>what API we should use.</td></tr><tr><td><strong>Conclusion</strong></td><td>Google and IBM works the best.</td></tr></table><table class=\"table addel table-bordered\" id=\"addel\"><tr><td><strong>Action Item</strong></td><td><strong>Person Responsible</strong></td><td><strong>Deadline</strong></td></tr><tr><td>evaluate Google Premium API,</td><td>Kim</td><td>today.</td><td>to confirm API and edit the code,</td><td>Steven,</td><td>by the next meeting on the 12th.</td></tr><input type=\"button\" class=\"float\" value=\"Add\" id=\"addrow2\"></table><label><strong>Agenda 2</strong></label><table class=\"table table-bordered\"><tr><td><strong>Presenter</strong></td><td>Steven,</td></tr><tr><td><strong>Discussion Topic</strong></td><td>interface works,</td></tr><tr><td><strong>Conclusion</strong></td><td>Google and IBM works the best.</td></tr></table><table class=\"table addel table-bordered\" id=\"addel\"><tr><td><strong>Action Item</strong></td><td><strong>Person Responsible</strong></td><td><strong>Deadline</strong></td></tr><tr><td>evaluate Google Premium API,</td><td>Steven</td><td>today.</td><td>confirm API and edit the code,</td><td>Steven</td><td>the next meeting.</td></tr><input type=\"button\" class=\"float\" value=\"Add\" id=\"addrow2\"></table><table class=\"table table-bordered\"><tr><td><strong>Additional Notes</strong></td></tr><tr><td></td></tr></table>'"
            ]
          },
          "metadata": {
            "tags": []
          },
          "execution_count": 13
        }
      ]
    },
    {
      "cell_type": "code",
      "metadata": {
        "id": "pH87UtbfO2lj"
      },
      "source": [
        "with open(\"Output.txt\", \"w\") as text_file:\r\n",
        "    text_file.write(result)"
      ],
      "execution_count": null,
      "outputs": []
    }
  ]
}