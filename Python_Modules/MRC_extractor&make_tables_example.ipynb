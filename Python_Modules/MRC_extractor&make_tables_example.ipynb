{
  "nbformat": 4,
  "nbformat_minor": 0,
  "metadata": {
    "colab": {
      "name": "MRC_extractor&make_tables_example.ipynb",
      "provenance": [],
      "collapsed_sections": [],
      "machine_shape": "hm"
    },
    "kernelspec": {
      "name": "python3",
      "display_name": "Python 3"
    },
    "widgets": {
      "application/vnd.jupyter.widget-state+json": {
        "b4c04b4e318d427bba89348fa692a603": {
          "model_module": "@jupyter-widgets/controls",
          "model_name": "HBoxModel",
          "state": {
            "_view_name": "HBoxView",
            "_dom_classes": [],
            "_model_name": "HBoxModel",
            "_view_module": "@jupyter-widgets/controls",
            "_model_module_version": "1.5.0",
            "_view_count": null,
            "_view_module_version": "1.5.0",
            "box_style": "",
            "layout": "IPY_MODEL_df6eaa9a210646e2b3daacb145b10076",
            "_model_module": "@jupyter-widgets/controls",
            "children": [
              "IPY_MODEL_9e5798ec222e472b872c57c3105c0684",
              "IPY_MODEL_1e88d22de34344fdb010133a060a7dab"
            ]
          }
        },
        "df6eaa9a210646e2b3daacb145b10076": {
          "model_module": "@jupyter-widgets/base",
          "model_name": "LayoutModel",
          "state": {
            "_view_name": "LayoutView",
            "grid_template_rows": null,
            "right": null,
            "justify_content": null,
            "_view_module": "@jupyter-widgets/base",
            "overflow": null,
            "_model_module_version": "1.2.0",
            "_view_count": null,
            "flex_flow": null,
            "width": null,
            "min_width": null,
            "border": null,
            "align_items": null,
            "bottom": null,
            "_model_module": "@jupyter-widgets/base",
            "top": null,
            "grid_column": null,
            "overflow_y": null,
            "overflow_x": null,
            "grid_auto_flow": null,
            "grid_area": null,
            "grid_template_columns": null,
            "flex": null,
            "_model_name": "LayoutModel",
            "justify_items": null,
            "grid_row": null,
            "max_height": null,
            "align_content": null,
            "visibility": null,
            "align_self": null,
            "height": null,
            "min_height": null,
            "padding": null,
            "grid_auto_rows": null,
            "grid_gap": null,
            "max_width": null,
            "order": null,
            "_view_module_version": "1.2.0",
            "grid_template_areas": null,
            "object_position": null,
            "object_fit": null,
            "grid_auto_columns": null,
            "margin": null,
            "display": null,
            "left": null
          }
        },
        "9e5798ec222e472b872c57c3105c0684": {
          "model_module": "@jupyter-widgets/controls",
          "model_name": "FloatProgressModel",
          "state": {
            "_view_name": "ProgressView",
            "style": "IPY_MODEL_6cb481dde3a44fddb5dc9acc3e132435",
            "_dom_classes": [],
            "description": "Downloading: 100%",
            "_model_name": "FloatProgressModel",
            "bar_style": "success",
            "max": 696,
            "_view_module": "@jupyter-widgets/controls",
            "_model_module_version": "1.5.0",
            "value": 696,
            "_view_count": null,
            "_view_module_version": "1.5.0",
            "orientation": "horizontal",
            "min": 0,
            "description_tooltip": null,
            "_model_module": "@jupyter-widgets/controls",
            "layout": "IPY_MODEL_dbe3409de69b49acbfd3839a42eeb4d2"
          }
        },
        "1e88d22de34344fdb010133a060a7dab": {
          "model_module": "@jupyter-widgets/controls",
          "model_name": "HTMLModel",
          "state": {
            "_view_name": "HTMLView",
            "style": "IPY_MODEL_402ae394a50b49848a1438b013e3f794",
            "_dom_classes": [],
            "description": "",
            "_model_name": "HTMLModel",
            "placeholder": "​",
            "_view_module": "@jupyter-widgets/controls",
            "_model_module_version": "1.5.0",
            "value": " 696/696 [00:00&lt;00:00, 4.19kB/s]",
            "_view_count": null,
            "_view_module_version": "1.5.0",
            "description_tooltip": null,
            "_model_module": "@jupyter-widgets/controls",
            "layout": "IPY_MODEL_058451f1c65d481083b3cf6c54538bd0"
          }
        },
        "6cb481dde3a44fddb5dc9acc3e132435": {
          "model_module": "@jupyter-widgets/controls",
          "model_name": "ProgressStyleModel",
          "state": {
            "_view_name": "StyleView",
            "_model_name": "ProgressStyleModel",
            "description_width": "initial",
            "_view_module": "@jupyter-widgets/base",
            "_model_module_version": "1.5.0",
            "_view_count": null,
            "_view_module_version": "1.2.0",
            "bar_color": null,
            "_model_module": "@jupyter-widgets/controls"
          }
        },
        "dbe3409de69b49acbfd3839a42eeb4d2": {
          "model_module": "@jupyter-widgets/base",
          "model_name": "LayoutModel",
          "state": {
            "_view_name": "LayoutView",
            "grid_template_rows": null,
            "right": null,
            "justify_content": null,
            "_view_module": "@jupyter-widgets/base",
            "overflow": null,
            "_model_module_version": "1.2.0",
            "_view_count": null,
            "flex_flow": null,
            "width": null,
            "min_width": null,
            "border": null,
            "align_items": null,
            "bottom": null,
            "_model_module": "@jupyter-widgets/base",
            "top": null,
            "grid_column": null,
            "overflow_y": null,
            "overflow_x": null,
            "grid_auto_flow": null,
            "grid_area": null,
            "grid_template_columns": null,
            "flex": null,
            "_model_name": "LayoutModel",
            "justify_items": null,
            "grid_row": null,
            "max_height": null,
            "align_content": null,
            "visibility": null,
            "align_self": null,
            "height": null,
            "min_height": null,
            "padding": null,
            "grid_auto_rows": null,
            "grid_gap": null,
            "max_width": null,
            "order": null,
            "_view_module_version": "1.2.0",
            "grid_template_areas": null,
            "object_position": null,
            "object_fit": null,
            "grid_auto_columns": null,
            "margin": null,
            "display": null,
            "left": null
          }
        },
        "402ae394a50b49848a1438b013e3f794": {
          "model_module": "@jupyter-widgets/controls",
          "model_name": "DescriptionStyleModel",
          "state": {
            "_view_name": "StyleView",
            "_model_name": "DescriptionStyleModel",
            "description_width": "",
            "_view_module": "@jupyter-widgets/base",
            "_model_module_version": "1.5.0",
            "_view_count": null,
            "_view_module_version": "1.2.0",
            "_model_module": "@jupyter-widgets/controls"
          }
        },
        "058451f1c65d481083b3cf6c54538bd0": {
          "model_module": "@jupyter-widgets/base",
          "model_name": "LayoutModel",
          "state": {
            "_view_name": "LayoutView",
            "grid_template_rows": null,
            "right": null,
            "justify_content": null,
            "_view_module": "@jupyter-widgets/base",
            "overflow": null,
            "_model_module_version": "1.2.0",
            "_view_count": null,
            "flex_flow": null,
            "width": null,
            "min_width": null,
            "border": null,
            "align_items": null,
            "bottom": null,
            "_model_module": "@jupyter-widgets/base",
            "top": null,
            "grid_column": null,
            "overflow_y": null,
            "overflow_x": null,
            "grid_auto_flow": null,
            "grid_area": null,
            "grid_template_columns": null,
            "flex": null,
            "_model_name": "LayoutModel",
            "justify_items": null,
            "grid_row": null,
            "max_height": null,
            "align_content": null,
            "visibility": null,
            "align_self": null,
            "height": null,
            "min_height": null,
            "padding": null,
            "grid_auto_rows": null,
            "grid_gap": null,
            "max_width": null,
            "order": null,
            "_view_module_version": "1.2.0",
            "grid_template_areas": null,
            "object_position": null,
            "object_fit": null,
            "grid_auto_columns": null,
            "margin": null,
            "display": null,
            "left": null
          }
        },
        "d12a69527df047c9bbd61877f0e3329b": {
          "model_module": "@jupyter-widgets/controls",
          "model_name": "HBoxModel",
          "state": {
            "_view_name": "HBoxView",
            "_dom_classes": [],
            "_model_name": "HBoxModel",
            "_view_module": "@jupyter-widgets/controls",
            "_model_module_version": "1.5.0",
            "_view_count": null,
            "_view_module_version": "1.5.0",
            "box_style": "",
            "layout": "IPY_MODEL_6aa4dcf15a32494ca668e7554cd09225",
            "_model_module": "@jupyter-widgets/controls",
            "children": [
              "IPY_MODEL_4a16f65a91ab4c97a9f8b0892f8faf79",
              "IPY_MODEL_b61ba4d9c4f74eca8519381fc2de0ce3"
            ]
          }
        },
        "6aa4dcf15a32494ca668e7554cd09225": {
          "model_module": "@jupyter-widgets/base",
          "model_name": "LayoutModel",
          "state": {
            "_view_name": "LayoutView",
            "grid_template_rows": null,
            "right": null,
            "justify_content": null,
            "_view_module": "@jupyter-widgets/base",
            "overflow": null,
            "_model_module_version": "1.2.0",
            "_view_count": null,
            "flex_flow": null,
            "width": null,
            "min_width": null,
            "border": null,
            "align_items": null,
            "bottom": null,
            "_model_module": "@jupyter-widgets/base",
            "top": null,
            "grid_column": null,
            "overflow_y": null,
            "overflow_x": null,
            "grid_auto_flow": null,
            "grid_area": null,
            "grid_template_columns": null,
            "flex": null,
            "_model_name": "LayoutModel",
            "justify_items": null,
            "grid_row": null,
            "max_height": null,
            "align_content": null,
            "visibility": null,
            "align_self": null,
            "height": null,
            "min_height": null,
            "padding": null,
            "grid_auto_rows": null,
            "grid_gap": null,
            "max_width": null,
            "order": null,
            "_view_module_version": "1.2.0",
            "grid_template_areas": null,
            "object_position": null,
            "object_fit": null,
            "grid_auto_columns": null,
            "margin": null,
            "display": null,
            "left": null
          }
        },
        "4a16f65a91ab4c97a9f8b0892f8faf79": {
          "model_module": "@jupyter-widgets/controls",
          "model_name": "FloatProgressModel",
          "state": {
            "_view_name": "ProgressView",
            "style": "IPY_MODEL_4fa256422b384153b35ce99d78be7a4c",
            "_dom_classes": [],
            "description": "Downloading: 100%",
            "_model_name": "FloatProgressModel",
            "bar_style": "success",
            "max": 871891,
            "_view_module": "@jupyter-widgets/controls",
            "_model_module_version": "1.5.0",
            "value": 871891,
            "_view_count": null,
            "_view_module_version": "1.5.0",
            "orientation": "horizontal",
            "min": 0,
            "description_tooltip": null,
            "_model_module": "@jupyter-widgets/controls",
            "layout": "IPY_MODEL_ae8d5271e19743dda0ae193427a04dc8"
          }
        },
        "b61ba4d9c4f74eca8519381fc2de0ce3": {
          "model_module": "@jupyter-widgets/controls",
          "model_name": "HTMLModel",
          "state": {
            "_view_name": "HTMLView",
            "style": "IPY_MODEL_2a594b525675411690db5ab0168d67b4",
            "_dom_classes": [],
            "description": "",
            "_model_name": "HTMLModel",
            "placeholder": "​",
            "_view_module": "@jupyter-widgets/controls",
            "_model_module_version": "1.5.0",
            "value": " 872k/872k [00:00&lt;00:00, 1.36MB/s]",
            "_view_count": null,
            "_view_module_version": "1.5.0",
            "description_tooltip": null,
            "_model_module": "@jupyter-widgets/controls",
            "layout": "IPY_MODEL_33bdffe656714a5e87ae8eb213a63b6e"
          }
        },
        "4fa256422b384153b35ce99d78be7a4c": {
          "model_module": "@jupyter-widgets/controls",
          "model_name": "ProgressStyleModel",
          "state": {
            "_view_name": "StyleView",
            "_model_name": "ProgressStyleModel",
            "description_width": "initial",
            "_view_module": "@jupyter-widgets/base",
            "_model_module_version": "1.5.0",
            "_view_count": null,
            "_view_module_version": "1.2.0",
            "bar_color": null,
            "_model_module": "@jupyter-widgets/controls"
          }
        },
        "ae8d5271e19743dda0ae193427a04dc8": {
          "model_module": "@jupyter-widgets/base",
          "model_name": "LayoutModel",
          "state": {
            "_view_name": "LayoutView",
            "grid_template_rows": null,
            "right": null,
            "justify_content": null,
            "_view_module": "@jupyter-widgets/base",
            "overflow": null,
            "_model_module_version": "1.2.0",
            "_view_count": null,
            "flex_flow": null,
            "width": null,
            "min_width": null,
            "border": null,
            "align_items": null,
            "bottom": null,
            "_model_module": "@jupyter-widgets/base",
            "top": null,
            "grid_column": null,
            "overflow_y": null,
            "overflow_x": null,
            "grid_auto_flow": null,
            "grid_area": null,
            "grid_template_columns": null,
            "flex": null,
            "_model_name": "LayoutModel",
            "justify_items": null,
            "grid_row": null,
            "max_height": null,
            "align_content": null,
            "visibility": null,
            "align_self": null,
            "height": null,
            "min_height": null,
            "padding": null,
            "grid_auto_rows": null,
            "grid_gap": null,
            "max_width": null,
            "order": null,
            "_view_module_version": "1.2.0",
            "grid_template_areas": null,
            "object_position": null,
            "object_fit": null,
            "grid_auto_columns": null,
            "margin": null,
            "display": null,
            "left": null
          }
        },
        "2a594b525675411690db5ab0168d67b4": {
          "model_module": "@jupyter-widgets/controls",
          "model_name": "DescriptionStyleModel",
          "state": {
            "_view_name": "StyleView",
            "_model_name": "DescriptionStyleModel",
            "description_width": "",
            "_view_module": "@jupyter-widgets/base",
            "_model_module_version": "1.5.0",
            "_view_count": null,
            "_view_module_version": "1.2.0",
            "_model_module": "@jupyter-widgets/controls"
          }
        },
        "33bdffe656714a5e87ae8eb213a63b6e": {
          "model_module": "@jupyter-widgets/base",
          "model_name": "LayoutModel",
          "state": {
            "_view_name": "LayoutView",
            "grid_template_rows": null,
            "right": null,
            "justify_content": null,
            "_view_module": "@jupyter-widgets/base",
            "overflow": null,
            "_model_module_version": "1.2.0",
            "_view_count": null,
            "flex_flow": null,
            "width": null,
            "min_width": null,
            "border": null,
            "align_items": null,
            "bottom": null,
            "_model_module": "@jupyter-widgets/base",
            "top": null,
            "grid_column": null,
            "overflow_y": null,
            "overflow_x": null,
            "grid_auto_flow": null,
            "grid_area": null,
            "grid_template_columns": null,
            "flex": null,
            "_model_name": "LayoutModel",
            "justify_items": null,
            "grid_row": null,
            "max_height": null,
            "align_content": null,
            "visibility": null,
            "align_self": null,
            "height": null,
            "min_height": null,
            "padding": null,
            "grid_auto_rows": null,
            "grid_gap": null,
            "max_width": null,
            "order": null,
            "_view_module_version": "1.2.0",
            "grid_template_areas": null,
            "object_position": null,
            "object_fit": null,
            "grid_auto_columns": null,
            "margin": null,
            "display": null,
            "left": null
          }
        },
        "faa70f58132a4a7dadb1d2fa3b1afc6a": {
          "model_module": "@jupyter-widgets/controls",
          "model_name": "HBoxModel",
          "state": {
            "_view_name": "HBoxView",
            "_dom_classes": [],
            "_model_name": "HBoxModel",
            "_view_module": "@jupyter-widgets/controls",
            "_model_module_version": "1.5.0",
            "_view_count": null,
            "_view_module_version": "1.5.0",
            "box_style": "",
            "layout": "IPY_MODEL_32a26ad1e60b4b6babc1210902fd548b",
            "_model_module": "@jupyter-widgets/controls",
            "children": [
              "IPY_MODEL_a4769c517ff3496fbbc97731d58fb3cb",
              "IPY_MODEL_a5cf19a374bf4ec3b7c76a86495e02df"
            ]
          }
        },
        "32a26ad1e60b4b6babc1210902fd548b": {
          "model_module": "@jupyter-widgets/base",
          "model_name": "LayoutModel",
          "state": {
            "_view_name": "LayoutView",
            "grid_template_rows": null,
            "right": null,
            "justify_content": null,
            "_view_module": "@jupyter-widgets/base",
            "overflow": null,
            "_model_module_version": "1.2.0",
            "_view_count": null,
            "flex_flow": null,
            "width": null,
            "min_width": null,
            "border": null,
            "align_items": null,
            "bottom": null,
            "_model_module": "@jupyter-widgets/base",
            "top": null,
            "grid_column": null,
            "overflow_y": null,
            "overflow_x": null,
            "grid_auto_flow": null,
            "grid_area": null,
            "grid_template_columns": null,
            "flex": null,
            "_model_name": "LayoutModel",
            "justify_items": null,
            "grid_row": null,
            "max_height": null,
            "align_content": null,
            "visibility": null,
            "align_self": null,
            "height": null,
            "min_height": null,
            "padding": null,
            "grid_auto_rows": null,
            "grid_gap": null,
            "max_width": null,
            "order": null,
            "_view_module_version": "1.2.0",
            "grid_template_areas": null,
            "object_position": null,
            "object_fit": null,
            "grid_auto_columns": null,
            "margin": null,
            "display": null,
            "left": null
          }
        },
        "a4769c517ff3496fbbc97731d58fb3cb": {
          "model_module": "@jupyter-widgets/controls",
          "model_name": "FloatProgressModel",
          "state": {
            "_view_name": "ProgressView",
            "style": "IPY_MODEL_0992240595724975af5f4181f8ca8b38",
            "_dom_classes": [],
            "description": "Downloading: 100%",
            "_model_name": "FloatProgressModel",
            "bar_style": "success",
            "max": 112,
            "_view_module": "@jupyter-widgets/controls",
            "_model_module_version": "1.5.0",
            "value": 112,
            "_view_count": null,
            "_view_module_version": "1.5.0",
            "orientation": "horizontal",
            "min": 0,
            "description_tooltip": null,
            "_model_module": "@jupyter-widgets/controls",
            "layout": "IPY_MODEL_8c4e7ed533074d07b053419b22a43d6b"
          }
        },
        "a5cf19a374bf4ec3b7c76a86495e02df": {
          "model_module": "@jupyter-widgets/controls",
          "model_name": "HTMLModel",
          "state": {
            "_view_name": "HTMLView",
            "style": "IPY_MODEL_7b35d73dc2c84952a026e14c92a952fc",
            "_dom_classes": [],
            "description": "",
            "_model_name": "HTMLModel",
            "placeholder": "​",
            "_view_module": "@jupyter-widgets/controls",
            "_model_module_version": "1.5.0",
            "value": " 112/112 [00:00&lt;00:00, 342B/s]",
            "_view_count": null,
            "_view_module_version": "1.5.0",
            "description_tooltip": null,
            "_model_module": "@jupyter-widgets/controls",
            "layout": "IPY_MODEL_7f29d3cf6ece443983d12962aa98c0b9"
          }
        },
        "0992240595724975af5f4181f8ca8b38": {
          "model_module": "@jupyter-widgets/controls",
          "model_name": "ProgressStyleModel",
          "state": {
            "_view_name": "StyleView",
            "_model_name": "ProgressStyleModel",
            "description_width": "initial",
            "_view_module": "@jupyter-widgets/base",
            "_model_module_version": "1.5.0",
            "_view_count": null,
            "_view_module_version": "1.2.0",
            "bar_color": null,
            "_model_module": "@jupyter-widgets/controls"
          }
        },
        "8c4e7ed533074d07b053419b22a43d6b": {
          "model_module": "@jupyter-widgets/base",
          "model_name": "LayoutModel",
          "state": {
            "_view_name": "LayoutView",
            "grid_template_rows": null,
            "right": null,
            "justify_content": null,
            "_view_module": "@jupyter-widgets/base",
            "overflow": null,
            "_model_module_version": "1.2.0",
            "_view_count": null,
            "flex_flow": null,
            "width": null,
            "min_width": null,
            "border": null,
            "align_items": null,
            "bottom": null,
            "_model_module": "@jupyter-widgets/base",
            "top": null,
            "grid_column": null,
            "overflow_y": null,
            "overflow_x": null,
            "grid_auto_flow": null,
            "grid_area": null,
            "grid_template_columns": null,
            "flex": null,
            "_model_name": "LayoutModel",
            "justify_items": null,
            "grid_row": null,
            "max_height": null,
            "align_content": null,
            "visibility": null,
            "align_self": null,
            "height": null,
            "min_height": null,
            "padding": null,
            "grid_auto_rows": null,
            "grid_gap": null,
            "max_width": null,
            "order": null,
            "_view_module_version": "1.2.0",
            "grid_template_areas": null,
            "object_position": null,
            "object_fit": null,
            "grid_auto_columns": null,
            "margin": null,
            "display": null,
            "left": null
          }
        },
        "7b35d73dc2c84952a026e14c92a952fc": {
          "model_module": "@jupyter-widgets/controls",
          "model_name": "DescriptionStyleModel",
          "state": {
            "_view_name": "StyleView",
            "_model_name": "DescriptionStyleModel",
            "description_width": "",
            "_view_module": "@jupyter-widgets/base",
            "_model_module_version": "1.5.0",
            "_view_count": null,
            "_view_module_version": "1.2.0",
            "_model_module": "@jupyter-widgets/controls"
          }
        },
        "7f29d3cf6ece443983d12962aa98c0b9": {
          "model_module": "@jupyter-widgets/base",
          "model_name": "LayoutModel",
          "state": {
            "_view_name": "LayoutView",
            "grid_template_rows": null,
            "right": null,
            "justify_content": null,
            "_view_module": "@jupyter-widgets/base",
            "overflow": null,
            "_model_module_version": "1.2.0",
            "_view_count": null,
            "flex_flow": null,
            "width": null,
            "min_width": null,
            "border": null,
            "align_items": null,
            "bottom": null,
            "_model_module": "@jupyter-widgets/base",
            "top": null,
            "grid_column": null,
            "overflow_y": null,
            "overflow_x": null,
            "grid_auto_flow": null,
            "grid_area": null,
            "grid_template_columns": null,
            "flex": null,
            "_model_name": "LayoutModel",
            "justify_items": null,
            "grid_row": null,
            "max_height": null,
            "align_content": null,
            "visibility": null,
            "align_self": null,
            "height": null,
            "min_height": null,
            "padding": null,
            "grid_auto_rows": null,
            "grid_gap": null,
            "max_width": null,
            "order": null,
            "_view_module_version": "1.2.0",
            "grid_template_areas": null,
            "object_position": null,
            "object_fit": null,
            "grid_auto_columns": null,
            "margin": null,
            "display": null,
            "left": null
          }
        },
        "01c14d66c7354858a8b1338907098531": {
          "model_module": "@jupyter-widgets/controls",
          "model_name": "HBoxModel",
          "state": {
            "_view_name": "HBoxView",
            "_dom_classes": [],
            "_model_name": "HBoxModel",
            "_view_module": "@jupyter-widgets/controls",
            "_model_module_version": "1.5.0",
            "_view_count": null,
            "_view_module_version": "1.5.0",
            "box_style": "",
            "layout": "IPY_MODEL_7c22baecd963473280e20618f8dc63cd",
            "_model_module": "@jupyter-widgets/controls",
            "children": [
              "IPY_MODEL_6faf2423579a420a82f56022b6dc7381",
              "IPY_MODEL_c619c3d114f644659a21f065f3ca2334"
            ]
          }
        },
        "7c22baecd963473280e20618f8dc63cd": {
          "model_module": "@jupyter-widgets/base",
          "model_name": "LayoutModel",
          "state": {
            "_view_name": "LayoutView",
            "grid_template_rows": null,
            "right": null,
            "justify_content": null,
            "_view_module": "@jupyter-widgets/base",
            "overflow": null,
            "_model_module_version": "1.2.0",
            "_view_count": null,
            "flex_flow": null,
            "width": null,
            "min_width": null,
            "border": null,
            "align_items": null,
            "bottom": null,
            "_model_module": "@jupyter-widgets/base",
            "top": null,
            "grid_column": null,
            "overflow_y": null,
            "overflow_x": null,
            "grid_auto_flow": null,
            "grid_area": null,
            "grid_template_columns": null,
            "flex": null,
            "_model_name": "LayoutModel",
            "justify_items": null,
            "grid_row": null,
            "max_height": null,
            "align_content": null,
            "visibility": null,
            "align_self": null,
            "height": null,
            "min_height": null,
            "padding": null,
            "grid_auto_rows": null,
            "grid_gap": null,
            "max_width": null,
            "order": null,
            "_view_module_version": "1.2.0",
            "grid_template_areas": null,
            "object_position": null,
            "object_fit": null,
            "grid_auto_columns": null,
            "margin": null,
            "display": null,
            "left": null
          }
        },
        "6faf2423579a420a82f56022b6dc7381": {
          "model_module": "@jupyter-widgets/controls",
          "model_name": "FloatProgressModel",
          "state": {
            "_view_name": "ProgressView",
            "style": "IPY_MODEL_64b3f5657ada4778ad4d74525e632b51",
            "_dom_classes": [],
            "description": "Downloading: 100%",
            "_model_name": "FloatProgressModel",
            "bar_style": "success",
            "max": 62,
            "_view_module": "@jupyter-widgets/controls",
            "_model_module_version": "1.5.0",
            "value": 62,
            "_view_count": null,
            "_view_module_version": "1.5.0",
            "orientation": "horizontal",
            "min": 0,
            "description_tooltip": null,
            "_model_module": "@jupyter-widgets/controls",
            "layout": "IPY_MODEL_03e113bd49bf40f396a89abaa33c3c83"
          }
        },
        "c619c3d114f644659a21f065f3ca2334": {
          "model_module": "@jupyter-widgets/controls",
          "model_name": "HTMLModel",
          "state": {
            "_view_name": "HTMLView",
            "style": "IPY_MODEL_30e53fe79172412a998555c808367215",
            "_dom_classes": [],
            "description": "",
            "_model_name": "HTMLModel",
            "placeholder": "​",
            "_view_module": "@jupyter-widgets/controls",
            "_model_module_version": "1.5.0",
            "value": " 62.0/62.0 [00:00&lt;00:00, 346B/s]",
            "_view_count": null,
            "_view_module_version": "1.5.0",
            "description_tooltip": null,
            "_model_module": "@jupyter-widgets/controls",
            "layout": "IPY_MODEL_16406b051a9147228e85ad433403f5b0"
          }
        },
        "64b3f5657ada4778ad4d74525e632b51": {
          "model_module": "@jupyter-widgets/controls",
          "model_name": "ProgressStyleModel",
          "state": {
            "_view_name": "StyleView",
            "_model_name": "ProgressStyleModel",
            "description_width": "initial",
            "_view_module": "@jupyter-widgets/base",
            "_model_module_version": "1.5.0",
            "_view_count": null,
            "_view_module_version": "1.2.0",
            "bar_color": null,
            "_model_module": "@jupyter-widgets/controls"
          }
        },
        "03e113bd49bf40f396a89abaa33c3c83": {
          "model_module": "@jupyter-widgets/base",
          "model_name": "LayoutModel",
          "state": {
            "_view_name": "LayoutView",
            "grid_template_rows": null,
            "right": null,
            "justify_content": null,
            "_view_module": "@jupyter-widgets/base",
            "overflow": null,
            "_model_module_version": "1.2.0",
            "_view_count": null,
            "flex_flow": null,
            "width": null,
            "min_width": null,
            "border": null,
            "align_items": null,
            "bottom": null,
            "_model_module": "@jupyter-widgets/base",
            "top": null,
            "grid_column": null,
            "overflow_y": null,
            "overflow_x": null,
            "grid_auto_flow": null,
            "grid_area": null,
            "grid_template_columns": null,
            "flex": null,
            "_model_name": "LayoutModel",
            "justify_items": null,
            "grid_row": null,
            "max_height": null,
            "align_content": null,
            "visibility": null,
            "align_self": null,
            "height": null,
            "min_height": null,
            "padding": null,
            "grid_auto_rows": null,
            "grid_gap": null,
            "max_width": null,
            "order": null,
            "_view_module_version": "1.2.0",
            "grid_template_areas": null,
            "object_position": null,
            "object_fit": null,
            "grid_auto_columns": null,
            "margin": null,
            "display": null,
            "left": null
          }
        },
        "30e53fe79172412a998555c808367215": {
          "model_module": "@jupyter-widgets/controls",
          "model_name": "DescriptionStyleModel",
          "state": {
            "_view_name": "StyleView",
            "_model_name": "DescriptionStyleModel",
            "description_width": "",
            "_view_module": "@jupyter-widgets/base",
            "_model_module_version": "1.5.0",
            "_view_count": null,
            "_view_module_version": "1.2.0",
            "_model_module": "@jupyter-widgets/controls"
          }
        },
        "16406b051a9147228e85ad433403f5b0": {
          "model_module": "@jupyter-widgets/base",
          "model_name": "LayoutModel",
          "state": {
            "_view_name": "LayoutView",
            "grid_template_rows": null,
            "right": null,
            "justify_content": null,
            "_view_module": "@jupyter-widgets/base",
            "overflow": null,
            "_model_module_version": "1.2.0",
            "_view_count": null,
            "flex_flow": null,
            "width": null,
            "min_width": null,
            "border": null,
            "align_items": null,
            "bottom": null,
            "_model_module": "@jupyter-widgets/base",
            "top": null,
            "grid_column": null,
            "overflow_y": null,
            "overflow_x": null,
            "grid_auto_flow": null,
            "grid_area": null,
            "grid_template_columns": null,
            "flex": null,
            "_model_name": "LayoutModel",
            "justify_items": null,
            "grid_row": null,
            "max_height": null,
            "align_content": null,
            "visibility": null,
            "align_self": null,
            "height": null,
            "min_height": null,
            "padding": null,
            "grid_auto_rows": null,
            "grid_gap": null,
            "max_width": null,
            "order": null,
            "_view_module_version": "1.2.0",
            "grid_template_areas": null,
            "object_position": null,
            "object_fit": null,
            "grid_auto_columns": null,
            "margin": null,
            "display": null,
            "left": null
          }
        },
        "99fd75e5086b457c992e94f046b0c9b6": {
          "model_module": "@jupyter-widgets/controls",
          "model_name": "HBoxModel",
          "state": {
            "_view_name": "HBoxView",
            "_dom_classes": [],
            "_model_name": "HBoxModel",
            "_view_module": "@jupyter-widgets/controls",
            "_model_module_version": "1.5.0",
            "_view_count": null,
            "_view_module_version": "1.5.0",
            "box_style": "",
            "layout": "IPY_MODEL_a52f6a30cd8b4184b988855ea52f120f",
            "_model_module": "@jupyter-widgets/controls",
            "children": [
              "IPY_MODEL_a64205907a97417183f4e5e7378020c2",
              "IPY_MODEL_eb4445387f1a46fca4d7ec740e74cdb7"
            ]
          }
        },
        "a52f6a30cd8b4184b988855ea52f120f": {
          "model_module": "@jupyter-widgets/base",
          "model_name": "LayoutModel",
          "state": {
            "_view_name": "LayoutView",
            "grid_template_rows": null,
            "right": null,
            "justify_content": null,
            "_view_module": "@jupyter-widgets/base",
            "overflow": null,
            "_model_module_version": "1.2.0",
            "_view_count": null,
            "flex_flow": null,
            "width": null,
            "min_width": null,
            "border": null,
            "align_items": null,
            "bottom": null,
            "_model_module": "@jupyter-widgets/base",
            "top": null,
            "grid_column": null,
            "overflow_y": null,
            "overflow_x": null,
            "grid_auto_flow": null,
            "grid_area": null,
            "grid_template_columns": null,
            "flex": null,
            "_model_name": "LayoutModel",
            "justify_items": null,
            "grid_row": null,
            "max_height": null,
            "align_content": null,
            "visibility": null,
            "align_self": null,
            "height": null,
            "min_height": null,
            "padding": null,
            "grid_auto_rows": null,
            "grid_gap": null,
            "max_width": null,
            "order": null,
            "_view_module_version": "1.2.0",
            "grid_template_areas": null,
            "object_position": null,
            "object_fit": null,
            "grid_auto_columns": null,
            "margin": null,
            "display": null,
            "left": null
          }
        },
        "a64205907a97417183f4e5e7378020c2": {
          "model_module": "@jupyter-widgets/controls",
          "model_name": "FloatProgressModel",
          "state": {
            "_view_name": "ProgressView",
            "style": "IPY_MODEL_6e454c5de97f4cfcbfb36b0ee6c1ba99",
            "_dom_classes": [],
            "description": "Downloading: 100%",
            "_model_name": "FloatProgressModel",
            "bar_style": "success",
            "max": 669478888,
            "_view_module": "@jupyter-widgets/controls",
            "_model_module_version": "1.5.0",
            "value": 669478888,
            "_view_count": null,
            "_view_module_version": "1.5.0",
            "orientation": "horizontal",
            "min": 0,
            "description_tooltip": null,
            "_model_module": "@jupyter-widgets/controls",
            "layout": "IPY_MODEL_314cf39dfe4b4c3d8516560741d00fb0"
          }
        },
        "eb4445387f1a46fca4d7ec740e74cdb7": {
          "model_module": "@jupyter-widgets/controls",
          "model_name": "HTMLModel",
          "state": {
            "_view_name": "HTMLView",
            "style": "IPY_MODEL_5fd91e5ce6534af5ba6c33a2e226854a",
            "_dom_classes": [],
            "description": "",
            "_model_name": "HTMLModel",
            "placeholder": "​",
            "_view_module": "@jupyter-widgets/controls",
            "_model_module_version": "1.5.0",
            "value": " 669M/669M [00:10&lt;00:00, 62.5MB/s]",
            "_view_count": null,
            "_view_module_version": "1.5.0",
            "description_tooltip": null,
            "_model_module": "@jupyter-widgets/controls",
            "layout": "IPY_MODEL_8f1e715e491041029f28a676a01ec22a"
          }
        },
        "6e454c5de97f4cfcbfb36b0ee6c1ba99": {
          "model_module": "@jupyter-widgets/controls",
          "model_name": "ProgressStyleModel",
          "state": {
            "_view_name": "StyleView",
            "_model_name": "ProgressStyleModel",
            "description_width": "initial",
            "_view_module": "@jupyter-widgets/base",
            "_model_module_version": "1.5.0",
            "_view_count": null,
            "_view_module_version": "1.2.0",
            "bar_color": null,
            "_model_module": "@jupyter-widgets/controls"
          }
        },
        "314cf39dfe4b4c3d8516560741d00fb0": {
          "model_module": "@jupyter-widgets/base",
          "model_name": "LayoutModel",
          "state": {
            "_view_name": "LayoutView",
            "grid_template_rows": null,
            "right": null,
            "justify_content": null,
            "_view_module": "@jupyter-widgets/base",
            "overflow": null,
            "_model_module_version": "1.2.0",
            "_view_count": null,
            "flex_flow": null,
            "width": null,
            "min_width": null,
            "border": null,
            "align_items": null,
            "bottom": null,
            "_model_module": "@jupyter-widgets/base",
            "top": null,
            "grid_column": null,
            "overflow_y": null,
            "overflow_x": null,
            "grid_auto_flow": null,
            "grid_area": null,
            "grid_template_columns": null,
            "flex": null,
            "_model_name": "LayoutModel",
            "justify_items": null,
            "grid_row": null,
            "max_height": null,
            "align_content": null,
            "visibility": null,
            "align_self": null,
            "height": null,
            "min_height": null,
            "padding": null,
            "grid_auto_rows": null,
            "grid_gap": null,
            "max_width": null,
            "order": null,
            "_view_module_version": "1.2.0",
            "grid_template_areas": null,
            "object_position": null,
            "object_fit": null,
            "grid_auto_columns": null,
            "margin": null,
            "display": null,
            "left": null
          }
        },
        "5fd91e5ce6534af5ba6c33a2e226854a": {
          "model_module": "@jupyter-widgets/controls",
          "model_name": "DescriptionStyleModel",
          "state": {
            "_view_name": "StyleView",
            "_model_name": "DescriptionStyleModel",
            "description_width": "",
            "_view_module": "@jupyter-widgets/base",
            "_model_module_version": "1.5.0",
            "_view_count": null,
            "_view_module_version": "1.2.0",
            "_model_module": "@jupyter-widgets/controls"
          }
        },
        "8f1e715e491041029f28a676a01ec22a": {
          "model_module": "@jupyter-widgets/base",
          "model_name": "LayoutModel",
          "state": {
            "_view_name": "LayoutView",
            "grid_template_rows": null,
            "right": null,
            "justify_content": null,
            "_view_module": "@jupyter-widgets/base",
            "overflow": null,
            "_model_module_version": "1.2.0",
            "_view_count": null,
            "flex_flow": null,
            "width": null,
            "min_width": null,
            "border": null,
            "align_items": null,
            "bottom": null,
            "_model_module": "@jupyter-widgets/base",
            "top": null,
            "grid_column": null,
            "overflow_y": null,
            "overflow_x": null,
            "grid_auto_flow": null,
            "grid_area": null,
            "grid_template_columns": null,
            "flex": null,
            "_model_name": "LayoutModel",
            "justify_items": null,
            "grid_row": null,
            "max_height": null,
            "align_content": null,
            "visibility": null,
            "align_self": null,
            "height": null,
            "min_height": null,
            "padding": null,
            "grid_auto_rows": null,
            "grid_gap": null,
            "max_width": null,
            "order": null,
            "_view_module_version": "1.2.0",
            "grid_template_areas": null,
            "object_position": null,
            "object_fit": null,
            "grid_auto_columns": null,
            "margin": null,
            "display": null,
            "left": null
          }
        },
        "3353799016324fed91d94ac5edbf5666": {
          "model_module": "@jupyter-widgets/controls",
          "model_name": "HBoxModel",
          "state": {
            "_view_name": "HBoxView",
            "_dom_classes": [],
            "_model_name": "HBoxModel",
            "_view_module": "@jupyter-widgets/controls",
            "_model_module_version": "1.5.0",
            "_view_count": null,
            "_view_module_version": "1.5.0",
            "box_style": "",
            "layout": "IPY_MODEL_72222209f9144914bf2d2a74bc3de2f4",
            "_model_module": "@jupyter-widgets/controls",
            "children": [
              "IPY_MODEL_e43eec8c16b2451aaca742ec5deb1adf",
              "IPY_MODEL_447cde01f96c49a783bc4b34a63bd4b9"
            ]
          }
        },
        "72222209f9144914bf2d2a74bc3de2f4": {
          "model_module": "@jupyter-widgets/base",
          "model_name": "LayoutModel",
          "state": {
            "_view_name": "LayoutView",
            "grid_template_rows": null,
            "right": null,
            "justify_content": null,
            "_view_module": "@jupyter-widgets/base",
            "overflow": null,
            "_model_module_version": "1.2.0",
            "_view_count": null,
            "flex_flow": null,
            "width": null,
            "min_width": null,
            "border": null,
            "align_items": null,
            "bottom": null,
            "_model_module": "@jupyter-widgets/base",
            "top": null,
            "grid_column": null,
            "overflow_y": null,
            "overflow_x": null,
            "grid_auto_flow": null,
            "grid_area": null,
            "grid_template_columns": null,
            "flex": null,
            "_model_name": "LayoutModel",
            "justify_items": null,
            "grid_row": null,
            "max_height": null,
            "align_content": null,
            "visibility": null,
            "align_self": null,
            "height": null,
            "min_height": null,
            "padding": null,
            "grid_auto_rows": null,
            "grid_gap": null,
            "max_width": null,
            "order": null,
            "_view_module_version": "1.2.0",
            "grid_template_areas": null,
            "object_position": null,
            "object_fit": null,
            "grid_auto_columns": null,
            "margin": null,
            "display": null,
            "left": null
          }
        },
        "e43eec8c16b2451aaca742ec5deb1adf": {
          "model_module": "@jupyter-widgets/controls",
          "model_name": "FloatProgressModel",
          "state": {
            "_view_name": "ProgressView",
            "style": "IPY_MODEL_cc90c412bbf14373855e38487ceeb091",
            "_dom_classes": [],
            "description": "Downloading: 100%",
            "_model_name": "FloatProgressModel",
            "bar_style": "success",
            "max": 593,
            "_view_module": "@jupyter-widgets/controls",
            "_model_module_version": "1.5.0",
            "value": 593,
            "_view_count": null,
            "_view_module_version": "1.5.0",
            "orientation": "horizontal",
            "min": 0,
            "description_tooltip": null,
            "_model_module": "@jupyter-widgets/controls",
            "layout": "IPY_MODEL_a328ee86d77a40e5b6d2834c695beff1"
          }
        },
        "447cde01f96c49a783bc4b34a63bd4b9": {
          "model_module": "@jupyter-widgets/controls",
          "model_name": "HTMLModel",
          "state": {
            "_view_name": "HTMLView",
            "style": "IPY_MODEL_76ee25b8c23b4e7092bdfda616af9c3e",
            "_dom_classes": [],
            "description": "",
            "_model_name": "HTMLModel",
            "placeholder": "​",
            "_view_module": "@jupyter-widgets/controls",
            "_model_module_version": "1.5.0",
            "value": " 593/593 [00:00&lt;00:00, 705B/s]",
            "_view_count": null,
            "_view_module_version": "1.5.0",
            "description_tooltip": null,
            "_model_module": "@jupyter-widgets/controls",
            "layout": "IPY_MODEL_3120955db395495dbe2a75b67470023b"
          }
        },
        "cc90c412bbf14373855e38487ceeb091": {
          "model_module": "@jupyter-widgets/controls",
          "model_name": "ProgressStyleModel",
          "state": {
            "_view_name": "StyleView",
            "_model_name": "ProgressStyleModel",
            "description_width": "initial",
            "_view_module": "@jupyter-widgets/base",
            "_model_module_version": "1.5.0",
            "_view_count": null,
            "_view_module_version": "1.2.0",
            "bar_color": null,
            "_model_module": "@jupyter-widgets/controls"
          }
        },
        "a328ee86d77a40e5b6d2834c695beff1": {
          "model_module": "@jupyter-widgets/base",
          "model_name": "LayoutModel",
          "state": {
            "_view_name": "LayoutView",
            "grid_template_rows": null,
            "right": null,
            "justify_content": null,
            "_view_module": "@jupyter-widgets/base",
            "overflow": null,
            "_model_module_version": "1.2.0",
            "_view_count": null,
            "flex_flow": null,
            "width": null,
            "min_width": null,
            "border": null,
            "align_items": null,
            "bottom": null,
            "_model_module": "@jupyter-widgets/base",
            "top": null,
            "grid_column": null,
            "overflow_y": null,
            "overflow_x": null,
            "grid_auto_flow": null,
            "grid_area": null,
            "grid_template_columns": null,
            "flex": null,
            "_model_name": "LayoutModel",
            "justify_items": null,
            "grid_row": null,
            "max_height": null,
            "align_content": null,
            "visibility": null,
            "align_self": null,
            "height": null,
            "min_height": null,
            "padding": null,
            "grid_auto_rows": null,
            "grid_gap": null,
            "max_width": null,
            "order": null,
            "_view_module_version": "1.2.0",
            "grid_template_areas": null,
            "object_position": null,
            "object_fit": null,
            "grid_auto_columns": null,
            "margin": null,
            "display": null,
            "left": null
          }
        },
        "76ee25b8c23b4e7092bdfda616af9c3e": {
          "model_module": "@jupyter-widgets/controls",
          "model_name": "DescriptionStyleModel",
          "state": {
            "_view_name": "StyleView",
            "_model_name": "DescriptionStyleModel",
            "description_width": "",
            "_view_module": "@jupyter-widgets/base",
            "_model_module_version": "1.5.0",
            "_view_count": null,
            "_view_module_version": "1.2.0",
            "_model_module": "@jupyter-widgets/controls"
          }
        },
        "3120955db395495dbe2a75b67470023b": {
          "model_module": "@jupyter-widgets/base",
          "model_name": "LayoutModel",
          "state": {
            "_view_name": "LayoutView",
            "grid_template_rows": null,
            "right": null,
            "justify_content": null,
            "_view_module": "@jupyter-widgets/base",
            "overflow": null,
            "_model_module_version": "1.2.0",
            "_view_count": null,
            "flex_flow": null,
            "width": null,
            "min_width": null,
            "border": null,
            "align_items": null,
            "bottom": null,
            "_model_module": "@jupyter-widgets/base",
            "top": null,
            "grid_column": null,
            "overflow_y": null,
            "overflow_x": null,
            "grid_auto_flow": null,
            "grid_area": null,
            "grid_template_columns": null,
            "flex": null,
            "_model_name": "LayoutModel",
            "justify_items": null,
            "grid_row": null,
            "max_height": null,
            "align_content": null,
            "visibility": null,
            "align_self": null,
            "height": null,
            "min_height": null,
            "padding": null,
            "grid_auto_rows": null,
            "grid_gap": null,
            "max_width": null,
            "order": null,
            "_view_module_version": "1.2.0",
            "grid_template_areas": null,
            "object_position": null,
            "object_fit": null,
            "grid_auto_columns": null,
            "margin": null,
            "display": null,
            "left": null
          }
        },
        "ad3ed703faf644d298794ddf99341e8d": {
          "model_module": "@jupyter-widgets/controls",
          "model_name": "HBoxModel",
          "state": {
            "_view_name": "HBoxView",
            "_dom_classes": [],
            "_model_name": "HBoxModel",
            "_view_module": "@jupyter-widgets/controls",
            "_model_module_version": "1.5.0",
            "_view_count": null,
            "_view_module_version": "1.5.0",
            "box_style": "",
            "layout": "IPY_MODEL_51aadf20fdc1451293bd17ddcc295bf5",
            "_model_module": "@jupyter-widgets/controls",
            "children": [
              "IPY_MODEL_cdf58fa3a46449cea3a14b45993b298a",
              "IPY_MODEL_c5816f78e8f047128aec888c7e5451ee"
            ]
          }
        },
        "51aadf20fdc1451293bd17ddcc295bf5": {
          "model_module": "@jupyter-widgets/base",
          "model_name": "LayoutModel",
          "state": {
            "_view_name": "LayoutView",
            "grid_template_rows": null,
            "right": null,
            "justify_content": null,
            "_view_module": "@jupyter-widgets/base",
            "overflow": null,
            "_model_module_version": "1.2.0",
            "_view_count": null,
            "flex_flow": null,
            "width": null,
            "min_width": null,
            "border": null,
            "align_items": null,
            "bottom": null,
            "_model_module": "@jupyter-widgets/base",
            "top": null,
            "grid_column": null,
            "overflow_y": null,
            "overflow_x": null,
            "grid_auto_flow": null,
            "grid_area": null,
            "grid_template_columns": null,
            "flex": null,
            "_model_name": "LayoutModel",
            "justify_items": null,
            "grid_row": null,
            "max_height": null,
            "align_content": null,
            "visibility": null,
            "align_self": null,
            "height": null,
            "min_height": null,
            "padding": null,
            "grid_auto_rows": null,
            "grid_gap": null,
            "max_width": null,
            "order": null,
            "_view_module_version": "1.2.0",
            "grid_template_areas": null,
            "object_position": null,
            "object_fit": null,
            "grid_auto_columns": null,
            "margin": null,
            "display": null,
            "left": null
          }
        },
        "cdf58fa3a46449cea3a14b45993b298a": {
          "model_module": "@jupyter-widgets/controls",
          "model_name": "FloatProgressModel",
          "state": {
            "_view_name": "ProgressView",
            "style": "IPY_MODEL_12e5c1ef3a2d4ee1bd49cdb79ccab4da",
            "_dom_classes": [],
            "description": "Downloading: 100%",
            "_model_name": "FloatProgressModel",
            "bar_style": "success",
            "max": 1336546131,
            "_view_module": "@jupyter-widgets/controls",
            "_model_module_version": "1.5.0",
            "value": 1336546131,
            "_view_count": null,
            "_view_module_version": "1.5.0",
            "orientation": "horizontal",
            "min": 0,
            "description_tooltip": null,
            "_model_module": "@jupyter-widgets/controls",
            "layout": "IPY_MODEL_d1b2b507e1824d3ebf12cf6565d88727"
          }
        },
        "c5816f78e8f047128aec888c7e5451ee": {
          "model_module": "@jupyter-widgets/controls",
          "model_name": "HTMLModel",
          "state": {
            "_view_name": "HTMLView",
            "style": "IPY_MODEL_fd6666d209754ebb98e66ab81391e4bb",
            "_dom_classes": [],
            "description": "",
            "_model_name": "HTMLModel",
            "placeholder": "​",
            "_view_module": "@jupyter-widgets/controls",
            "_model_module_version": "1.5.0",
            "value": " 1.34G/1.34G [00:20&lt;00:00, 66.8MB/s]",
            "_view_count": null,
            "_view_module_version": "1.5.0",
            "description_tooltip": null,
            "_model_module": "@jupyter-widgets/controls",
            "layout": "IPY_MODEL_28d649ee121d44cfb6141ffb7fdaf471"
          }
        },
        "12e5c1ef3a2d4ee1bd49cdb79ccab4da": {
          "model_module": "@jupyter-widgets/controls",
          "model_name": "ProgressStyleModel",
          "state": {
            "_view_name": "StyleView",
            "_model_name": "ProgressStyleModel",
            "description_width": "initial",
            "_view_module": "@jupyter-widgets/base",
            "_model_module_version": "1.5.0",
            "_view_count": null,
            "_view_module_version": "1.2.0",
            "bar_color": null,
            "_model_module": "@jupyter-widgets/controls"
          }
        },
        "d1b2b507e1824d3ebf12cf6565d88727": {
          "model_module": "@jupyter-widgets/base",
          "model_name": "LayoutModel",
          "state": {
            "_view_name": "LayoutView",
            "grid_template_rows": null,
            "right": null,
            "justify_content": null,
            "_view_module": "@jupyter-widgets/base",
            "overflow": null,
            "_model_module_version": "1.2.0",
            "_view_count": null,
            "flex_flow": null,
            "width": null,
            "min_width": null,
            "border": null,
            "align_items": null,
            "bottom": null,
            "_model_module": "@jupyter-widgets/base",
            "top": null,
            "grid_column": null,
            "overflow_y": null,
            "overflow_x": null,
            "grid_auto_flow": null,
            "grid_area": null,
            "grid_template_columns": null,
            "flex": null,
            "_model_name": "LayoutModel",
            "justify_items": null,
            "grid_row": null,
            "max_height": null,
            "align_content": null,
            "visibility": null,
            "align_self": null,
            "height": null,
            "min_height": null,
            "padding": null,
            "grid_auto_rows": null,
            "grid_gap": null,
            "max_width": null,
            "order": null,
            "_view_module_version": "1.2.0",
            "grid_template_areas": null,
            "object_position": null,
            "object_fit": null,
            "grid_auto_columns": null,
            "margin": null,
            "display": null,
            "left": null
          }
        },
        "fd6666d209754ebb98e66ab81391e4bb": {
          "model_module": "@jupyter-widgets/controls",
          "model_name": "DescriptionStyleModel",
          "state": {
            "_view_name": "StyleView",
            "_model_name": "DescriptionStyleModel",
            "description_width": "",
            "_view_module": "@jupyter-widgets/base",
            "_model_module_version": "1.5.0",
            "_view_count": null,
            "_view_module_version": "1.2.0",
            "_model_module": "@jupyter-widgets/controls"
          }
        },
        "28d649ee121d44cfb6141ffb7fdaf471": {
          "model_module": "@jupyter-widgets/base",
          "model_name": "LayoutModel",
          "state": {
            "_view_name": "LayoutView",
            "grid_template_rows": null,
            "right": null,
            "justify_content": null,
            "_view_module": "@jupyter-widgets/base",
            "overflow": null,
            "_model_module_version": "1.2.0",
            "_view_count": null,
            "flex_flow": null,
            "width": null,
            "min_width": null,
            "border": null,
            "align_items": null,
            "bottom": null,
            "_model_module": "@jupyter-widgets/base",
            "top": null,
            "grid_column": null,
            "overflow_y": null,
            "overflow_x": null,
            "grid_auto_flow": null,
            "grid_area": null,
            "grid_template_columns": null,
            "flex": null,
            "_model_name": "LayoutModel",
            "justify_items": null,
            "grid_row": null,
            "max_height": null,
            "align_content": null,
            "visibility": null,
            "align_self": null,
            "height": null,
            "min_height": null,
            "padding": null,
            "grid_auto_rows": null,
            "grid_gap": null,
            "max_width": null,
            "order": null,
            "_view_module_version": "1.2.0",
            "grid_template_areas": null,
            "object_position": null,
            "object_fit": null,
            "grid_auto_columns": null,
            "margin": null,
            "display": null,
            "left": null
          }
        },
        "5c6f5d3da5f04283a139e2f055fb297e": {
          "model_module": "@jupyter-widgets/controls",
          "model_name": "HBoxModel",
          "state": {
            "_view_name": "HBoxView",
            "_dom_classes": [],
            "_model_name": "HBoxModel",
            "_view_module": "@jupyter-widgets/controls",
            "_model_module_version": "1.5.0",
            "_view_count": null,
            "_view_module_version": "1.5.0",
            "box_style": "",
            "layout": "IPY_MODEL_21db47ab7a3e4c4cb4ac7d138abf1307",
            "_model_module": "@jupyter-widgets/controls",
            "children": [
              "IPY_MODEL_c6025f9c3f0a4a51903d9b2c2d86254c",
              "IPY_MODEL_855c4127c04242498b707667fef226ed"
            ]
          }
        },
        "21db47ab7a3e4c4cb4ac7d138abf1307": {
          "model_module": "@jupyter-widgets/base",
          "model_name": "LayoutModel",
          "state": {
            "_view_name": "LayoutView",
            "grid_template_rows": null,
            "right": null,
            "justify_content": null,
            "_view_module": "@jupyter-widgets/base",
            "overflow": null,
            "_model_module_version": "1.2.0",
            "_view_count": null,
            "flex_flow": null,
            "width": null,
            "min_width": null,
            "border": null,
            "align_items": null,
            "bottom": null,
            "_model_module": "@jupyter-widgets/base",
            "top": null,
            "grid_column": null,
            "overflow_y": null,
            "overflow_x": null,
            "grid_auto_flow": null,
            "grid_area": null,
            "grid_template_columns": null,
            "flex": null,
            "_model_name": "LayoutModel",
            "justify_items": null,
            "grid_row": null,
            "max_height": null,
            "align_content": null,
            "visibility": null,
            "align_self": null,
            "height": null,
            "min_height": null,
            "padding": null,
            "grid_auto_rows": null,
            "grid_gap": null,
            "max_width": null,
            "order": null,
            "_view_module_version": "1.2.0",
            "grid_template_areas": null,
            "object_position": null,
            "object_fit": null,
            "grid_auto_columns": null,
            "margin": null,
            "display": null,
            "left": null
          }
        },
        "c6025f9c3f0a4a51903d9b2c2d86254c": {
          "model_module": "@jupyter-widgets/controls",
          "model_name": "FloatProgressModel",
          "state": {
            "_view_name": "ProgressView",
            "style": "IPY_MODEL_b06cfde93d364376b39b87782a5b5680",
            "_dom_classes": [],
            "description": "Downloading: 100%",
            "_model_name": "FloatProgressModel",
            "bar_style": "success",
            "max": 231508,
            "_view_module": "@jupyter-widgets/controls",
            "_model_module_version": "1.5.0",
            "value": 231508,
            "_view_count": null,
            "_view_module_version": "1.5.0",
            "orientation": "horizontal",
            "min": 0,
            "description_tooltip": null,
            "_model_module": "@jupyter-widgets/controls",
            "layout": "IPY_MODEL_654ed5edc8e647c3ad174d458c405712"
          }
        },
        "855c4127c04242498b707667fef226ed": {
          "model_module": "@jupyter-widgets/controls",
          "model_name": "HTMLModel",
          "state": {
            "_view_name": "HTMLView",
            "style": "IPY_MODEL_e0504288d7ad485a99c5b90ea797bdc6",
            "_dom_classes": [],
            "description": "",
            "_model_name": "HTMLModel",
            "placeholder": "​",
            "_view_module": "@jupyter-widgets/controls",
            "_model_module_version": "1.5.0",
            "value": " 232k/232k [00:00&lt;00:00, 502kB/s]",
            "_view_count": null,
            "_view_module_version": "1.5.0",
            "description_tooltip": null,
            "_model_module": "@jupyter-widgets/controls",
            "layout": "IPY_MODEL_408c7a547fc84768a90329d05aa88a82"
          }
        },
        "b06cfde93d364376b39b87782a5b5680": {
          "model_module": "@jupyter-widgets/controls",
          "model_name": "ProgressStyleModel",
          "state": {
            "_view_name": "StyleView",
            "_model_name": "ProgressStyleModel",
            "description_width": "initial",
            "_view_module": "@jupyter-widgets/base",
            "_model_module_version": "1.5.0",
            "_view_count": null,
            "_view_module_version": "1.2.0",
            "bar_color": null,
            "_model_module": "@jupyter-widgets/controls"
          }
        },
        "654ed5edc8e647c3ad174d458c405712": {
          "model_module": "@jupyter-widgets/base",
          "model_name": "LayoutModel",
          "state": {
            "_view_name": "LayoutView",
            "grid_template_rows": null,
            "right": null,
            "justify_content": null,
            "_view_module": "@jupyter-widgets/base",
            "overflow": null,
            "_model_module_version": "1.2.0",
            "_view_count": null,
            "flex_flow": null,
            "width": null,
            "min_width": null,
            "border": null,
            "align_items": null,
            "bottom": null,
            "_model_module": "@jupyter-widgets/base",
            "top": null,
            "grid_column": null,
            "overflow_y": null,
            "overflow_x": null,
            "grid_auto_flow": null,
            "grid_area": null,
            "grid_template_columns": null,
            "flex": null,
            "_model_name": "LayoutModel",
            "justify_items": null,
            "grid_row": null,
            "max_height": null,
            "align_content": null,
            "visibility": null,
            "align_self": null,
            "height": null,
            "min_height": null,
            "padding": null,
            "grid_auto_rows": null,
            "grid_gap": null,
            "max_width": null,
            "order": null,
            "_view_module_version": "1.2.0",
            "grid_template_areas": null,
            "object_position": null,
            "object_fit": null,
            "grid_auto_columns": null,
            "margin": null,
            "display": null,
            "left": null
          }
        },
        "e0504288d7ad485a99c5b90ea797bdc6": {
          "model_module": "@jupyter-widgets/controls",
          "model_name": "DescriptionStyleModel",
          "state": {
            "_view_name": "StyleView",
            "_model_name": "DescriptionStyleModel",
            "description_width": "",
            "_view_module": "@jupyter-widgets/base",
            "_model_module_version": "1.5.0",
            "_view_count": null,
            "_view_module_version": "1.2.0",
            "_model_module": "@jupyter-widgets/controls"
          }
        },
        "408c7a547fc84768a90329d05aa88a82": {
          "model_module": "@jupyter-widgets/base",
          "model_name": "LayoutModel",
          "state": {
            "_view_name": "LayoutView",
            "grid_template_rows": null,
            "right": null,
            "justify_content": null,
            "_view_module": "@jupyter-widgets/base",
            "overflow": null,
            "_model_module_version": "1.2.0",
            "_view_count": null,
            "flex_flow": null,
            "width": null,
            "min_width": null,
            "border": null,
            "align_items": null,
            "bottom": null,
            "_model_module": "@jupyter-widgets/base",
            "top": null,
            "grid_column": null,
            "overflow_y": null,
            "overflow_x": null,
            "grid_auto_flow": null,
            "grid_area": null,
            "grid_template_columns": null,
            "flex": null,
            "_model_name": "LayoutModel",
            "justify_items": null,
            "grid_row": null,
            "max_height": null,
            "align_content": null,
            "visibility": null,
            "align_self": null,
            "height": null,
            "min_height": null,
            "padding": null,
            "grid_auto_rows": null,
            "grid_gap": null,
            "max_width": null,
            "order": null,
            "_view_module_version": "1.2.0",
            "grid_template_areas": null,
            "object_position": null,
            "object_fit": null,
            "grid_auto_columns": null,
            "margin": null,
            "display": null,
            "left": null
          }
        },
        "2edbcd85dad947fa98a5532dc8972ea4": {
          "model_module": "@jupyter-widgets/controls",
          "model_name": "HBoxModel",
          "state": {
            "_view_name": "HBoxView",
            "_dom_classes": [],
            "_model_name": "HBoxModel",
            "_view_module": "@jupyter-widgets/controls",
            "_model_module_version": "1.5.0",
            "_view_count": null,
            "_view_module_version": "1.5.0",
            "box_style": "",
            "layout": "IPY_MODEL_7185cbb2946f4b02939642975b1e3f34",
            "_model_module": "@jupyter-widgets/controls",
            "children": [
              "IPY_MODEL_101cccbefb5d4ffaabbde8fd7b83be8a",
              "IPY_MODEL_2e9d791591c04a26a00b8956515af4a9"
            ]
          }
        },
        "7185cbb2946f4b02939642975b1e3f34": {
          "model_module": "@jupyter-widgets/base",
          "model_name": "LayoutModel",
          "state": {
            "_view_name": "LayoutView",
            "grid_template_rows": null,
            "right": null,
            "justify_content": null,
            "_view_module": "@jupyter-widgets/base",
            "overflow": null,
            "_model_module_version": "1.2.0",
            "_view_count": null,
            "flex_flow": null,
            "width": null,
            "min_width": null,
            "border": null,
            "align_items": null,
            "bottom": null,
            "_model_module": "@jupyter-widgets/base",
            "top": null,
            "grid_column": null,
            "overflow_y": null,
            "overflow_x": null,
            "grid_auto_flow": null,
            "grid_area": null,
            "grid_template_columns": null,
            "flex": null,
            "_model_name": "LayoutModel",
            "justify_items": null,
            "grid_row": null,
            "max_height": null,
            "align_content": null,
            "visibility": null,
            "align_self": null,
            "height": null,
            "min_height": null,
            "padding": null,
            "grid_auto_rows": null,
            "grid_gap": null,
            "max_width": null,
            "order": null,
            "_view_module_version": "1.2.0",
            "grid_template_areas": null,
            "object_position": null,
            "object_fit": null,
            "grid_auto_columns": null,
            "margin": null,
            "display": null,
            "left": null
          }
        },
        "101cccbefb5d4ffaabbde8fd7b83be8a": {
          "model_module": "@jupyter-widgets/controls",
          "model_name": "FloatProgressModel",
          "state": {
            "_view_name": "ProgressView",
            "style": "IPY_MODEL_9372f9f8a7ed43dbaa64be305d5d24ff",
            "_dom_classes": [],
            "description": "Downloading: 100%",
            "_model_name": "FloatProgressModel",
            "bar_style": "success",
            "max": 112,
            "_view_module": "@jupyter-widgets/controls",
            "_model_module_version": "1.5.0",
            "value": 112,
            "_view_count": null,
            "_view_module_version": "1.5.0",
            "orientation": "horizontal",
            "min": 0,
            "description_tooltip": null,
            "_model_module": "@jupyter-widgets/controls",
            "layout": "IPY_MODEL_b3e0380d6821435bb0374051a0cddf17"
          }
        },
        "2e9d791591c04a26a00b8956515af4a9": {
          "model_module": "@jupyter-widgets/controls",
          "model_name": "HTMLModel",
          "state": {
            "_view_name": "HTMLView",
            "style": "IPY_MODEL_48b82e570f834fb89a40b8697fabd334",
            "_dom_classes": [],
            "description": "",
            "_model_name": "HTMLModel",
            "placeholder": "​",
            "_view_module": "@jupyter-widgets/controls",
            "_model_module_version": "1.5.0",
            "value": " 112/112 [00:00&lt;00:00, 696B/s]",
            "_view_count": null,
            "_view_module_version": "1.5.0",
            "description_tooltip": null,
            "_model_module": "@jupyter-widgets/controls",
            "layout": "IPY_MODEL_327c0c0af09e443a92d9c8bd86ce140c"
          }
        },
        "9372f9f8a7ed43dbaa64be305d5d24ff": {
          "model_module": "@jupyter-widgets/controls",
          "model_name": "ProgressStyleModel",
          "state": {
            "_view_name": "StyleView",
            "_model_name": "ProgressStyleModel",
            "description_width": "initial",
            "_view_module": "@jupyter-widgets/base",
            "_model_module_version": "1.5.0",
            "_view_count": null,
            "_view_module_version": "1.2.0",
            "bar_color": null,
            "_model_module": "@jupyter-widgets/controls"
          }
        },
        "b3e0380d6821435bb0374051a0cddf17": {
          "model_module": "@jupyter-widgets/base",
          "model_name": "LayoutModel",
          "state": {
            "_view_name": "LayoutView",
            "grid_template_rows": null,
            "right": null,
            "justify_content": null,
            "_view_module": "@jupyter-widgets/base",
            "overflow": null,
            "_model_module_version": "1.2.0",
            "_view_count": null,
            "flex_flow": null,
            "width": null,
            "min_width": null,
            "border": null,
            "align_items": null,
            "bottom": null,
            "_model_module": "@jupyter-widgets/base",
            "top": null,
            "grid_column": null,
            "overflow_y": null,
            "overflow_x": null,
            "grid_auto_flow": null,
            "grid_area": null,
            "grid_template_columns": null,
            "flex": null,
            "_model_name": "LayoutModel",
            "justify_items": null,
            "grid_row": null,
            "max_height": null,
            "align_content": null,
            "visibility": null,
            "align_self": null,
            "height": null,
            "min_height": null,
            "padding": null,
            "grid_auto_rows": null,
            "grid_gap": null,
            "max_width": null,
            "order": null,
            "_view_module_version": "1.2.0",
            "grid_template_areas": null,
            "object_position": null,
            "object_fit": null,
            "grid_auto_columns": null,
            "margin": null,
            "display": null,
            "left": null
          }
        },
        "48b82e570f834fb89a40b8697fabd334": {
          "model_module": "@jupyter-widgets/controls",
          "model_name": "DescriptionStyleModel",
          "state": {
            "_view_name": "StyleView",
            "_model_name": "DescriptionStyleModel",
            "description_width": "",
            "_view_module": "@jupyter-widgets/base",
            "_model_module_version": "1.5.0",
            "_view_count": null,
            "_view_module_version": "1.2.0",
            "_model_module": "@jupyter-widgets/controls"
          }
        },
        "327c0c0af09e443a92d9c8bd86ce140c": {
          "model_module": "@jupyter-widgets/base",
          "model_name": "LayoutModel",
          "state": {
            "_view_name": "LayoutView",
            "grid_template_rows": null,
            "right": null,
            "justify_content": null,
            "_view_module": "@jupyter-widgets/base",
            "overflow": null,
            "_model_module_version": "1.2.0",
            "_view_count": null,
            "flex_flow": null,
            "width": null,
            "min_width": null,
            "border": null,
            "align_items": null,
            "bottom": null,
            "_model_module": "@jupyter-widgets/base",
            "top": null,
            "grid_column": null,
            "overflow_y": null,
            "overflow_x": null,
            "grid_auto_flow": null,
            "grid_area": null,
            "grid_template_columns": null,
            "flex": null,
            "_model_name": "LayoutModel",
            "justify_items": null,
            "grid_row": null,
            "max_height": null,
            "align_content": null,
            "visibility": null,
            "align_self": null,
            "height": null,
            "min_height": null,
            "padding": null,
            "grid_auto_rows": null,
            "grid_gap": null,
            "max_width": null,
            "order": null,
            "_view_module_version": "1.2.0",
            "grid_template_areas": null,
            "object_position": null,
            "object_fit": null,
            "grid_auto_columns": null,
            "margin": null,
            "display": null,
            "left": null
          }
        },
        "3c3df655505645e2ab6efa5f11562703": {
          "model_module": "@jupyter-widgets/controls",
          "model_name": "HBoxModel",
          "state": {
            "_view_name": "HBoxView",
            "_dom_classes": [],
            "_model_name": "HBoxModel",
            "_view_module": "@jupyter-widgets/controls",
            "_model_module_version": "1.5.0",
            "_view_count": null,
            "_view_module_version": "1.5.0",
            "box_style": "",
            "layout": "IPY_MODEL_9b1cb1e875f2477bbbb3c50ed6cd78dd",
            "_model_module": "@jupyter-widgets/controls",
            "children": [
              "IPY_MODEL_059621d70f7d4b7aabe0aeb770eefdcf",
              "IPY_MODEL_9ee886143b6f4f4dbf5e6809f691fc3a"
            ]
          }
        },
        "9b1cb1e875f2477bbbb3c50ed6cd78dd": {
          "model_module": "@jupyter-widgets/base",
          "model_name": "LayoutModel",
          "state": {
            "_view_name": "LayoutView",
            "grid_template_rows": null,
            "right": null,
            "justify_content": null,
            "_view_module": "@jupyter-widgets/base",
            "overflow": null,
            "_model_module_version": "1.2.0",
            "_view_count": null,
            "flex_flow": null,
            "width": null,
            "min_width": null,
            "border": null,
            "align_items": null,
            "bottom": null,
            "_model_module": "@jupyter-widgets/base",
            "top": null,
            "grid_column": null,
            "overflow_y": null,
            "overflow_x": null,
            "grid_auto_flow": null,
            "grid_area": null,
            "grid_template_columns": null,
            "flex": null,
            "_model_name": "LayoutModel",
            "justify_items": null,
            "grid_row": null,
            "max_height": null,
            "align_content": null,
            "visibility": null,
            "align_self": null,
            "height": null,
            "min_height": null,
            "padding": null,
            "grid_auto_rows": null,
            "grid_gap": null,
            "max_width": null,
            "order": null,
            "_view_module_version": "1.2.0",
            "grid_template_areas": null,
            "object_position": null,
            "object_fit": null,
            "grid_auto_columns": null,
            "margin": null,
            "display": null,
            "left": null
          }
        },
        "059621d70f7d4b7aabe0aeb770eefdcf": {
          "model_module": "@jupyter-widgets/controls",
          "model_name": "FloatProgressModel",
          "state": {
            "_view_name": "ProgressView",
            "style": "IPY_MODEL_e764124d45de4abb953de78d8f72a1fd",
            "_dom_classes": [],
            "description": "Downloading: 100%",
            "_model_name": "FloatProgressModel",
            "bar_style": "success",
            "max": 48,
            "_view_module": "@jupyter-widgets/controls",
            "_model_module_version": "1.5.0",
            "value": 48,
            "_view_count": null,
            "_view_module_version": "1.5.0",
            "orientation": "horizontal",
            "min": 0,
            "description_tooltip": null,
            "_model_module": "@jupyter-widgets/controls",
            "layout": "IPY_MODEL_32536edef1704580a45b11b71e1c5368"
          }
        },
        "9ee886143b6f4f4dbf5e6809f691fc3a": {
          "model_module": "@jupyter-widgets/controls",
          "model_name": "HTMLModel",
          "state": {
            "_view_name": "HTMLView",
            "style": "IPY_MODEL_cd972d7333624dfcba524e07c0c9e24f",
            "_dom_classes": [],
            "description": "",
            "_model_name": "HTMLModel",
            "placeholder": "​",
            "_view_module": "@jupyter-widgets/controls",
            "_model_module_version": "1.5.0",
            "value": " 48.0/48.0 [00:00&lt;00:00, 656B/s]",
            "_view_count": null,
            "_view_module_version": "1.5.0",
            "description_tooltip": null,
            "_model_module": "@jupyter-widgets/controls",
            "layout": "IPY_MODEL_aed7d2cb506d474bb11b0adba96d8f16"
          }
        },
        "e764124d45de4abb953de78d8f72a1fd": {
          "model_module": "@jupyter-widgets/controls",
          "model_name": "ProgressStyleModel",
          "state": {
            "_view_name": "StyleView",
            "_model_name": "ProgressStyleModel",
            "description_width": "initial",
            "_view_module": "@jupyter-widgets/base",
            "_model_module_version": "1.5.0",
            "_view_count": null,
            "_view_module_version": "1.2.0",
            "bar_color": null,
            "_model_module": "@jupyter-widgets/controls"
          }
        },
        "32536edef1704580a45b11b71e1c5368": {
          "model_module": "@jupyter-widgets/base",
          "model_name": "LayoutModel",
          "state": {
            "_view_name": "LayoutView",
            "grid_template_rows": null,
            "right": null,
            "justify_content": null,
            "_view_module": "@jupyter-widgets/base",
            "overflow": null,
            "_model_module_version": "1.2.0",
            "_view_count": null,
            "flex_flow": null,
            "width": null,
            "min_width": null,
            "border": null,
            "align_items": null,
            "bottom": null,
            "_model_module": "@jupyter-widgets/base",
            "top": null,
            "grid_column": null,
            "overflow_y": null,
            "overflow_x": null,
            "grid_auto_flow": null,
            "grid_area": null,
            "grid_template_columns": null,
            "flex": null,
            "_model_name": "LayoutModel",
            "justify_items": null,
            "grid_row": null,
            "max_height": null,
            "align_content": null,
            "visibility": null,
            "align_self": null,
            "height": null,
            "min_height": null,
            "padding": null,
            "grid_auto_rows": null,
            "grid_gap": null,
            "max_width": null,
            "order": null,
            "_view_module_version": "1.2.0",
            "grid_template_areas": null,
            "object_position": null,
            "object_fit": null,
            "grid_auto_columns": null,
            "margin": null,
            "display": null,
            "left": null
          }
        },
        "cd972d7333624dfcba524e07c0c9e24f": {
          "model_module": "@jupyter-widgets/controls",
          "model_name": "DescriptionStyleModel",
          "state": {
            "_view_name": "StyleView",
            "_model_name": "DescriptionStyleModel",
            "description_width": "",
            "_view_module": "@jupyter-widgets/base",
            "_model_module_version": "1.5.0",
            "_view_count": null,
            "_view_module_version": "1.2.0",
            "_model_module": "@jupyter-widgets/controls"
          }
        },
        "aed7d2cb506d474bb11b0adba96d8f16": {
          "model_module": "@jupyter-widgets/base",
          "model_name": "LayoutModel",
          "state": {
            "_view_name": "LayoutView",
            "grid_template_rows": null,
            "right": null,
            "justify_content": null,
            "_view_module": "@jupyter-widgets/base",
            "overflow": null,
            "_model_module_version": "1.2.0",
            "_view_count": null,
            "flex_flow": null,
            "width": null,
            "min_width": null,
            "border": null,
            "align_items": null,
            "bottom": null,
            "_model_module": "@jupyter-widgets/base",
            "top": null,
            "grid_column": null,
            "overflow_y": null,
            "overflow_x": null,
            "grid_auto_flow": null,
            "grid_area": null,
            "grid_template_columns": null,
            "flex": null,
            "_model_name": "LayoutModel",
            "justify_items": null,
            "grid_row": null,
            "max_height": null,
            "align_content": null,
            "visibility": null,
            "align_self": null,
            "height": null,
            "min_height": null,
            "padding": null,
            "grid_auto_rows": null,
            "grid_gap": null,
            "max_width": null,
            "order": null,
            "_view_module_version": "1.2.0",
            "grid_template_areas": null,
            "object_position": null,
            "object_fit": null,
            "grid_auto_columns": null,
            "margin": null,
            "display": null,
            "left": null
          }
        }
      }
    }
  },
  "cells": [
    {
      "cell_type": "code",
      "metadata": {
        "id": "mF_Naapo84HV",
        "colab": {
          "base_uri": "https://localhost:8080/"
        },
        "outputId": "0b63a1e5-eaae-423a-b341-f201a7e8b3e4"
      },
      "source": [
        "import numpy as np\r\n",
        "import warnings\r\n",
        "warnings.filterwarnings(\"ignore\")\r\n",
        "!pip install transformers==4.0.1\r\n",
        "from transformers import AutoTokenizer, AutoModelForSequenceClassification\r\n",
        "!pip install word2number \r\n",
        "!git clone http://github.com/Soyeon-ErinLee/Dobby-AI\r\n",
        "%cd /content/Dobby-AI/Python_Modules/\r\n",
        "import mrc_extractor\r\n",
        "import make_tables\r\n",
        "%cd /content/"
      ],
      "execution_count": 1,
      "outputs": [
        {
          "output_type": "stream",
          "text": [
            "Collecting transformers==4.0.1\n",
            "\u001b[?25l  Downloading https://files.pythonhosted.org/packages/ed/db/98c3ea1a78190dac41c0127a063abf92bd01b4b0b6970a6db1c2f5b66fa0/transformers-4.0.1-py3-none-any.whl (1.4MB)\n",
            "\u001b[K     |████████████████████████████████| 1.4MB 5.5MB/s \n",
            "\u001b[?25hRequirement already satisfied: packaging in /usr/local/lib/python3.6/dist-packages (from transformers==4.0.1) (20.9)\n",
            "Requirement already satisfied: regex!=2019.12.17 in /usr/local/lib/python3.6/dist-packages (from transformers==4.0.1) (2019.12.20)\n",
            "Collecting sacremoses\n",
            "\u001b[?25l  Downloading https://files.pythonhosted.org/packages/7d/34/09d19aff26edcc8eb2a01bed8e98f13a1537005d31e95233fd48216eed10/sacremoses-0.0.43.tar.gz (883kB)\n",
            "\u001b[K     |████████████████████████████████| 890kB 11.2MB/s \n",
            "\u001b[?25hRequirement already satisfied: tqdm>=4.27 in /usr/local/lib/python3.6/dist-packages (from transformers==4.0.1) (4.41.1)\n",
            "Requirement already satisfied: dataclasses; python_version < \"3.7\" in /usr/local/lib/python3.6/dist-packages (from transformers==4.0.1) (0.8)\n",
            "Requirement already satisfied: numpy in /usr/local/lib/python3.6/dist-packages (from transformers==4.0.1) (1.19.5)\n",
            "Requirement already satisfied: filelock in /usr/local/lib/python3.6/dist-packages (from transformers==4.0.1) (3.0.12)\n",
            "Requirement already satisfied: requests in /usr/local/lib/python3.6/dist-packages (from transformers==4.0.1) (2.23.0)\n",
            "Collecting tokenizers==0.9.4\n",
            "\u001b[?25l  Downloading https://files.pythonhosted.org/packages/0f/1c/e789a8b12e28be5bc1ce2156cf87cb522b379be9cadc7ad8091a4cc107c4/tokenizers-0.9.4-cp36-cp36m-manylinux2010_x86_64.whl (2.9MB)\n",
            "\u001b[K     |████████████████████████████████| 2.9MB 20.4MB/s \n",
            "\u001b[?25hRequirement already satisfied: pyparsing>=2.0.2 in /usr/local/lib/python3.6/dist-packages (from packaging->transformers==4.0.1) (2.4.7)\n",
            "Requirement already satisfied: six in /usr/local/lib/python3.6/dist-packages (from sacremoses->transformers==4.0.1) (1.15.0)\n",
            "Requirement already satisfied: click in /usr/local/lib/python3.6/dist-packages (from sacremoses->transformers==4.0.1) (7.1.2)\n",
            "Requirement already satisfied: joblib in /usr/local/lib/python3.6/dist-packages (from sacremoses->transformers==4.0.1) (1.0.0)\n",
            "Requirement already satisfied: idna<3,>=2.5 in /usr/local/lib/python3.6/dist-packages (from requests->transformers==4.0.1) (2.10)\n",
            "Requirement already satisfied: urllib3!=1.25.0,!=1.25.1,<1.26,>=1.21.1 in /usr/local/lib/python3.6/dist-packages (from requests->transformers==4.0.1) (1.24.3)\n",
            "Requirement already satisfied: certifi>=2017.4.17 in /usr/local/lib/python3.6/dist-packages (from requests->transformers==4.0.1) (2020.12.5)\n",
            "Requirement already satisfied: chardet<4,>=3.0.2 in /usr/local/lib/python3.6/dist-packages (from requests->transformers==4.0.1) (3.0.4)\n",
            "Building wheels for collected packages: sacremoses\n",
            "  Building wheel for sacremoses (setup.py) ... \u001b[?25l\u001b[?25hdone\n",
            "  Created wheel for sacremoses: filename=sacremoses-0.0.43-cp36-none-any.whl size=893261 sha256=4f58cfe06044a02c8aa1b3bf255d6854372ecf4fd3e93d601813ec307350e22b\n",
            "  Stored in directory: /root/.cache/pip/wheels/29/3c/fd/7ce5c3f0666dab31a50123635e6fb5e19ceb42ce38d4e58f45\n",
            "Successfully built sacremoses\n",
            "Installing collected packages: sacremoses, tokenizers, transformers\n",
            "Successfully installed sacremoses-0.0.43 tokenizers-0.9.4 transformers-4.0.1\n",
            "Collecting word2number\n",
            "  Downloading https://files.pythonhosted.org/packages/4a/29/a31940c848521f0725f0df6b25dca8917f13a2025b0e8fcbe5d0457e45e6/word2number-1.1.zip\n",
            "Building wheels for collected packages: word2number\n",
            "  Building wheel for word2number (setup.py) ... \u001b[?25l\u001b[?25hdone\n",
            "  Created wheel for word2number: filename=word2number-1.1-cp36-none-any.whl size=5588 sha256=9cd1fab37be33ae692b9db830c465d288e6575f05d4269282f4da14ee405544b\n",
            "  Stored in directory: /root/.cache/pip/wheels/46/2f/53/5f5c1d275492f2fce1cdab9a9bb12d49286dead829a4078e0e\n",
            "Successfully built word2number\n",
            "Installing collected packages: word2number\n",
            "Successfully installed word2number-1.1\n",
            "Cloning into 'Dobby-AI'...\n",
            "warning: redirecting to https://github.com/Soyeon-ErinLee/Dobby-AI/\n",
            "remote: Enumerating objects: 331, done.\u001b[K\n",
            "remote: Counting objects: 100% (331/331), done.\u001b[K\n",
            "remote: Compressing objects: 100% (199/199), done.\u001b[K\n",
            "remote: Total 904 (delta 216), reused 225 (delta 127), pack-reused 573\u001b[K\n",
            "Receiving objects: 100% (904/904), 27.22 MiB | 27.12 MiB/s, done.\n",
            "Resolving deltas: 100% (452/452), done.\n",
            "/content/Dobby-AI/Python_Modules\n",
            "/content\n"
          ],
          "name": "stdout"
        }
      ]
    },
    {
      "cell_type": "code",
      "metadata": {
        "id": "epfsXhBhvP6U"
      },
      "source": [
        "# 회의록 전문\r\n",
        "# 회의 일자 및 시각이 각 전문 앞에 위치함\r\n",
        "full_ideation=\" Bob Hi we are here for Idea Generation Meeting. <br> The attendees of today's meeting are Crystal, Bob, Amy, Cecillia. <br> Alright, so the main topic of this meeting will be ideas for the competition The competition is about creating an advanced technology solution that helps an organization or industry of your choice overcome or leverage the impacts of the global pandemic. <br>  <br> Crystal The first Idea that I thought of has to do with automation in recycling industry. Since COVID 19, there have lots of news about increased number of disposable package trashes. I think we should tackle the recycling industry to reduce the impact on environment.  <br>  <br> Bob I think first idea is very relevant to the topic of COVID 19. I was also thinking that the increase in delivery has led to significant increase in trashes. Also, the rise in single-use masks and disposable gloves around the world has also come with a huge environmental cost. <br>  <br> Amy I think first idea is great as well. Perhaps we can develop a AI-sensor that helps distinguish which trashes are reusable and what category they should be sorted as. This should help expedite the process for waste management and separation <br>  <br> Cecillia I was also thinking about the trashes but since Crystal has already talked about it, the second idea that I had was about vaccination. I was thinking that we can develop an AI-enhanced program that can help identify the best distribution plan for vaccine once it's available.  <br>  <br> Bob  Oh! That's very interesting. It's also very relevant since the vaccines are rolling out now at a very limited quantity. I think we can have two objectives to optimize with the model for this second idea. For example, we can set the goal to minimize number of COVID related deaths or minimize the spread of COVID. Each objective would have different distribution policies since the former would prioritize elderlies with weaker health while the latter would prioritize the working population with a lot of outdoor activities <br> Crystal  However, I think it can be a problem because it is difficult to create a model for the second idea that consider all the parameters.<br> Bob That’s true. So we have discussed two ideas today. Both of them have good and downside.  <br> \"\r\n",
        "full_Agenda=\"Erin Hi everyone, We're starting today's meeting, and the topic is 3rd KIC Project Progress Check. The attendees of today's meeting are Erin, Kim, Steven, Sierra, Koo, and Jeon. Shall we begin our meeting? So we have two main agendas for today. Why don't we start with Kim and talk about the first agenda? <br>  <br> Kim The first thing we need to discuss about is what API we should use. So I have been searching up APIs and found 5 products, but the ones worth talking about are 2, one made by Google and the other made by IBM. Both of them have pretty much similar quality I think. They can interpret the words well and transcribe them with high accuracy. The bottom line is, Google and IBM works the best.  <br>  <br> Erin Oh I have used Google API before. Isn't it kinda bad? The accuracy is not so great isn't it?  <br>  <br> Kim I think the accuracy and the level of completion is different between the free version and premium paid version. Since we can still use the premium paid version for free during trial period, we should do that. <br>  <br> Erin Alright then, could you please use the premium version and see how it works out? After that let's select the API and do some coding works to get them to function. You should work with Sierra on that Can we do this by next meeting which we should hold on the 12th? <br>  <br> Kim Okay, so we have two action items for this. First thing is to evaluate Google Premium API, and i will do that. The next item is to confirm API and edit the code, me, Kim and Sierra will <br>  <br> Erin Next is Steven, please update us with your interface works, the second agenda for this meeting.  <br>  <br> Steven Well I haven't been very productive with my task so please excuse me. What I did do however is I searched up some already-available services for Ai automated transcription services. There were two that I found to be somewhat relevant to what we were doing: Otter.ai and Deeptalk. Fortunately both of them have yet developed ways to produce meeting notes or minute so if we can get it done, we would be the first to do so. I will get the interface design by today and the rest of the work including homepage feedback by the next meeting on the 12th. <br>  <br> Erin alright. Steven will have two tasks for the second agenda. First one is to get the interface design by today. Second is to give some Homepage feedback by the next meeting. <br>  <br>  <br>  <br>  <br> \""
      ],
      "execution_count": 2,
      "outputs": []
    },
    {
      "cell_type": "code",
      "metadata": {
        "id": "O4TihBkM6xvC"
      },
      "source": [
        "# 질문 list\r\n",
        "# full_script에 대한 질문 목록에 해당 \r\n",
        "faq_query={'query_dict_agenda':{'table_top': {\r\n",
        "\t'Participants':'who are the attendees at the meeting?',\r\n",
        "\t'Topic':'what was the main topic of the meeting?',\r\n",
        "    'num_agendas':'How many agendas?',\r\n",
        "    'num_act_items_1':'How many action items for the first agenda?',\r\n",
        "    'num_act_items_2':'How many action items for the second agenda?' \r\n",
        "\t},\r\n",
        " 'table_main1': {\r\n",
        "    'Discussion Topic':'what was the topic of the first agenda?',\r\n",
        "\t'Presenter':'who was the presenter of the first agenda?',\r\n",
        "\t'Conclusion':'what was the conclusion of the first agenda?'\r\n",
        " },\r\n",
        "  'table_main1_1':{\r\n",
        "\t'Action Item':'what was the first task for the first agenda ?',\r\n",
        "\t'Person Responsible':'who was responsible for the first task  of the first agenda?',\r\n",
        "\t'Deadline':'when is the deadline of the first task of the first agenda?'\r\n",
        "  },\r\n",
        "    'table_main1_2':{\r\n",
        "\t'Action Item':'what was the second task for the first agenda ?',\r\n",
        "\t'Person Responsible':'who was responsible for the second task  of the first agenda?',\r\n",
        "\t'Deadline':'when is the deadline of the second task of the first agenda?'\r\n",
        "  },\r\n",
        " 'table_main2': {\r\n",
        "    'Discussion Topic':'what was the topic of the second agenda?',\r\n",
        "\t'Presenter':'who was the presenter of the second agenda?',\r\n",
        "\t'Conclusion':'what was the conclusion of the second agenda?'\r\n",
        " },\r\n",
        "  'table_main2_1':{\r\n",
        "\t'Action Item':'what was the first task for the second agenda?',\r\n",
        "\t'Person Responsible':'who was responsible for the first task  of the second agenda?',\r\n",
        "\t'Deadline':'when is the deadline of the first task of the second agenda?'\r\n",
        "  },\r\n",
        "    'table_main2_2':{\r\n",
        "\t'Action Item':'what was the second task for the second agenda ?',\r\n",
        "\t'Person Responsible':'who was responsible for the second task  of the second agenda?',\r\n",
        "\t'Deadline':'when is the deadline of the second task of the second agenda?'\r\n",
        "  }\r\n",
        "},\r\n",
        "'query_dict_idea':{'table_top': {\r\n",
        "\t'Participants':'who are the attendees at the meeting?',\r\n",
        "\t'Topic':'what was the main topic of the meeting?',\r\n",
        "    'num_agendas':'How many ideas discussed?',\r\n",
        " },\r\n",
        "  'table_main1': {\r\n",
        "    'Idea 1':'what was the first idea?'\r\n",
        " },\r\n",
        "  'table_main1_1':{\r\n",
        "\t'quest1':'what can be advantage of the first idea?',\r\n",
        "\t'quest2': 'what is the problem of the first idea?',\r\n",
        "\t'quest3':'what can be the possible solution for the first  idea?'\r\n",
        " },\r\n",
        "  'table_main2': {\r\n",
        "    'Idea 2':'what was the second idea?'\r\n",
        " },\r\n",
        "   'table_main2_1':{\r\n",
        "\t'quest1':'what can be advantage of the second idea?',\r\n",
        "\t'quest2': 'what is the problem of the second idea?'\r\n",
        " }\r\n",
        "}, 'query_dict_interview': {}}\r\n"
      ],
      "execution_count": 7,
      "outputs": []
    },
    {
      "cell_type": "markdown",
      "metadata": {
        "id": "k0MXc4ihx1QD"
      },
      "source": [
        "# MRC_EXTRACTOR"
      ]
    },
    {
      "cell_type": "markdown",
      "metadata": {
        "id": "Kn_AAyRWx9bO"
      },
      "source": [
        "### .get_sep_passages()\r\n"
      ]
    },
    {
      "cell_type": "code",
      "metadata": {
        "colab": {
          "base_uri": "https://localhost:8080/",
          "height": 574,
          "referenced_widgets": [
            "b4c04b4e318d427bba89348fa692a603",
            "df6eaa9a210646e2b3daacb145b10076",
            "9e5798ec222e472b872c57c3105c0684",
            "1e88d22de34344fdb010133a060a7dab",
            "6cb481dde3a44fddb5dc9acc3e132435",
            "dbe3409de69b49acbfd3839a42eeb4d2",
            "402ae394a50b49848a1438b013e3f794",
            "058451f1c65d481083b3cf6c54538bd0",
            "d12a69527df047c9bbd61877f0e3329b",
            "6aa4dcf15a32494ca668e7554cd09225",
            "4a16f65a91ab4c97a9f8b0892f8faf79",
            "b61ba4d9c4f74eca8519381fc2de0ce3",
            "4fa256422b384153b35ce99d78be7a4c",
            "ae8d5271e19743dda0ae193427a04dc8",
            "2a594b525675411690db5ab0168d67b4",
            "33bdffe656714a5e87ae8eb213a63b6e",
            "faa70f58132a4a7dadb1d2fa3b1afc6a",
            "32a26ad1e60b4b6babc1210902fd548b",
            "a4769c517ff3496fbbc97731d58fb3cb",
            "a5cf19a374bf4ec3b7c76a86495e02df",
            "0992240595724975af5f4181f8ca8b38",
            "8c4e7ed533074d07b053419b22a43d6b",
            "7b35d73dc2c84952a026e14c92a952fc",
            "7f29d3cf6ece443983d12962aa98c0b9",
            "01c14d66c7354858a8b1338907098531",
            "7c22baecd963473280e20618f8dc63cd",
            "6faf2423579a420a82f56022b6dc7381",
            "c619c3d114f644659a21f065f3ca2334",
            "64b3f5657ada4778ad4d74525e632b51",
            "03e113bd49bf40f396a89abaa33c3c83",
            "30e53fe79172412a998555c808367215",
            "16406b051a9147228e85ad433403f5b0",
            "99fd75e5086b457c992e94f046b0c9b6",
            "a52f6a30cd8b4184b988855ea52f120f",
            "a64205907a97417183f4e5e7378020c2",
            "eb4445387f1a46fca4d7ec740e74cdb7",
            "6e454c5de97f4cfcbfb36b0ee6c1ba99",
            "314cf39dfe4b4c3d8516560741d00fb0",
            "5fd91e5ce6534af5ba6c33a2e226854a",
            "8f1e715e491041029f28a676a01ec22a",
            "3353799016324fed91d94ac5edbf5666",
            "72222209f9144914bf2d2a74bc3de2f4",
            "e43eec8c16b2451aaca742ec5deb1adf",
            "447cde01f96c49a783bc4b34a63bd4b9",
            "cc90c412bbf14373855e38487ceeb091",
            "a328ee86d77a40e5b6d2834c695beff1",
            "76ee25b8c23b4e7092bdfda616af9c3e",
            "3120955db395495dbe2a75b67470023b",
            "ad3ed703faf644d298794ddf99341e8d",
            "51aadf20fdc1451293bd17ddcc295bf5",
            "cdf58fa3a46449cea3a14b45993b298a",
            "c5816f78e8f047128aec888c7e5451ee",
            "12e5c1ef3a2d4ee1bd49cdb79ccab4da",
            "d1b2b507e1824d3ebf12cf6565d88727",
            "fd6666d209754ebb98e66ab81391e4bb",
            "28d649ee121d44cfb6141ffb7fdaf471",
            "5c6f5d3da5f04283a139e2f055fb297e",
            "21db47ab7a3e4c4cb4ac7d138abf1307",
            "c6025f9c3f0a4a51903d9b2c2d86254c",
            "855c4127c04242498b707667fef226ed",
            "b06cfde93d364376b39b87782a5b5680",
            "654ed5edc8e647c3ad174d458c405712",
            "e0504288d7ad485a99c5b90ea797bdc6",
            "408c7a547fc84768a90329d05aa88a82",
            "2edbcd85dad947fa98a5532dc8972ea4",
            "7185cbb2946f4b02939642975b1e3f34",
            "101cccbefb5d4ffaabbde8fd7b83be8a",
            "2e9d791591c04a26a00b8956515af4a9",
            "9372f9f8a7ed43dbaa64be305d5d24ff",
            "b3e0380d6821435bb0374051a0cddf17",
            "48b82e570f834fb89a40b8697fabd334",
            "327c0c0af09e443a92d9c8bd86ce140c",
            "3c3df655505645e2ab6efa5f11562703",
            "9b1cb1e875f2477bbbb3c50ed6cd78dd",
            "059621d70f7d4b7aabe0aeb770eefdcf",
            "9ee886143b6f4f4dbf5e6809f691fc3a",
            "e764124d45de4abb953de78d8f72a1fd",
            "32536edef1704580a45b11b71e1c5368",
            "cd972d7333624dfcba524e07c0c9e24f",
            "aed7d2cb506d474bb11b0adba96d8f16"
          ]
        },
        "id": "6qTlW_WWeNfs",
        "outputId": "839474f1-1eb5-4d5f-c281-73c92553542c"
      },
      "source": [
        "# .get_sep_passages()\r\n",
        "# 회의록 전문(full_script)을 적절한 길이로 나눈 passages 생성\r\n",
        "queries = [list(x.values()) for x in  list(faq_query['query_dict_idea'].values())]\r\n",
        "queries = [item for sublist in queries for item in sublist]\r\n",
        "\r\n",
        "MRC=mrc_extractor.MRC_EXTRACTION(queries, full_Agenda)\r\n",
        "get_sep_psg=MRC.get_sep_passages()\r\n",
        "get_sep_psg"
      ],
      "execution_count": 8,
      "outputs": [
        {
          "output_type": "display_data",
          "data": {
            "application/vnd.jupyter.widget-view+json": {
              "model_id": "b4c04b4e318d427bba89348fa692a603",
              "version_minor": 0,
              "version_major": 2
            },
            "text/plain": [
              "HBox(children=(FloatProgress(value=0.0, description='Downloading', max=696.0, style=ProgressStyle(description_…"
            ]
          },
          "metadata": {
            "tags": []
          }
        },
        {
          "output_type": "stream",
          "text": [
            "\n"
          ],
          "name": "stdout"
        },
        {
          "output_type": "display_data",
          "data": {
            "application/vnd.jupyter.widget-view+json": {
              "model_id": "d12a69527df047c9bbd61877f0e3329b",
              "version_minor": 0,
              "version_major": 2
            },
            "text/plain": [
              "HBox(children=(FloatProgress(value=0.0, description='Downloading', max=871891.0, style=ProgressStyle(descripti…"
            ]
          },
          "metadata": {
            "tags": []
          }
        },
        {
          "output_type": "stream",
          "text": [
            "\n"
          ],
          "name": "stdout"
        },
        {
          "output_type": "display_data",
          "data": {
            "application/vnd.jupyter.widget-view+json": {
              "model_id": "faa70f58132a4a7dadb1d2fa3b1afc6a",
              "version_minor": 0,
              "version_major": 2
            },
            "text/plain": [
              "HBox(children=(FloatProgress(value=0.0, description='Downloading', max=112.0, style=ProgressStyle(description_…"
            ]
          },
          "metadata": {
            "tags": []
          }
        },
        {
          "output_type": "stream",
          "text": [
            "\n"
          ],
          "name": "stdout"
        },
        {
          "output_type": "display_data",
          "data": {
            "application/vnd.jupyter.widget-view+json": {
              "model_id": "01c14d66c7354858a8b1338907098531",
              "version_minor": 0,
              "version_major": 2
            },
            "text/plain": [
              "HBox(children=(FloatProgress(value=0.0, description='Downloading', max=62.0, style=ProgressStyle(description_w…"
            ]
          },
          "metadata": {
            "tags": []
          }
        },
        {
          "output_type": "stream",
          "text": [
            "\n"
          ],
          "name": "stdout"
        },
        {
          "output_type": "display_data",
          "data": {
            "application/vnd.jupyter.widget-view+json": {
              "model_id": "99fd75e5086b457c992e94f046b0c9b6",
              "version_minor": 0,
              "version_major": 2
            },
            "text/plain": [
              "HBox(children=(FloatProgress(value=0.0, description='Downloading', max=669478888.0, style=ProgressStyle(descri…"
            ]
          },
          "metadata": {
            "tags": []
          }
        },
        {
          "output_type": "stream",
          "text": [
            "\n"
          ],
          "name": "stdout"
        },
        {
          "output_type": "display_data",
          "data": {
            "application/vnd.jupyter.widget-view+json": {
              "model_id": "3353799016324fed91d94ac5edbf5666",
              "version_minor": 0,
              "version_major": 2
            },
            "text/plain": [
              "HBox(children=(FloatProgress(value=0.0, description='Downloading', max=593.0, style=ProgressStyle(description_…"
            ]
          },
          "metadata": {
            "tags": []
          }
        },
        {
          "output_type": "stream",
          "text": [
            "\n"
          ],
          "name": "stdout"
        },
        {
          "output_type": "display_data",
          "data": {
            "application/vnd.jupyter.widget-view+json": {
              "model_id": "ad3ed703faf644d298794ddf99341e8d",
              "version_minor": 0,
              "version_major": 2
            },
            "text/plain": [
              "HBox(children=(FloatProgress(value=0.0, description='Downloading', max=1336546131.0, style=ProgressStyle(descr…"
            ]
          },
          "metadata": {
            "tags": []
          }
        },
        {
          "output_type": "stream",
          "text": [
            "\n"
          ],
          "name": "stdout"
        },
        {
          "output_type": "display_data",
          "data": {
            "application/vnd.jupyter.widget-view+json": {
              "model_id": "5c6f5d3da5f04283a139e2f055fb297e",
              "version_minor": 0,
              "version_major": 2
            },
            "text/plain": [
              "HBox(children=(FloatProgress(value=0.0, description='Downloading', max=231508.0, style=ProgressStyle(descripti…"
            ]
          },
          "metadata": {
            "tags": []
          }
        },
        {
          "output_type": "stream",
          "text": [
            "\n"
          ],
          "name": "stdout"
        },
        {
          "output_type": "display_data",
          "data": {
            "application/vnd.jupyter.widget-view+json": {
              "model_id": "2edbcd85dad947fa98a5532dc8972ea4",
              "version_minor": 0,
              "version_major": 2
            },
            "text/plain": [
              "HBox(children=(FloatProgress(value=0.0, description='Downloading', max=112.0, style=ProgressStyle(description_…"
            ]
          },
          "metadata": {
            "tags": []
          }
        },
        {
          "output_type": "stream",
          "text": [
            "\n"
          ],
          "name": "stdout"
        },
        {
          "output_type": "display_data",
          "data": {
            "application/vnd.jupyter.widget-view+json": {
              "model_id": "3c3df655505645e2ab6efa5f11562703",
              "version_minor": 0,
              "version_major": 2
            },
            "text/plain": [
              "HBox(children=(FloatProgress(value=0.0, description='Downloading', max=48.0, style=ProgressStyle(description_w…"
            ]
          },
          "metadata": {
            "tags": []
          }
        },
        {
          "output_type": "stream",
          "text": [
            "\n"
          ],
          "name": "stdout"
        },
        {
          "output_type": "execute_result",
          "data": {
            "text/plain": [
              "[\"Erin Hi everyone, We're starting today's meeting, and the topic is 3rd KIC Project Progress Check. The attendees of today's meeting are Erin, Kim, Steven, Sierra, Koo, and Jeon. Shall we begin our meeting? So we have two main agendas for today. Why don't we start with Kim and talk about the first agenda?      Kim The first thing we need to discuss about is what API we should use. So I have been searching up APIs and found 5 products, but the ones worth talking about are 2, one made by Google and the other made by IBM. Both of them have pretty much similar quality I think. They can interpret the words well and transcribe them with high accuracy. The bottom line is, Google and IBM works the best.       Erin Oh I have used Google API before. Isn't it kinda bad? The accuracy is not so great isn't it?       Kim I think the accuracy and the level of completion is different between the free version and premium paid version. Since we can still use the premium paid version for free during trial period, we should do that.      Erin Alright then, could you please use the premium version and see how it works out? After that let's select the API and do some coding works to get them to function. You should work with Sierra on that Can we do this by next meeting which we should hold on the 12th?      Kim Okay, so we have two action items for this. First thing is to evaluate Google Premium API, and i will do that. The next item is to confirm API and edit the code, me, Kim and Sierra will      Erin Next is Steven, please update us with your interface works, the second agenda for this meeting.       Steven Well I haven't been very productive with my task so please excuse me. What I did do however is I searched up some already-available services for Ai automated transcription services. There were two that I found to be somewhat relevant to what we were doing: Otter.ai and Deeptalk. Fortunately both of them have yet developed ways to produce meeting notes or minute so if we can get it done, we would be the first to do so. I will get the interface design by today and the rest of the work including homepage feedback by the next meeting on the 12th.    \",\n",
              " ' Erin alright. Steven will have two tasks for the second agenda. First one is to get the interface design by today. Second is to give some Homepage feedback by the next meeting.               ']"
            ]
          },
          "metadata": {
            "tags": []
          },
          "execution_count": 8
        }
      ]
    },
    {
      "cell_type": "markdown",
      "metadata": {
        "id": "idZ9bFVcgF7q"
      },
      "source": [
        "### .passage_reranking()"
      ]
    },
    {
      "cell_type": "code",
      "metadata": {
        "colab": {
          "base_uri": "https://localhost:8080/"
        },
        "id": "MY0AN5Neb-bl",
        "outputId": "cda1851e-3b1f-447f-c7ed-c0bce5af6764"
      },
      "source": [
        "#.passage_reranking()\r\n",
        "# 각 질문에 대해 passage의 관련성 점수 기준으로 정렬하여 출력\r\n",
        "\r\n",
        "MRC.passage_reranking()['what was the main topic of the meeting?']\r\n"
      ],
      "execution_count": 26,
      "outputs": [
        {
          "output_type": "execute_result",
          "data": {
            "text/plain": [
              "array([\"Erin Hi everyone, We're starting today's meeting, and the topic is 3rd KIC Project Progress Check. The attendees of today's meeting are Erin, Kim, Steven, Sierra, Koo, and Jeon. Shall we begin our meeting? So we have two main agendas for today. Why don't we start with Kim and talk about the first agenda?      Kim The first thing we need to discuss about is what API we should use. So I have been searching up APIs and found 5 products, but the ones worth talking about are 2, one made by Google and the other made by IBM. Both of them have pretty much similar quality I think. They can interpret the words well and transcribe them with high accuracy. The bottom line is, Google and IBM works the best.       Erin Oh I have used Google API before. Isn't it kinda bad? The accuracy is not so great isn't it?       Kim I think the accuracy and the level of completion is different between the free version and premium paid version. Since we can still use the premium paid version for free during trial period, we should do that.      Erin Alright then, could you please use the premium version and see how it works out? After that let's select the API and do some coding works to get them to function. You should work with Sierra on that Can we do this by next meeting which we should hold on the 12th?      Kim Okay, so we have two action items for this. First thing is to evaluate Google Premium API, and i will do that. The next item is to confirm API and edit the code, me, Kim and Sierra will      Erin Next is Steven, please update us with your interface works, the second agenda for this meeting.       Steven Well I haven't been very productive with my task so please excuse me. What I did do however is I searched up some already-available services for Ai automated transcription services. There were two that I found to be somewhat relevant to what we were doing: Otter.ai and Deeptalk. Fortunately both of them have yet developed ways to produce meeting notes or minute so if we can get it done, we would be the first to do so. I will get the interface design by today and the rest of the work including homepage feedback by the next meeting on the 12th.    \",\n",
              "       ' Erin alright. Steven will have two tasks for the second agenda. First one is to get the interface design by today. Second is to give some Homepage feedback by the next meeting.               '],\n",
              "      dtype='<U2168')"
            ]
          },
          "metadata": {
            "tags": []
          },
          "execution_count": 26
        }
      ]
    },
    {
      "cell_type": "markdown",
      "metadata": {
        "id": "azrzBPuRgGjZ"
      },
      "source": [
        "### .get_answer()"
      ]
    },
    {
      "cell_type": "code",
      "metadata": {
        "colab": {
          "base_uri": "https://localhost:8080/"
        },
        "id": "HztjPQnVb-pO",
        "outputId": "a0fd3bb5-2543-4029-b2c3-ff30590ca0cf"
      },
      "source": [
        "#.get_answer(self, query, context)\r\n",
        "#특정 passage에 query를 질문했을 때의 답변 출력\r\n",
        "MRC.get_answer('what was the main topic of the meeting?',get_sep_psg[0])"
      ],
      "execution_count": 28,
      "outputs": [
        {
          "output_type": "execute_result",
          "data": {
            "text/plain": [
              "('what was the main topic of the meeting?',\n",
              " '3rd KIC Project Progress Check',\n",
              " 0.852682888507843)"
            ]
          },
          "metadata": {
            "tags": []
          },
          "execution_count": 28
        }
      ]
    },
    {
      "cell_type": "markdown",
      "metadata": {
        "id": "woqeW96WgHUu"
      },
      "source": [
        "### .get_topN_answers()"
      ]
    },
    {
      "cell_type": "code",
      "metadata": {
        "colab": {
          "base_uri": "https://localhost:8080/"
        },
        "id": "irDZCK6heg5_",
        "outputId": "ed2d856c-c775-4809-c43b-10d7266bf560"
      },
      "source": [
        "#.get_topN_answers(self, max_texts=3, n_answer=1)\r\n",
        "# 관련성이 높은 top 3개 passage에서 get_answer()로 답변 출력\r\n",
        "MRC.get_topN_answers()"
      ],
      "execution_count": 29,
      "outputs": [
        {
          "output_type": "execute_result",
          "data": {
            "text/plain": [
              "{'How many action items for the first agenda?': 'two action items',\n",
              " 'How many action items for the second agenda?': 'two',\n",
              " 'How many agendas?': 'two',\n",
              " 'what was the conclusion of the first agenda?': 'to get the interface design by today',\n",
              " 'what was the conclusion of the second agenda?': 'to give some Homepage feedback by the next meeting.',\n",
              " 'what was the first task for the first agenda ?': 'evaluate Google Premium API',\n",
              " 'what was the first task for the second agenda?': 'evaluate Google Premium API',\n",
              " 'what was the main topic of the meeting?': '3rd KIC Project Progress Check',\n",
              " 'what was the second task for the first agenda ?': 'to confirm API and edit the code',\n",
              " 'what was the second task for the second agenda ?': 'to confirm API and edit the code',\n",
              " 'what was the topic of the first agenda?': '3rd KIC Project Progress Check',\n",
              " 'what was the topic of the second agenda?': 'please update us with your interface works',\n",
              " 'when is the deadline of the first task of the first agenda?': 'by today',\n",
              " 'when is the deadline of the first task of the second agenda?': 'by today',\n",
              " 'when is the deadline of the second task of the first agenda?': 'by the next meeting.',\n",
              " 'when is the deadline of the second task of the second agenda?': 'by the next meeting',\n",
              " 'who are the attendees at the meeting?': 'Erin',\n",
              " 'who was responsible for the first task  of the first agenda?': 'Kim',\n",
              " 'who was responsible for the first task  of the second agenda?': 'Steven',\n",
              " 'who was responsible for the second task  of the first agenda?': 'Steven',\n",
              " 'who was responsible for the second task  of the second agenda?': 'Steven',\n",
              " 'who was the presenter of the first agenda?': 'Kim',\n",
              " 'who was the presenter of the second agenda?': 'Erin'}"
            ]
          },
          "metadata": {
            "tags": []
          },
          "execution_count": 29
        }
      ]
    },
    {
      "cell_type": "code",
      "metadata": {
        "colab": {
          "base_uri": "https://localhost:8080/"
        },
        "id": "sLXW8zS5ehFt",
        "outputId": "3c51ed4f-5531-402b-b299-0a8d9f362de8"
      },
      "source": [
        "#.get_topN_answers(self, max_texts=3, n_answer=1)\r\n",
        "# 관련성이 높은 top 3개 passage에서 get_answer()로 답변 출력\r\n",
        "\r\n",
        "MRC=mrc_extractor.MRC_EXTRACTION(['q'], full_Agenda)\r\n",
        "get_sep_psg=MRC.get_sep_passages()\r\n",
        "MRC.get_topN_answers()"
      ],
      "execution_count": 11,
      "outputs": [
        {
          "output_type": "execute_result",
          "data": {
            "text/plain": [
              "{'q': 'Kim'}"
            ]
          },
          "metadata": {
            "tags": []
          },
          "execution_count": 11
        }
      ]
    },
    {
      "cell_type": "markdown",
      "metadata": {
        "id": "vQFaWmsifpOW"
      },
      "source": [
        "# MAKE_TABLES"
      ]
    },
    {
      "cell_type": "markdown",
      "metadata": {
        "id": "FWqy1Nlu5cIv"
      },
      "source": [
        "### .get_table()"
      ]
    },
    {
      "cell_type": "code",
      "metadata": {
        "id": "2deYKb6ggxmv"
      },
      "source": [
        "#.get_table()\r\n",
        "# MRC_EXTRACTOR를 이용하여 FAQ에 해당하는 답변을 정해진 형태의 html 태그로 출력"
      ],
      "execution_count": null,
      "outputs": []
    },
    {
      "cell_type": "code",
      "metadata": {
        "colab": {
          "base_uri": "https://localhost:8080/"
        },
        "id": "ggxnehWJarKO",
        "outputId": "10429066-f928-4215-8f25-f37dc1675cec"
      },
      "source": [
        "import time\r\n",
        "full=\"2021.02.14. 16:03 <br> Bob Hi we are here for Idea Generation Meeting. <br> The attendees of today's meeting are Crystal, Bob, Amy, Cecillia. <br> Alright, so the main topic of this meeting will be ideas for the competition The competition is about creating an advanced technology solution that helps an organization or industry of your choice overcome or leverage the impacts of the global pandemic. <br>  <br> Crystal The first Idea that I thought of has to do with automation in recycling industry. Since COVID 19, there have lots of news about increased number of disposable package trashes. I think we should tackle the recycling industry to reduce the impact on environment.  <br>  <br> Bob I think first idea is very relevant to the topic of COVID 19. I was also thinking that the increase in delivery has led to significant increase in trashes. Also, the rise in single-use masks and disposable gloves around the world has also come with a huge environmental cost. <br>  <br> Amy I think first idea is great as well. Perhaps we can develop a AI-sensor that helps distinguish which trashes are reusable and what category they should be sorted as. This should help expedite the process for waste management and separation <br>  <br> Cecillia I was also thinking about the trashes but since Crystal has already talked about it, the second idea that I had was about vaccination. I was thinking that we can develop an AI-enhanced program that can help identify the best distribution plan for vaccine once it's available.  <br>  <br> Bob  Oh! That's very interesting. It's also very relevant since the vaccines are rolling out now at a very limited quantity. I think we can have two objectives to optimize with the model for this second idea. For example, we can set the goal to minimize number of COVID related deaths or minimize the spread of COVID. Each objective would have different distribution policies since the former would prioritize elderlies with weaker health while the latter would prioritize the working population with a lot of outdoor activities <br> Crystal  However, I think it can be a problem because it is difficult to create a model for the second idea that consider all the parameters.<br> Bob That’s true. So we have discussed two ideas today. Both of them have good and downside.  <br> \"\r\n",
        "start=time.time()\r\n",
        "mtl=make_tables(query_dict_ex_idea, full,  types=\"Idea\")\r\n",
        "result=mtl.get_table()\r\n",
        "print(time.strftime(\"%H:%M:%S\", time.gmtime(time.time()-start)))\r\n",
        "result"
      ],
      "execution_count": 8,
      "outputs": [
        {
          "output_type": "stream",
          "text": [
            "00:01:44\n"
          ],
          "name": "stdout"
        },
        {
          "output_type": "execute_result",
          "data": {
            "text/plain": [
              "('<table class=\"table table-bordered\"><tr><td><strong>Topic</strong></td><td>ideas for the competition</td></tr><tr><td><strong>Participants</strong></td><td>Crystal, Bob, Amy, Cecillia</td></tr><tr><td><strong>Date</strong></td><td>2021.02.14</td></tr></table><label><strong>Idea Discussion Summary</strong></label><div class=\"form-group2\"><table class=\"table table-bordered\"><tr><td><strong>Idea 1</strong></td><td>automation in recycling industry</td></tr></table><table class=\"table addel table-bordered\" id=\"addel1\"><tr><td><strong>Details</strong></td></tr><tr><td>&#9642; develop a AI-sensor that helps distinguish which trashes are reusable<br>&#9642; automation in recycling industry<br>&#9642; develop a AI-sensor</td></tr><tr><td><strong>Comments</strong></td></tr><tr><td></tr></table><br></div><div class=\"form-group2\"><table class=\"table table-bordered\"><tr><td><strong>Idea 2</strong></td><td>about vaccination</td></tr></table><table class=\"table addel table-bordered\" id=\"addel2\"><tr><td><strong>Details</strong></td></tr><tr><td>&#9642; develop an AI-enhanced program that can help identify the best distribution plan<br>&#9642; it is difficult to create a model</td></tr><tr><td><strong>Comments</strong></td></tr><tr><td></tr></table><br></div>',\n",
              " '<script>   $(document).ready(function () {var tbody = $(\"#addel1\").children(\"tbody\"); var table = tbody.length ? tbody : $(\"#addel1\"); $(\"#addrow1\").click(function () {table.append(\"<tr><td></td><td></td><td></td></tr>\");})});</script><script>   $(document).ready(function () {var tbody = $(\"#addel2\").children(\"tbody\"); var table = tbody.length ? tbody : $(\"#addel2\"); $(\"#addrow2\").click(function () {table.append(\"<tr><td></td><td></td><td></td></tr>\");})});</script>')"
            ]
          },
          "metadata": {
            "tags": []
          },
          "execution_count": 8
        }
      ]
    },
    {
      "cell_type": "code",
      "metadata": {
        "colab": {
          "base_uri": "https://localhost:8080/"
        },
        "id": "WzekbmgDamJw",
        "outputId": "3e05094e-eb2f-477a-cf8f-8c17c6c048f8"
      },
      "source": [
        "import time\r\n",
        "%cd /content/\r\n",
        "full=\"2021.02.14. 16:03 <br> Erin Hi everyone, We're starting today's meeting, and the topic is 3rd KIC Project Progress Check. The attendees of today's meeting are Erin, Kim, Steven, Sierra, Koo, and Jeon. Shall we begin our meeting? So we have two main agendas for today. Why don't we start with Kim and talk about the first agenda? <br>  <br> Kim The first thing we need to discuss about is what API we should use. So I have been searching up APIs and found 5 products, but the ones worth talking about are 2, one made by Google and the other made by IBM. Both of them have pretty much similar quality I think. They can interpret the words well and transcribe them with high accuracy. The bottom line is, Google and IBM works the best.  <br>  <br> Erin Oh I have used Google API before. Isn't it kinda bad? The accuracy is not so great isn't it?  <br>  <br> Kim I think the accuracy and the level of completion is different between the free version and premium paid version. Since we can still use the premium paid version for free during trial period, we should do that. <br>  <br> Erin Alright then, could you please use the premium version and see how it works out? After that let's select the API and do some coding works to get them to function. You should work with Sierra on that Can we do this by next meeting which we should hold on the 12th? <br>  <br> Kim Okay, so we have two action items for this. First thing is to evaluate Google Premium API, and i will do that. The next item is to confirm API and edit the code, me, Kim and Sierra will <br>  <br> Erin Next is Steven, please update us with your interface works, the second agenda for this meeting.  <br>  <br> Steven Well I haven't been very productive with my task so please excuse me. What I did do however is I searched up some already-available services for Ai automated transcription services. There were two that I found to be somewhat relevant to what we were doing: Otter.ai and Deeptalk. Fortunately both of them have yet developed ways to produce meeting notes or minute so if we can get it done, we would be the first to do so. I will get the interface design by today and the rest of the work including homepage feedback by the next meeting on the 12th. <br>  <br> Erin alright. Steven will have two tasks for the second agenda. First one is to get the interface design by today. Second is to give some Homepage feedback by the next meeting. <br>  <br>  <br>  <br>  <br> \"\r\n",
        "start=time.time()\r\n",
        "mtl=make_tables(query_dict_ex, full,  types=\"Agenda\")\r\n",
        "result=mtl.get_table()\r\n",
        "print(time.strftime(\"%H:%M:%S\", time.gmtime(time.time()-start)))\r\n",
        "result"
      ],
      "execution_count": 11,
      "outputs": [
        {
          "output_type": "stream",
          "text": [
            "/content\n",
            "00:02:58\n"
          ],
          "name": "stdout"
        },
        {
          "output_type": "execute_result",
          "data": {
            "text/plain": [
              "('<table class=\"table table-bordered\"><tr><td><strong>Topic</strong></td><td>3rd KIC Project Progress Check</td></tr><tr><td><strong>Participants</strong></td><td>Erin</td></tr><tr><td><strong>Date</strong></td><td>2021.02.14</td></tr></table><label><strong>Agenda 1</strong></label> <div class=\"form-group2\"><table class=\"table table-bordered\"><tr><td><strong>Presenter</strong></td><td>Kim</td></tr><tr><td><strong>Discussion Topic</strong></td><td>3rd KIC Project Progress Check</td></tr><tr><td><strong>Conclusion</strong></td><td>to get the interface design by today</td></tr></table><table class=\"table addel table-bordered\" id=\"addel1\"><tr><td><strong>Action Item</strong></td><td><strong>Person Responsible</strong></td><td><strong>Deadline</strong></td></tr><tr><td>evaluate Google Premium API</td><td>Kim</td><td>by today</td></tr><tr><td>to confirm API and edit the code</td><td>Steven</td><td>by the next meeting.</td></tr><input types=\"button\" class=\"float\" value=\"Add\" id=\"addrow1\"></table><table class=\"table table-bordered\"><tr><td><strong>Additional Notes</strong></td></tr><tr><td></td></tr></table></div><label><strong>Agenda 2</strong></label> <div class=\"form-group2\"><table class=\"table table-bordered\"><tr><td><strong>Presenter</strong></td><td>Erin</td></tr><tr><td><strong>Discussion Topic</strong></td><td>please update us with your interface works</td></tr><tr><td><strong>Conclusion</strong></td><td>to give some Homepage feedback by the next meeting.</td></tr></table><table class=\"table addel table-bordered\" id=\"addel2\"><tr><td><strong>Action Item</strong></td><td><strong>Person Responsible</strong></td><td><strong>Deadline</strong></td></tr><tr><td>evaluate Google Premium API</td><td>Steven</td><td>by today</td></tr><tr><td>to confirm API and edit the code</td><td>Steven</td><td>by the next meeting</td></tr><input types=\"button\" class=\"float\" value=\"Add\" id=\"addrow2\"></table><table class=\"table table-bordered\"><tr><td><strong>Additional Notes</strong></td></tr><tr><td></td></tr></table></div>',\n",
              " '<script>   $(document).ready(function () {var tbody = $(\"#addel1\").children(\"tbody\"); var table = tbody.length ? tbody : $(\"#addel1\"); $(\"#addrow1\").click(function () {table.append(\"<tr><td></td><td></td><td></td></tr>\");})});</script><script>   $(document).ready(function () {var tbody = $(\"#addel2\").children(\"tbody\"); var table = tbody.length ? tbody : $(\"#addel2\"); $(\"#addrow2\").click(function () {table.append(\"<tr><td></td><td></td><td></td></tr>\");})});</script>')"
            ]
          },
          "metadata": {
            "tags": []
          },
          "execution_count": 11
        }
      ]
    }
  ]
}