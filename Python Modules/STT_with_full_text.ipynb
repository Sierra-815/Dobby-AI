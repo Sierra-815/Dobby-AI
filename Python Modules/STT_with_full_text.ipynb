{
  "nbformat": 4,
  "nbformat_minor": 0,
  "metadata": {
    "colab": {
      "name": "STT_with_full_text.ipynb",
      "provenance": [],
      "collapsed_sections": []
    },
    "kernelspec": {
      "name": "python3",
      "display_name": "Python 3"
    },
    "accelerator": "GPU"
  },
  "cells": [
    {
      "cell_type": "markdown",
      "metadata": {
        "id": "eVv82PyAvSHR"
      },
      "source": [
        "1/14 최초 구현 by 소연 \r\n",
        "\r\n",
        "수정 및 테스트 시 본 파일이 아닌 사본 사용을 부탁드립니다.\r\n",
        "\r\n",
        "\r\n",
        "1/18  수정 by 지현\r\n",
        "\r\n",
        "* 회의록 음성 파일 일정 크기로 자르는 loop추가 --> 회의 전체 내용이 chked에 들어가도록 하였음\r\n",
        "* 음성 파일 중 일부(2개) .UnknownValueError 발생하여 제거 --> 제거한 채로 갈지, 따로 처리해줘야 할지?\r\n",
        "\r\n",
        "1/18 수정 by 소연\r\n",
        "\r\n",
        "* UnknownValueError 발생하는 이슈 해결\r\n",
        "* STT loop 함수화 (wav ~ spell check)\r\n",
        "* audio_only_2.m4a -> 14일자 회의 녹음본!\r\n",
        "* 새로운 문제: 이제 txt(or chked) 길이가 너무 길어져서 기존 bert api가 summarize 못함(글자수 제한) -> 새로운 api/model 찾아주세요오\r\n",
        "\r\n",
        "(파일이 길어져서 굳이 볼필요없는 코드는 숨겼는데 확장하려면 각 타이틀 더블클릭하면 됩니당!)"
      ]
    },
    {
      "cell_type": "code",
      "metadata": {
        "id": "Bd82roy9fTZg",
        "colab": {
          "base_uri": "https://localhost:8080/"
        },
        "cellView": "form",
        "outputId": "139a4e7d-503e-49ac-ff0c-c7cb1979c76c"
      },
      "source": [
        "#@title 실행 환경 구축\r\n",
        "import os, sys\r\n",
        "from google.colab import drive\r\n",
        "drive.mount('/content/drive')\r\n",
        "%cd /content/drive/Shareddrives/KPMG_Ideation\r\n",
        "import warnings\r\n",
        "warnings.filterwarnings('ignore')\r\n",
        "import numpy as np\r\n",
        "import pandas as pd\r\n",
        "from pprint import pprint\r\n",
        "from krwordrank.word import KRWordRank\r\n",
        "from krwordrank.sentence import summarize_with_sentences\r\n",
        "from copy import deepcopy\r\n",
        "import kss\r\n",
        "import itertools\r\n",
        "import unicodedata\r\n",
        "import requests\r\n",
        "from functools import reduce\r\n",
        "from bs4 import BeautifulSoup\r\n",
        "from gensim.summarization.summarizer import summarize\r\n",
        "import string\r\n",
        "import torch\r\n",
        "from textrankr import TextRank\r\n",
        "from lexrankr import LexRank\r\n",
        "from nltk.corpus import stopwords \r\n",
        "from nltk.tokenize import word_tokenize, sent_tokenize \r\n",
        "from pydub import AudioSegment\r\n",
        "from konlpy.tag import Okt\r\n",
        "import re\r\n",
        "import nltk\r\n",
        "nltk.download('punkt')\r\n",
        "\r\n",
        "# import pre-trained model -- frameBERT (pytorch GPU 환경 필요)\r\n",
        "%cd /content/drive/Shareddrives/KPMG_Ideation/OpenInformationExtraction/frameBERT\r\n",
        "!pip install transformers \r\n",
        "import frame_parser\r\n",
        "path=\"/content/drive/Shareddrives/KPMG_Ideation/OpenInformationExtraction/frameBERT\"\r\n",
        "parser = frame_parser.FrameParser(model_path=path, language='ko')\r\n",
        "\r\n",
        "# Due to google api credentials, SpeechRecognition needs to be installed everytime\r\n",
        "!pip install SpeechRecognition\r\n",
        "import speech_recognition as sr\r\n",
        "#!pip install google-api-core==1.22.2\r\n",
        "# !pip install --upgrade google-api-core\r\n",
        "# !pip install --upgrade google-cloud-speech\r\n",
        "\r\n",
        "##### below are permanently installed packages #####\r\n",
        "# nb_path = '/content/notebooks'\r\n",
        "# os.symlink('/content/drive/Shareddrives/KPMG_Ideation', nb_path)\r\n",
        "# sys.path.insert(0, nb_path)\r\n",
        "# !pip install --target=$nb_path pydub\r\n",
        "# !pip install --target=$nb_path kss\r\n",
        "# %cd /content/drive/Shareddrives/KPMG_Ideation/hanspell\r\n",
        "# !python setup.py install\r\n",
        "# !pip install --target=$nb_path transformers\r\n",
        "# !apt-get update\r\n",
        "# !apt-get g++ openjdk-8-jdk \r\n",
        "# !pip3 install --target=$nb_path konlpy\r\n",
        "# !pip install --target=$nb_path soykeyword\r\n",
        "# !pip install --target=$nb_path krwordrank\r\n",
        "# !pip install --target=$nb_path bert\r\n",
        "# !pip install --target=$nb_path textrankr\r\n",
        "# !pip install --target=$nb_path lexrankr"
      ],
      "execution_count": null,
      "outputs": [
        {
          "output_type": "stream",
          "text": [
            "Drive already mounted at /content/drive; to attempt to forcibly remount, call drive.mount(\"/content/drive\", force_remount=True).\n",
            "/content/drive/Shareddrives/KPMG_Ideation\n",
            "[nltk_data] Downloading package punkt to /root/nltk_data...\n",
            "[nltk_data]   Package punkt is already up-to-date!\n"
          ],
          "name": "stdout"
        },
        {
          "output_type": "execute_result",
          "data": {
            "text/plain": [
              "True"
            ]
          },
          "metadata": {
            "tags": []
          },
          "execution_count": 1
        }
      ]
    },
    {
      "cell_type": "code",
      "metadata": {
        "colab": {
          "base_uri": "https://localhost:8080/"
        },
        "id": "oRYLQ4tzgZF6",
        "cellView": "form",
        "outputId": "070f97b1-4d4a-4837-945e-758c96bea95f"
      },
      "source": [
        "#@title Speech-To-Text 모듈\r\n",
        "\r\n",
        "%cd /content/drive/Shareddrives/KPMG_Ideation/hanspell\r\n",
        "from hanspell import spell_checker\r\n",
        "\r\n",
        "def STT_loop(file_name, startMin = 0, startSec = 0, endMin = 4, endSec = 30):\r\n",
        "    if file_name.split('.')[1] == 'mp3':    \r\n",
        "        sound = AudioSegment.from_mp3(file_name)\r\n",
        "        wav_filename = file_name.split('.')[0] + '.wav'\r\n",
        "        file_handle = sound.export(file_name, format=\"wav\")\r\n",
        "        song = AudioSegment.from_wav(wav_filename)\r\n",
        "    if file_name.split('.')[1] == 'm4a':\r\n",
        "        track = AudioSegment.from_file(file_name,'m4a')\r\n",
        "        wav_filename = file_name.replace('m4a', 'wav')\r\n",
        "        file_handle = track.export(wav_filename, format='wav') \r\n",
        "        song = AudioSegment.from_wav(wav_filename)\r\n",
        "    \r\n",
        "    # Time to miliseconds\r\n",
        "    startTime = startMin*60*1000+startSec*1000\r\n",
        "    endTime = endMin*60*1000+endSec*1000\r\n",
        "\r\n",
        "    num_frac=int(len(song)/endTime)\r\n",
        "    for i in range(num_frac+1):\r\n",
        "      extract = song[startTime:min(endTime,len(song))]\r\n",
        "      extract.export('./audio_frac/frac_'+str(i)+'.wav', format=\"wav\")\r\n",
        "      startTime=endTime\r\n",
        "      endTime+=endMin*60*1000+endSec*1000\r\n",
        "\r\n",
        "    # Speech Recognition Loop\r\n",
        "    txt=''\r\n",
        "    for i in range(num_frac+1):\r\n",
        "      AUDIO_FILE = os.path.join(os.path.dirname(os.path.abspath('data')), \"audio_frac/frac_\"+str(i)+\".wav\")\r\n",
        "\r\n",
        "      # use the audio file as the audio source\r\n",
        "      r = sr.Recognizer()\r\n",
        "      with sr.AudioFile(AUDIO_FILE) as source:\r\n",
        "          audio = r.record(source)  # read the entire audio file\r\n",
        "\r\n",
        "      # recognize speech using Google Speech Recognition\r\n",
        "      try:\r\n",
        "          # for testing purposes, we're just using the default API key\r\n",
        "          # to use another API key, use `r.recognize_google(audio, key=\"GOOGLE_SPEECH_RECOGNITION_API_KEY\")`\r\n",
        "          # instead of `r.recognize_google(audio)`\r\n",
        "          txt += ' '+ r.recognize_google(audio, language='ko')\r\n",
        "          #print(str(i)+\"/\"+str(num_frac+1)+\" done\")\r\n",
        "      except sr.UnknownValueError:\r\n",
        "          #print(\"Google Speech Recognition could not understand audio\")\r\n",
        "          pass\r\n",
        "      except sr.RequestError as e:\r\n",
        "          #print(\"Could not request results from Google Speech Recognition service; {0}\".format(e))\r\n",
        "          pass\r\n",
        "    print(\"😉 STT done! 😉\")  \r\n",
        "    \r\n",
        "    chked=\"\"\r\n",
        "    line = kss.split_sentences(txt)\r\n",
        "    for i in range(len(line)):\r\n",
        "      #if i%20==0:\r\n",
        "      #  print(str(i)+\"/\"+str(len(line))+\" lines done\")\r\n",
        "      line[i] = spell_checker.check(line[i])[2]\r\n",
        "      chked += \"\".join(line[i])\r\n",
        "      chked += \". \"\r\n",
        "    print(\"😉 Spell Chekced! 😉\")\r\n",
        "    \r\n",
        "    return chked"
      ],
      "execution_count": null,
      "outputs": [
        {
          "output_type": "stream",
          "text": [
            "/content/drive/Shareddrives/KPMG_Ideation/hanspell\n"
          ],
          "name": "stdout"
        }
      ]
    },
    {
      "cell_type": "code",
      "metadata": {
        "colab": {
          "base_uri": "https://localhost:8080/"
        },
        "id": "6ZkwcXFPJVYa",
        "outputId": "f057c7e3-bdb4-45a1-d22e-6a1799a2c7c8"
      },
      "source": [
        "%cd /content/drive/Shareddrives/KPMG_Ideation/data\r\n",
        "file_name='audio_only_2.m4a'\r\n",
        "chked = STT_loop(file_name)"
      ],
      "execution_count": null,
      "outputs": [
        {
          "output_type": "stream",
          "text": [
            "/content/drive/Shareddrives/KPMG_Ideation/data\n",
            "😉 STT done! 😉\n",
            "😉 Spell Chekced! 😉\n"
          ],
          "name": "stdout"
        }
      ]
    },
    {
      "cell_type": "code",
      "metadata": {
        "colab": {
          "base_uri": "https://localhost:8080/"
        },
        "id": "0Nzudf8Rm4b0",
        "outputId": "e546de6e-5acd-40a1-f820-490f9d2db123"
      },
      "source": [
        "# np.array(['w'])\r\n",
        "%cd /content/drive/Shareddrives/KPMG_Ideation/data\r\n",
        "t=open('./texts/'+file_name.split('.')[0] + '.txt', \"w\")\r\n",
        "n=t.write(chked)\r\n",
        "t.close()"
      ],
      "execution_count": null,
      "outputs": [
        {
          "output_type": "stream",
          "text": [
            "/content/drive/Shareddrives/KPMG_Ideation/data\n"
          ],
          "name": "stdout"
        }
      ]
    },
    {
      "cell_type": "code",
      "metadata": {
        "colab": {
          "base_uri": "https://localhost:8080/",
          "height": 159
        },
        "id": "56-B2OSOc7L0",
        "outputId": "9eb6a0bf-f418-4809-b3e8-458ae1d93014"
      },
      "source": [
        "chked[:1000]"
      ],
      "execution_count": null,
      "outputs": [
        {
          "output_type": "execute_result",
          "data": {
            "application/vnd.google.colaboratory.intrinsic+json": {
              "type": "string"
            },
            "text/plain": [
              "'일단은 수연이 잘 된다는 거 다 형님이나 가셨어요. 아 이거 한 번 또 다른 분 생각은 조금 더 중요한 얘기하기 전에 뭐 하나 물어 보고 싶은 게 있는데 그 혹시 화면 공유 한번 다시 해 주실 수 있을까요. 어떤 거예요. 화면 공유 다시 한 번만 그 아까 자연의 소리한테 버튼 세 가지 있어 가지고 세제를 써 가지고 그 그 세 개를 종합을 해 가지고서 머리를 부른다고 하셨잖아요. 어떻게 하는 거니 처리를 해도 자연어 처리해서 전체에 회의록을 있고 그중에서 제일 중요하다고 판단되는 일정을 하나 빼놓은 건가요. 네 이게 법 틀어 색스 링크 넥스링크 다 자기들만의 알고리즘으로 이제 자기네들이 생각했을 때 가장 중요한 문장을 뽑아내는 건데요. 사실 저희가 트라제 유명하긴 한데 버트가 무조건 답이라고 할 순 없잖아요. 그렇기 때문에 앙상블 모양을 만든 이유는 이 중에서 이 세계의 대표적인 자연어 처리 모델이 전북이 문장은 중요하다 하라고 뽑은 문자 있을 거 아니에요. 공통되는 뽑아낸 게 이거입니다. 뽑아낼 때 그동안 하는 건지 혹시 이게 업체 같은 경우에는 저기 저번에 승현 님 저랑 잠깐 얘기했듯이 얘가 정확히 어떤 알고리즘으로 뽑았는지 그런 거 인정 그래도 어떤 일정에 규칙은 있어요. 렉스 링크랑 텍스트 랭크 같은 경우에는요 앞서 말씀드렸던 얘랑 되게 비슷해요. 구글에 페이지랭크 나오는 알고리즘 있는데 얘가 이제 앞에서 무슨 무슨 링크라고 하잖아요. 네가 보통 1년 빈도수라는 단어 길이로 이제 랭크 레벨 쉰다고 했잖아요. 이런 식으로 어떤 자기네들 만에 일정에 위치는 있긴 있어요. 그래서 제가 알기로는 텍스트 랭크 랑이 KR 월드 랭크 랑 비슷한 알고리즘을 써서 아 마이 테크 월드 월드뱅크에서 나온 주유소 있잖아요. 그 키워드가 포함된 문장이라든지 그런 식으로 안 갖고 볼거리 키워드를 단순히 우리의 뭐지 그 영향을 위해 사용하는 게 아니라 프로그램도 알고리즘 지도 보면서 사용하는 거예요. 거기서 이제 추운데 중에서 뭐 다른 사람 아닌가 아니면 뭐 때문에 그런데 같은 것'"
            ]
          },
          "metadata": {
            "tags": []
          },
          "execution_count": 15
        }
      ]
    },
    {
      "cell_type": "code",
      "metadata": {
        "colab": {
          "base_uri": "https://localhost:8080/",
          "height": 159
        },
        "id": "k8EYw1Mwl8Us",
        "outputId": "aebbe671-f07e-4f1c-d8d8-16aa68cb7648"
      },
      "source": [
        "chked[-1000:]"
      ],
      "execution_count": null,
      "outputs": [
        {
          "output_type": "execute_result",
          "data": {
            "application/vnd.google.colaboratory.intrinsic+json": {
              "type": "string"
            },
            "text/plain": [
              "'일에는 보여 드릴 수 있도록 좀 노력 한번 해 보도록 하겠습니다. 네 거 같아서 손님이랑 저는 좀 더 하고 그리고 민찬 님이랑 주연 님을 그 백신 쪽에 좀 쉬면해 주시는 걸로 가면은 주차하기가 그렇다면 회계 관리 쪽은 Air 아래쪽에 어떻게 해야 될까요. 그것도 이제 그 심적으로 구현을 하고 해 보는 프로세스에 계신 걸까요. 혹시 그거에 대해서 조금 벌더니 있으시면은 왜냐면 지금 그 기술적 구라를 두 개를 하셔야 되는 거잖아요. 그렇게 되면 이상적으로 하고 정도나 그 정도는 저도 할 수 있으니까 만약에 도움이 필요하시다 쓰시면 됩니다. 그리고 그 회의록을 어떤 식으로 했지 또 이제 구현하면서 가야겠네요. 형님이랑 가영 님은 이번 주까지 너무 잘 작동해 주셔서 그러면 이것만 하나만 부탁드릴게요 형님이 보내 주셨던 신 관련이 아이디어 제안서 있잖아요. 이거를 회의록 버전으로 가능하실까요. 저희 둘이서 그거를 정리하면 될 거 같은데 다음 주까지 충분히 가능할 거 같고 대한 찬성을 써달라는 말씀이시죠 또 저거를 회의록 일단 기술적으로 구현하는 것 먼저 중심을 볼게요 서리지 언니는요 다음에 아까 그 말 했어 다 같이 그냥 조금만 조금 뭐 이렇게 뭐 하다가 좀 남는 시간 있으면은 어 어 이쪽으로 할 수도 있지 않을까 언제까지나 새로운 아이디어에서 오픈해 있는 걸로 하겠습니다. 많았으니까 그 정도로 생각해 주시면 될 거 같고 그러면 일단은 다음 주 목요일 날에 생각을 하고 있는데 혹시 너무 빠를까요. 22일 21일 22일이 정도야 21일 혹은 22일에 더 선호하는 날짜가 있으시거나 이날 안된다라는 분 있으면은 말 21일 좋아요. 어떠세요. 24일까지 밤이니까 혹여나 22 23일 갑작스럽게 만나야 될 수도 있으니까 21일이 좀 더 그러면 다음 주 목요일 21일 7시에 뵙도록 하고 그전까지 이제 아까 말씀드렸듯이 둘러 다녀서 조금 기술적인 면에서 좀 더 신경 써 주시면 될 거 같고 남은 두 분은 이 제안서 작성해 조금 신경 써 주시면 될 거 같습니다. 하셨어요. 고맙습니다. '"
            ]
          },
          "metadata": {
            "tags": []
          },
          "execution_count": 16
        }
      ]
    },
    {
      "cell_type": "code",
      "metadata": {
        "id": "HjoeqHrKZDI_",
        "cellView": "form"
      },
      "source": [
        "#@title 자연어 처리 모듈\r\n",
        "okt = Okt()\r\n",
        "class Text(): \r\n",
        "    def __init__(self, text):\r\n",
        "        text = re.sub(\"'\", ' ', text)\r\n",
        "        paragraphs = text.split('\\n')\r\n",
        "        self.text = text\r\n",
        "        self.paragraphs = [i for i in paragraphs if i]\r\n",
        "        self.counts = len(self.paragraphs)\r\n",
        "        self.docs = [kss.split_sentences(paragraph) for paragraph in paragraphs if kss.split_sentences(paragraph)]\r\n",
        "        self.newtext = deepcopy(self.text)\r\n",
        "        print(\"TEXT\")\r\n",
        "\r\n",
        "    def findall(self, p, s):\r\n",
        "        i = s.find(p)\r\n",
        "        while i != -1:\r\n",
        "            yield i\r\n",
        "            i = s.find(p, i + 1)\r\n",
        "      \r\n",
        "    def countMatcher(self, sentences, paragraph_no):\r\n",
        "        paragraph = self.docs[paragraph_no]\r\n",
        "        total_no = len(paragraph)\r\n",
        "        vec = [0] * total_no\r\n",
        "        \r\n",
        "        for idx, candidate in enumerate(paragraph):\r\n",
        "            for sentence in sentences:\r\n",
        "                if sentence[:4] in candidate:\r\n",
        "                    vec[idx] += 1\r\n",
        "        return vec\r\n",
        "\r\n",
        "\r\n",
        "class Highlight(Text):\r\n",
        "    def __init__(self, text):\r\n",
        "        super().__init__(text)\r\n",
        "        print(\"Highlight\")\r\n",
        "        wordrank_extractor = KRWordRank(min_count=3, max_length=10)\r\n",
        "        self.keywords, rank, graph = wordrank_extractor.extract(self.paragraphs)\r\n",
        "        self.path = \"/content/drive/Shareddrives/KPMG_Ideation/OpenInformationExtraction/frameBERT\"\r\n",
        "        p = []\r\n",
        "        kw = []\r\n",
        "        for k, v in self.keywords.items():\r\n",
        "            p.append(okt.pos(k))\r\n",
        "            kw.append(k)\r\n",
        "        words = self.text.split(' ')\r\n",
        "        s = set()\r\n",
        "        keylist = [word for i in kw for word in words if i in word]\r\n",
        "        keylist = [i for i in keylist if len(i)>2]\r\n",
        "        for i in keylist:\r\n",
        "            if len(i)>2:\r\n",
        "              s.add(i)\r\n",
        "        # print(\"KEYLIST: \",keylist)\r\n",
        "\r\n",
        "        p = [okt.pos(word) for word in s]\r\n",
        "        self.s = set()\r\n",
        "        for idx in range(len(p)):\r\n",
        "            ls = p[idx]\r\n",
        "            for tags in ls:\r\n",
        "              word,tag = tags\r\n",
        "              if tag == \"Noun\":\r\n",
        "                if len(word)>=2:\r\n",
        "                  self.s.add(word)\r\n",
        "        self.keys = []\r\n",
        "        for temp in self.s:\r\n",
        "            self.keys.append(\" \" + str(temp))\r\n",
        "        print(\"KEYWORDS: \", self.keys)\r\n",
        "\r\n",
        "    def add_tags_conj(self, txt):\r\n",
        "        conj = '그리고, 그런데, 그러나, 그래도, 그래서, 또는, 및, 즉, 게다가, 따라서, 때문에, 아니면, 왜냐하면, 단, 오히려, 비록, 예를 들어, 반면에, 하지만, 그렇다면, 바로, 이에 대해'\r\n",
        "        conj = conj.replace(\"'\", \"\")\r\n",
        "        self.candidates = conj.split(\",\")\r\n",
        "        self.newtext = deepcopy(txt)\r\n",
        "        self.idx = [(i, i + len(candidate)) for candidate in self.candidates for i in\r\n",
        "                        self.findall(candidate, txt)]\r\n",
        "        for i in range(len(self.idx)):\r\n",
        "            try:\r\n",
        "                self.idx = [(start, start + len(candidate)) for candidate in self.candidates for start in\r\n",
        "                            self.findall(candidate, self.newtext)]\r\n",
        "                word = self.newtext[self.idx[i][0]:self.idx[i][1]]\r\n",
        "                self.newtext = word.join([self.newtext[:self.idx[i][0]], self.newtext[self.idx[i][1]:]])\r\n",
        "            except:\r\n",
        "                pass\r\n",
        "        return self.newtext"
      ],
      "execution_count": null,
      "outputs": []
    },
    {
      "cell_type": "code",
      "metadata": {
        "id": "JaFLquZkZ8Dw"
      },
      "source": [
        "class Summarize(Highlight):\r\n",
        "    def __init__(self, text, paragraph_no):\r\n",
        "      super().__init__(text)\r\n",
        "      print(\"length of paragraphs \",len(self.paragraphs))\r\n",
        "      self.txt = self.paragraphs[paragraph_no]\r\n",
        "      self.paragraph_no = paragraph_no\r\n",
        "\r\n",
        "    # 이부분 fix \r\n",
        "    # def summarize(self):\r\n",
        "    #     url = \"https://api.smrzr.io/v1/summarize?num_sentences=5&algorithm=kmeans\"\r\n",
        "    #     headers = {\r\n",
        "    #         'content-type': 'raw/text',\r\n",
        "    #         'origin': 'https://smrzr.io',\r\n",
        "    #         'referer': 'https://smrzr.io/',\r\n",
        "    #         'sec-fetch-dest': 'empty',\r\n",
        "    #         'sec-fetch-mode': 'cors',\r\n",
        "    #         'sec-fetch-site': 'same-site',\r\n",
        "    #         \"user-agent\": \"Mozilla/5.0\"\r\n",
        "    #     }\r\n",
        "    #     resp = requests.post(url, headers=headers, data= self.txt.encode('utf-8'))\r\n",
        "    #     assert resp.status_code == 200\r\n",
        "    #     summary = resp.json()['summary']\r\n",
        "    #     temp = summary.split('\\n')\r\n",
        "    #     print(\"BERT: \", temp)\r\n",
        "    #     return temp\r\n",
        "\r\n",
        "\r\n",
        "\r\n",
        "    def summarizeTextRank(self):\r\n",
        "        summary = summarize(self.txt, ratio=0.3).split(\"\\n\")\r\n",
        "        print(\"Textrank: \",summary)\r\n",
        "        return summary\r\n",
        "\r\n",
        "\r\n",
        "    def summarizeLexRank(self):\r\n",
        "        lr = LexRank()\r\n",
        "        lr.summarize(self.txt)\r\n",
        "        summaries = lr.probe(0.3)\r\n",
        "        print(\"Lexrank: \",summaries)\r\n",
        "        return summaries\r\n",
        "\r\n",
        "    def ensembleSummarize(self):\r\n",
        "        # a = np.array(self.countMatcher(self.summarize(), self.paragraph_no))\r\n",
        "        \r\n",
        "        try:\r\n",
        "          b = np.array(self.countMatcher(self.summarizeLexRank(), self.paragraph_no))\r\n",
        "        except:\r\n",
        "          b = np.zeros_like(a)\r\n",
        "        c = np.array(self.countMatcher(self.summarizeTextRank(),self.paragraph_no))\r\n",
        "        result= b+c\r\n",
        "        i, = np.where(result == max(result))\r\n",
        "        txt, index = self.docs[self.paragraph_no][i[0]], i[0]\r\n",
        "        return txt, index"
      ],
      "execution_count": null,
      "outputs": []
    },
    {
      "cell_type": "code",
      "metadata": {
        "id": "QvhPe7pamSUn",
        "colab": {
          "base_uri": "https://localhost:8080/"
        },
        "outputId": "7ae229c8-67ed-42e2-9eda-3d34e595f792"
      },
      "source": [
        "result = chked\r\n",
        "high = Highlight(result)"
      ],
      "execution_count": null,
      "outputs": [
        {
          "output_type": "stream",
          "text": [
            "TEXT\n",
            "Highlight\n",
            "KEYWORDS:  [' 보시', ' 위해', ' 구형', ' 결정', ' 미국', ' 도출', ' 상호작용', ' 직업', ' 인터뷰', ' 대해', ' 그것', ' 변수', ' 스토리', ' 모델링', ' 토픽', ' 저희', ' 확률', ' 세분', ' 다음', ' 로만', ' 사람과', ' 파악', ' 슬라이드', ' 드릴', ' 사용', ' 근거', ' 공급', ' 대답', ' 텍스트', ' 해결', ' 노력', ' 모형', ' 대충', ' 사실', ' 시간', ' 전체', ' 별로', ' 우리', ' 따라서', ' 로서', ' 이상', ' 자기', ' 감소', ' 라라', ' 얘기', ' 설명', ' 제이', ' 데이터', ' 기술', ' 아이디어', ' 단계', ' 클로버', ' 월드뱅크', ' 궁금', ' 거가', ' 결과', ' 적용', ' 의사결정', ' 공휴일', ' 과제', ' 통해', ' 가면', ' 위험', ' 과정', ' 페이지랭크', ' 수치', ' 확률분포', ' 넥스', ' 표현', ' 실제', ' 동안', ' 언제', ' 워드', ' 멀티', ' 사람', ' 나이', ' 일자', ' 지금', ' 때문', ' 시각', ' 모델', ' 치사', ' 건가', ' 민찬', ' 추가', ' 일정', ' 이닝', ' 정도', ' 저번', ' 해당', ' 강사', ' 연령', ' 제대로', ' 정보', ' 일어나고', ' 대가', ' 언니', ' 혹시', ' 가치', ' 얼마', ' 퍼센트', ' 상태', ' 구현', ' 수준', ' 업데이트', ' 정말', ' 영향', ' 아이디', ' 주제', ' 보조', ' 기존', ' 당장', ' 일단', ' 질문', ' 대요', ' 라인', ' 치평', ' 서도', ' 이야기', ' 이제', ' 건전성', ' 보고서', ' 이해인', ' 가능', ' 이용', ' 형식', ' 이면', ' 반영', ' 선행', ' 레이', ' 무증상', ' 아이', ' 분식회계', ' 선호', ' 하네스', ' 문장', ' 에이전트', ' 왜냐면', ' 주시', ' 대기업', ' 문서', ' 투여', ' 백신', ' 문제점', ' 감사', ' 예상', ' 재무제표', ' 선택', ' 할당', ' 이론', ' 집중', ' 극대', ' 손님', ' 궁금증', ' 말씀', ' 스트리트', ' 회의', ' 이해', ' 입상', ' 제시', ' 인사이트', ' 진행', ' 기업', ' 내부감사', ' 신경', ' 통계', ' 제출', ' 링크', ' 기업가', ' 처리', ' 고려', ' 엄마', ' 양식', ' 경영인', ' 프로세스', ' 치가', ' 알기', ' 논문', ' 환경', ' 자체', ' 강화', ' 생각', ' 요인', ' 정선', ' 최적', ' 발표', ' 나중', ' 도구', ' 제안', ' 실수', ' 이후', ' 평가', ' 저장', ' 관련', ' 자연어', ' 제외', ' 경영학', ' 스테이', ' 가지', ' 마지막', ' 최대한', ' 회계사', ' 참고', ' 작성', ' 하나', ' 사업', ' 아래쪽', ' 감염병', ' 문제', ' 조금', ' 공통', ' 인터넷', ' 그다음', ' 감염', ' 서비스', ' 판단', ' 그동안', ' 인지', ' 님께서', ' 공유', ' 아래', ' 진짜', ' 패션', ' 부분', ' 회계법인', ' 지연', ' 정리', ' 필요', ' 시간제', ' 제공', ' 형님', ' 기도', ' 사진', ' 얼마나', ' 그룹', ' 주연', ' 알고리즘', ' 중간', ' 보안', ' 결과물', ' 중심', ' 계산', ' 처음', ' 만약', ' 다만', ' 그때', ' 사이클', ' 네이버', ' 사장', ' 바로', ' 회사', ' 그거', ' 재무', ' 측정', ' 연구자', ' 고요', ' 주제가', ' 매일', ' 화면', ' 복수', ' 상이', ' 선수', ' 사이트', ' 거기', ' 고민', ' 변화', ' 건데', ' 식별', ' 경우', ' 회계감사', ' 크리티컬', ' 여기', ' 내부', ' 가요', ' 측면', ' 학습', ' 용이']\n"
          ],
          "name": "stdout"
        }
      ]
    },
    {
      "cell_type": "code",
      "metadata": {
        "colab": {
          "base_uri": "https://localhost:8080/"
        },
        "id": "NCqcx5miWDX3",
        "outputId": "6b434321-680b-40ef-8f67-5b2694dde93c"
      },
      "source": [
        "summarizer = Summarize(chked, 0)\r\n",
        "sum, id = summarizer.ensembleSummarize()\r\n",
        "print(\"summarized \",sum)"
      ],
      "execution_count": null,
      "outputs": [
        {
          "output_type": "stream",
          "text": [
            "TEXT\n",
            "Highlight\n",
            "KEYWORDS:  [' 보시', ' 위해', ' 구형', ' 결정', ' 미국', ' 도출', ' 상호작용', ' 직업', ' 인터뷰', ' 대해', ' 그것', ' 변수', ' 스토리', ' 모델링', ' 토픽', ' 저희', ' 확률', ' 세분', ' 다음', ' 로만', ' 사람과', ' 파악', ' 슬라이드', ' 드릴', ' 사용', ' 근거', ' 공급', ' 대답', ' 텍스트', ' 해결', ' 노력', ' 모형', ' 대충', ' 사실', ' 시간', ' 전체', ' 별로', ' 우리', ' 따라서', ' 로서', ' 이상', ' 자기', ' 감소', ' 라라', ' 얘기', ' 설명', ' 제이', ' 데이터', ' 기술', ' 아이디어', ' 단계', ' 클로버', ' 월드뱅크', ' 궁금', ' 거가', ' 결과', ' 적용', ' 의사결정', ' 공휴일', ' 과제', ' 통해', ' 가면', ' 위험', ' 과정', ' 페이지랭크', ' 수치', ' 확률분포', ' 넥스', ' 표현', ' 실제', ' 동안', ' 언제', ' 워드', ' 멀티', ' 사람', ' 나이', ' 일자', ' 지금', ' 때문', ' 시각', ' 모델', ' 치사', ' 건가', ' 민찬', ' 추가', ' 일정', ' 이닝', ' 정도', ' 저번', ' 해당', ' 강사', ' 연령', ' 제대로', ' 정보', ' 일어나고', ' 대가', ' 언니', ' 혹시', ' 가치', ' 얼마', ' 퍼센트', ' 상태', ' 구현', ' 수준', ' 업데이트', ' 정말', ' 영향', ' 아이디', ' 주제', ' 보조', ' 기존', ' 당장', ' 일단', ' 질문', ' 대요', ' 라인', ' 치평', ' 서도', ' 이야기', ' 이제', ' 건전성', ' 보고서', ' 이해인', ' 가능', ' 이용', ' 형식', ' 이면', ' 반영', ' 선행', ' 레이', ' 무증상', ' 아이', ' 분식회계', ' 선호', ' 하네스', ' 문장', ' 에이전트', ' 왜냐면', ' 주시', ' 대기업', ' 문서', ' 투여', ' 백신', ' 문제점', ' 감사', ' 예상', ' 재무제표', ' 선택', ' 할당', ' 이론', ' 집중', ' 극대', ' 손님', ' 궁금증', ' 말씀', ' 스트리트', ' 회의', ' 이해', ' 입상', ' 제시', ' 인사이트', ' 진행', ' 기업', ' 내부감사', ' 신경', ' 통계', ' 제출', ' 링크', ' 기업가', ' 처리', ' 고려', ' 엄마', ' 양식', ' 경영인', ' 프로세스', ' 치가', ' 알기', ' 논문', ' 환경', ' 자체', ' 강화', ' 생각', ' 요인', ' 정선', ' 최적', ' 발표', ' 나중', ' 도구', ' 제안', ' 실수', ' 이후', ' 평가', ' 저장', ' 관련', ' 자연어', ' 제외', ' 경영학', ' 스테이', ' 가지', ' 마지막', ' 최대한', ' 회계사', ' 참고', ' 작성', ' 하나', ' 사업', ' 아래쪽', ' 감염병', ' 문제', ' 조금', ' 공통', ' 인터넷', ' 그다음', ' 감염', ' 서비스', ' 판단', ' 그동안', ' 인지', ' 님께서', ' 공유', ' 아래', ' 진짜', ' 패션', ' 부분', ' 회계법인', ' 지연', ' 정리', ' 필요', ' 시간제', ' 제공', ' 형님', ' 기도', ' 사진', ' 얼마나', ' 그룹', ' 주연', ' 알고리즘', ' 중간', ' 보안', ' 결과물', ' 중심', ' 계산', ' 처음', ' 만약', ' 다만', ' 그때', ' 사이클', ' 네이버', ' 사장', ' 바로', ' 회사', ' 그거', ' 재무', ' 측정', ' 연구자', ' 고요', ' 주제가', ' 매일', ' 화면', ' 복수', ' 상이', ' 선수', ' 사이트', ' 거기', ' 고민', ' 변화', ' 건데', ' 식별', ' 경우', ' 회계감사', ' 크리티컬', ' 여기', ' 내부', ' 가요', ' 측면', ' 학습', ' 용이']\n",
            "length of paragraphs  1\n",
            "Lexrank:  ['네 이게 법 틀어 색스 링크 넥스링크 다 자기들만의 알고리즘으로 이제 자기네들이 생각했을 때 가장 중요한 문장을 뽑아내는 건데요', '그렇기 때문에 앙상블 모양을 만든 이유는 이 중에서 이 세계의 대표적인 자연어 처리 모델이 전북이 문장은 중요하다 하라고 뽑은 문자 있을 거 아니에요', '뽑아낼 때 그동안 하는 건지 혹시 이게 업체 같은 경우에는 저기 저번에 승현 님 저랑 잠깐 얘기했듯이 얘가 정확히 어떤 알고리즘으로 뽑았는지 그런 거 인정 그래도 어떤 일정에 규칙은 있어요', '렉스 링크랑 텍스트 랭크 같은 경우에는요 앞서 말씀드렸던 얘랑 되게 비슷해요', '구글에 페이지랭크 나오는 알고리즘 있는데 얘가 이제 앞에서 무슨 무슨 링크라고 하잖아요', '거기서 이제 추운데 중에서 뭐 다른 사람 아닌가 아니면 뭐 때문에 그런데 같은 것들은 그냥 싹 다 그 제외해 그럼 코딩을 하나 더 넣어 가지고 만들고 있었어 이거 이거 이거 안 먹었어 근데 얘가 더 중요한 얘도 얘도 되게 중요한 운전할 수 있거든요', '왜냐하면 이런 큰동생들이 들어가면 오히려 그게 또 중요한 문제가 있어서 얘를 어떻게 해야 될지 아직 이거를 넣지 않았어요', '그 보시면은 AI 그래서 사진이 클로버가 생각하시면 될 거 같아 그 뭐지 사실상이 문제는 안 되네요', '알고리즘들 다 인식이 되니까 클로버도 저번에 더 자세히 보시면은 모든 영어로 정말 당연 얻은 그런 것만 저번에 일대에서 컨 정선이라는 얘기를 하면은 전화받으면 우리만의 모레 자체를 저희가 한 달 안에 만드는 거 자체가 말도 안 되기 때문에 어쩔 수 없는 거 같아 그럼 다음에 조금 조금만 더 구현시켜 버리고 조금 더 되면은 굉장히 매력 있다', '그냥 지금 당장 제가 했던 것처럼 오 이게 되네 보여 주면 내가 가지고 어 그리고 이제 넘어가기 전에 딱 한 가지만 더 보고 싶은데 그 아까 얘기했던 게 지금 당장은 5분 30초 되기 때문에 위치에서 제일 중요한 문장만 빼버리는 거잖아요', '근데 만약에 우리가 네이버 클로버 결제를 해 가지고 그거를 그냥 그 시간제한 없이 메이플로드 술 한잔 있나요', '아 그리고 그렇게 해가지고는 이제 회의록을 이렇게 나온다는 게 이후에 그 담당 뭐 알바 색이라도 사 오니 그 회의록을 해 가지고 요약본을 만들어야 될 때 자기가 핵심적인 컬렉션을 만들어 가지고 물어보는 건지 아니면 그냥 자기 스스로 이제 그 말씀 하신 건 약간 챗봇 같은 구조를 말씀하신 거 같은데 네네 자기가 직접 물어봐서 이렇게 대답하는 건 책 보수 책처럼 구현을 해야 되는데 그 거기는 아직 생각해 본 적이 없는데 이게 구조 자체는 비슷할 거 같긴 합니다', '왜냐하면 그 그 그 아래가 뭐 물어본다고 했을 때 그 물어본 문장에서 결국은 핵심 키워드 내가 진짜로 궁금해하는 거지 뭐 지를 찾아서 얘가 답을 말해 준 거 그 남자가 더 쉬울 거 같더라고 이미 그런 게 있더라고요', '후자가 구영리 가능하면은 시켜 가지고 결과물을 보내 주고 그리고 그 이후에 추가적으로 AI가 따로 중요한 중요한 것들을 뽑아내지 못했다면 내가 직접 물어봤을 때도 나올 수 있게끔 하는 게 좋을 거 같아서 내가 일할 때 인터뷰 많이 진행한다고 했는데 인터뷰할 때도 결과적으로 콘서트는 인터뷰 대상으로부터 원하는 답변이 있고 딱 질문 있거든요', '그래서 전율이 어떻게 되냐 이런 이런 것들을 바로바로 회의록을 다 읽어 보지 않고 그냥 바로 딱 정율 사관 바로 나올 수 있게 되면 좋으니까 글피 초대 한번 생각해 보면 좋을 거 같다', 'faq가 많이 나오는 도미인 인가 아니면 혜인이가 많이 나온다', '인터뷰 같은 데서 나오는 회의록은 나오시는 정보들이 굉장히 한정적일 거고요', '그런 데서는 faq가 직관적으로 옳긴 할 거라고 생각이 드는데 제가 혹시 이 한 게 맞을까요', '보니까 저희가 다 부여 날아드는 못 했고 이게 가능은 한 g40 좀 뜯어보는 정도에 그쳐 일단 결과적으로 보면 구현이 가능은 할 거 같다', '그다음에 엑스포스 한 번이라도 감염된 사람과 노출이 되었을 때 그런데 그 사람 사람들은 특정 확률분포의 해서 실제로 감염이 되기도 하고요', '그리고 그다음으로 특정 확률에 의서 감염된 사람과 접촉을 했을 때 감염이 일어나잖아요', '200g 넘어갔을 때 그거는 이제 내 단계로 나는데요', '마일드 같은 경우는 증상이 있긴 한데 경미라던가 병원에 갈 정도 로게 심각하게 느끼지 난 널 상황인 겁니다', '두 번째는 안타깝기도 디스가 되는 건데 이 패션 스테이트로 들어온 사람들 요기 요기 상태로 들어오는 사람들은 있으므로 갈 확률이 어떻게든 존재를 해요', '그리고 이 때 다른 에이전트를 감염시키는 감염원이 될 거 아니에요', '임인택 셔츠인 사람들은 그때 이제이 감염시키는 수준을 어떻게 나올 것인가를 또 연구자들이 고민을 했는데 같은 경우는 스미싱 터 메릭 와 그 아니 그냥 센터 말이 제주 가지런 거 하나도 없다고 하더라고요', '그래서 이제 그 둘의 베르로만 나눠서 감염시키는 감염원 수준을 부분을 했대요 이거 아이솔레이션 스케이트 같은 경우는 패션스트리트같이 값을 가지고 있는 건데요', '아이솔레이트 아닐 때는 시킬 수가 있겠죠', '다만 같은 경우는 절대 아이솔레이트가 아니다', '경리 상태가 아니라라고 이제 여기서 정리를 하고 있고 이제 마일드 모터는 좀 특정 어떤 특정 값을 값들의 해서 아이솔레이트 되는 그런 값들을 주고요', '크리티컬 같은 경우는 이제 무조건 아이솔레이트 상태로 간다', '그리고 이제 실제 인물의 특성을 반영한 가상 에이전트들은 생성해서 저희가 만든 환경이 필요로 하겠죠', '그리고 세팅 그룹에서 에어건 택트가 이루어졌을 때 값을 또 이제 에이전트들에게 할당을 합니다', '그래서 만약에 에이전트들이 끼리 콘택트가 일어났을 때 어떤 확률분포의 해서 그 에이전트들의 값들이 변하는 거죠', '어쨌든 그렇게 각각의 에이전트를 실제 사람과 어느 정도 튜닝을 마친 다음에 앞서 저희가 세팅을 했던 그 감염병 전염 환경에 에이전트들은 두고 이제 강화 시작을 하게 됩니다', '가기 전에 따라서 환경 변수가 변하고 그것에 따라서 계속 계속 에이전트들이 업데이트가 되고 전략이 업데이트가 되고 그러면서 결국에는 최적의 값을 찾는다 이렇게만 생각을 하시면 될 거 같습니다', '그거 그거를 방수라고 생각을 했었는데 그게 어떻게 적용이 되는 건가요', '그게 빠른 에이전트의 들어가는 거예요', '그렇게 인터넷 들어가면 에이전트가 그중에서 이제 그 말을 마트에 그 그 있는 인구 중에서 얼마를 그 대신에 접종할 것인가 그게 인젝션으로 들어가고 그게 변수가 될 겁니다', '내가 다 지워지고 마님한테 상처를 스테이트 나타내고 그다음에 거기에 대해서 그 그이 상태에서는 어떻게 하겠다는 거야 보내 주면 이제 그게 적용돼서 이맘때 맡기고 그러면서 그 얼마나 잘 했는가를 리워드로 다시 보게 됩니다', '그럼 제가 그리로 갈게요 일단 우선 아까 그 액션이 어떻게 주면 되나 이거 이거를 물어보셨는데 그거부터 말씀드리면 이거 그거 지금 화면공유를 그 일정이 어떻게 되지 일단 저희는 이제 나이가 사람들 나이가 0부터 100까지 있다고 가져갈 거고요', '그러면서 인제 그러면 그 액션은 그 10만 원 해결이라고 생각하시면 돼요 그리고 그 값이 제 실수가 될 텐데 어떻게 일정을 바뀐다는 접수를 하면은 실수 없이 그 총 10개 갑시다 줘하면은 이게 되는 네 그 확률 값을 바뀝니다', '뭐 미국 연남 거기도 미국에서 썼는데 데이터를 제대로 업데이트를 최신으로 안 해 가지고 알고리즘을 잘못 들어간 거예요', '그런데 저희 같은 경우는 지금 좀 그런 문제를 보안해서 확실하게 보낼 수가 있죠', '혹은 좀 너무 단순한 알고리즘 썼다는 문제를 보안하고 두 번째 문제 조금 촉각을 곤두세우고서 최신 정보로 업데이트를 하면 이제 해결할 수가 있고 플러스 거기에 강화 학습이론을 적용을 해서 시뮬레이션을 통해 최적의 해를 도출할 수 있다', '지금 지금 당장은 아니더라도 저희도 이제 만약에 이걸로 발표를 하게 되고 할 때는 고층만큼은 아니더라도 어느 정도 무슨 인품을 가지고 어떻게 도서 대충은 알아야 될 것 같은데 지금 당장은 아니더라도 그 제가 아까 그러면 인천 님께서 써 주셨던 그 파일을 같이 공유해서 한번 천천히 이야기 나눠 보는 건 어떨까요', '지금 당장 지금은 힘드시다면 나중에 공유를 해 주시는 것도 혹시나 이쁜 만이 아니라 이런 것들을 다 들어가는 건지 선수가 아니라 멀티 멀티 대기업이 된 건지 아 지금은 그 말이 별로 끊어 가지고 그거 밖에 할 수가 없고요', '확실하게 처리할 수 있는데 그러면 이제 지금 당장 이로서는 가지고 이렇게 하는 건데 혹시 멀티까지 두 개 정도이 정도까지는 괜찮은 건지 만약에 하려면 모델 자체가 그 각 개인의 대한 직업정보를 가지고 있어야 된대요 근데 그 그 그 정문에서 구현해놓은 코드 열어 보면 그런 데이터를 저장하고 또 이용하지는 않아요', '네 직업이 고려하지 않을 거 같은데 이제 그 좀 봐 나 자면 그러니까 그 각 연령별로 그 얼마나 서로를 그러니까 10대가 50대를 얼마나 접하는 각도는 20대가 5대를 얼마나 많은가 여기에 대한 정보는 들어가거든요', '실제로 직업에 따라서 만난 빈도가 달라지는지 클러스터링은 가지고 그거를 되거나라고 해야 되는데 언니가 괜찮겠죠', '마지막으로 하나만 들어 보면은 여기 보면은 거기 들어가는 하던가 아니면은 그 그 통계수치 뭐 예를 들어서 얘네들의 합병증 비용은 얼마 뭐 이런 것들은 한국 세상에 맞춰서 제가 따로 없는 건지 아니면 미국에서 쓰는 놈은 애 있는 것들을 그대로 집어넣는 건지 나 한국 데이터를 가져다 쓰면 된다 선생님 궁금한 게 그 일자별로 결과가 나온다고 했잖아요', '그러니까 충분히 시간을 길게 쓰고 그 그 그 택시비 얼마 정도 될 거다 이게 있어야 돼 근데 그러면 그 일자별로 그 궁금이 재는 게 막 특정한 이벤트가 있는 날이 있을 수도 있잖아 예를 들어서 뭐 설날이 꼈다', '그러면 그 박스 되는 게 확 되지 않은 환경 때문에 아무래도 성능이 떨어지는 감소된다 그거는 지금 아마 그렇게 환경이 변하는 그 상태에서 최적을 찾아내는 것은 아마 저희 수준을 어려울 거라고 그래서 일단 그걸 좀 해 가지고 대충 그 학습을 할 수 있을 텐데 아무튼 그런 구관 드레스 성능 좀 떨어지면 감사드립니다', '형님도 뭐 해 주셨는데 그거는 그냥 저희 참고용 스토리라인이 아 그 부분은 사실 이거는 다시 그게 더 있진의 고요', '스토리 라인이랑 저희 다 메서드가 대충 들어가 그게 더 이제 제안서 찡찡 장성고 사장님께서 공유해주신 게 저희가 제가 공유했던 슬라이드는 그냥 정말 참고용이에요', '이런 식으로 계속 얘기해야 돼 있었어 제가 그냥 계속 노파심에서 게다가 들어오면 사실 좀 더 비즈니스적으로 생각해 보면 어떨까 싶어서 지연 언니 와 이제 쪼끔 생각을 새로운 생각을 해 본 건데요', '기업 내부강사 해 봤습니다', '내부감사 먼지를 보면은 회사에서 업무 프로세스가 효율적으로 효과적으로 잘 이루어지고 있니라고 보시면 돼요 그래서 외부 회계감사 같은 거 생각을 해 보시면 걔네는 재무제표가 막 다 만들어진 상태에서 예 여기 분식회계 같은 게 없었나 그런 거를 보는 걸로 하면 내부 내부 회계감사는 그거를 생성하는 과정에서 문제가 없었느냐를 거라고 생각하시면 됩니다', '보니까 그런 거 생각을 해 보면 걔는 좀 체계화가 되어 있잖아요', '그리고 그래서 최종적으로 서비스를 고향을 하면 약간 이런 식으로 서비스 제공이 가능하겠다 해서 만들어 본 건데 11시 만약에 어떤 회계법인에 쓰는 거 다 걔네가 다양한 기업에 대해서 내부감사 진행할 수 있잖아요', '그리고 여기는 전체적인 리스크 요인들이 어떻게 크게 난 있는지 표현할 수가 있고 요거 하나에 대해서 세부적으로 한번 보자 해 가지고 해 부여에 있는 이렇게 이런 식으로 나누어 볼 수 있고 이거에 해당하는 주요', '그리고 이혼에 대해서 얘네가 이 정도로 위험에 처했을 때 시나리오를 나눠 봐서 기업가치가 이런 식으로도 변할 수 있다는 것까지 보여 줄 수 있지 않을까 생각을 해봤습니다', '아 일단 좀 몇 가지가 있는데 제가 이제 이해한 바로는 내부 보고서 기억하지 외부 보고서 등을 이용해서 그거를 이제 뛰기 텍스트 마이닝 기법을 이용해서 기업 가치 미치는 영향을 고려해서 위험요인 1학년 정도로 이제 식별하는 걸 이제 그 정도로 구현을 하시라는 걸로 이해를 했습니다', '내 그것에 대한 구정 이라던가 그런 것들을 평가가 없기 때문에 사실 약간 예를 들면 사실 저는 딱 들었을 때 그런 생각이 들었거든요', '얼마나 붓이랑 가 그걸 어떻게 저희가 이 보고서를 가지고 평가를 할 수가 있을까요', '내부 보고서가 a 기업의 관련한 내부 보고서인데 이 내부 보고서 그린 데 이내 한 기업은 이만큼 부실했고 이거 이만큼 부실했다', '근데 그 이만큼 부실하다는 것을 어떻게 저희가 측정하고 라벨링 할 수 있는가 그것이 선행되어야 LG 토픽 모델링을 가능할 거 같다는 생각이 들었거든요', '그렇기 때문에 저희가 일어난 그래프로 예상에 나타내는 것이지 그래서 보고서 맥락에 의해서 몇 퍼센트가 부실하다', '응 그렇구나 네 저 라플라스 변환이 정도는 저희가 캡처를 할 수가 있잖아요', '어떤 보고서에서 예 방금 승현 님이 올려주신 거 같긴 한데 보고서를 저희가 보고서를 통해서 자연어 처리와 각종 텍스트 마이닝 기법으로 도출할 수 있는 것들 간편하게 시각화해서 보여준다고 생각해 주시면 될 거 같습니다', '최적인 부분은 사슬 할 때도 지금은 주관적으로 하시겠지만 자기 정말 재무제표를 정말 보고 말하는 게 아니면은 그냥 일반 정말 출구로 되어 있는 보고서 가지고 이거 내가 생각했을 때 몇 퍼센트 정도 보일 거라고 말하기는 어렵다', '이런 일이 있으면은 이런 이렇게 말을 하면 된다 그런 식으로 재무제표에서 어떤 후기 높고 어떤 항목이나 졌을 때 이런 식으로 모재 회계사들이 오금 경영인들이 어떤 결론을 도출한다', '그리고 재무에 관한 사항에서는 지금 뭐 재무제표에서 부채가 많이 잡혀 있거나 아니면은 당기순이익이 떨어지고 있구나 아니면 뭐 이런 것들을 포장해 가지고 회사에 재무건전성이라던가 이런 것들에 대해서 평가를 해 준다 이해하는 하는 게 맞을까요', '근데 근데 진짜 잘 나온 거 같은데 그래 어디 한번 맞아요', '하면 되게 되게 좋아할 수도 있을 것 같은데 경영학도 애들이 그런 거 못 해 가지고 맨날 재무제표 같은 거 필요 없고 막 그거 어떻게 하려고 막 그런 애들이 많이 있거든요', '가지고 제가 저기해 보고 다시 종합적으로 아니 근데 진짜 다들 아이디어 뱅크 시네요', '안 왔었는데 일단은 그 처음 백신 피임 같은 경우에는 사실상 아까 주현님 말씀하신 것처럼 인천 님 제외하고는 4 3 2 이거를 실현할 수 있는 지금 사람이 별로 없으니까 저희도 들으면서 실제로 이거가 조금이라도 이렇게 돌아가는 걸 봐야 이게 뭐고 나를 알 수 있을 거 같아서 백신 팀 쪽은 아무래도 조금이라도 어떤 식으로 주연이 될 거라는 거를 한번 보여 주셨으면 저는 좋겠는데 그게 혹시 가능할까요', '저는 이게 어떻게 구현이 되고 어떻게 이렇게 딱 타고 나타날지를 몰라서 저는 사실 도비가 되지 자신이 있는데 나 민찬이 민찬이 메모 좀 일정을 여쭤봐야 될 거 같아요', '사실 이게 진짜 되는 걸 봐야지 그 진짜 그 되는 건지 아니면 못 보는 것처럼 나오는데요', '그래서 한번 해 볼까요', '딱딱히 막 특별하게 정해진 양식이라기보다는 그냥 저희 마음대로 정말 아이디어도 한 개 이상 제출할 수 있는 거 보니까 저희가 딱 그렇게 될 거 같긴 한데 일단 그러면 나랑 이제 민찬 이미 구현을 해야 되니까 24일까지잖아요', '그러면은 최소한 22일이나 23일있는 되는지 안 되는지 보여 드려야 이거를 넣을지 안 넣을지가 결정이 되는 거니까 인천 인천 님 혹시 그때까지 한 100명 설명 가지고 보내 볼까요', '이거를 회의록 버전으로 가능하실까요', '저희 둘이서 그거를 정리하면 될 거 같은데 다음 주까지 충분히 가능할 거 같고 대한 찬성을 써달라는 말씀이시죠 또 저거를 회의록 일단 기술적으로 구현하는 것 먼저 중심을 볼게요 서리지 언니는요 다음에 아까 그 말 했어 다 같이 그냥 조금만 조금 뭐 이렇게 뭐 하다가 좀 남는 시간 있으면은 어 어 이쪽으로 할 수도 있지 않을까 언제까지나 새로운 아이디어에서 오픈해 있는 걸로 하겠습니다', '24일까지 밤이니까 혹여나 22 23일 갑작스럽게 만나야 될 수도 있으니까 21일이 좀 더 그러면 다음 주 목요일 21일 7시에 뵙도록 하고 그전까지 이제 아까 말씀드렸듯이 둘러 다녀서 조금 기술적인 면에서 좀 더 신경 써 주시면 될 거 같고 남은 두 분은 이 제안서 작성해 조금 신경 써 주시면 될 거 같습니다']\n",
            "Textrank:  ['그래서 제가 알기로는 텍스트 랭크 랑이 KR 월드 랭크 랑 비슷한 알고리즘을 써서 아 마이 테크 월드 월드뱅크에서 나온 주유소 있잖아요.', '그 키워드가 포함된 문장이라든지 그런 식으로 안 갖고 볼거리 키워드를 단순히 우리의 뭐지 그 영향을 위해 사용하는 게 아니라 프로그램도 알고리즘 지도 보면서 사용하는 거예요.', '거기서 이제 추운데 중에서 뭐 다른 사람 아닌가 아니면 뭐 때문에 그런데 같은 것들은 그냥 싹 다 그 제외해 그럼 코딩을 하나 더 넣어 가지고 만들고 있었어 이거 이거 이거 안 먹었어 근데 얘가 더 중요한 얘도 얘도 되게 중요한 운전할 수 있거든요.', '왜냐하면 이런 큰동생들이 들어가면 오히려 그게 또 중요한 문제가 있어서 얘를 어떻게 해야 될지 아직 이거를 넣지 않았어요.', '알고리즘들 다 인식이 되니까 클로버도 저번에 더 자세히 보시면은 모든 영어로 정말 당연 얻은 그런 것만 저번에 일대에서 컨 정선이라는 얘기를 하면은 전화받으면 우리만의 모레 자체를 저희가 한 달 안에 만드는 거 자체가 말도 안 되기 때문에 어쩔 수 없는 거 같아 그럼 다음에 조금 조금만 더 구현시켜 버리고 조금 더 되면은 굉장히 매력 있다.', '그 정도는 이렇게 큰 버든 아닐 거 같고 다만 이제 정말로 상용화 같아서 서비스가 되었을 때 그거 이제 그때 따져 봐야 될 문재인 거 같으니까 지금 당장은 크게 문제는 아닐 것 같기도 한데 좀 재 너무나 입을까 생각이 들 때 그 사람들 입장에서는 기술 이런 거 다 누가 기술을 신경을 쓰겠어요.', '그냥 지금 당장 제가 했던 것처럼 오 이게 되네 보여 주면 내가 가지고 어 그리고 이제 넘어가기 전에 딱 한 가지만 더 보고 싶은데 그 아까 얘기했던 게 지금 당장은 5분 30초 되기 때문에 위치에서 제일 중요한 문장만 빼버리는 거잖아요.', '근데 만약에 우리가 네이버 클로버 결제를 해 가지고 그거를 그냥 그 시간제한 없이 메이플로드 술 한잔 있나요.', '아 그리고 그렇게 해가지고는 이제 회의록을 이렇게 나온다는 게 이후에 그 담당 뭐 알바 색이라도 사 오니 그 회의록을 해 가지고 요약본을 만들어야 될 때 자기가 핵심적인 컬렉션을 만들어 가지고 물어보는 건지 아니면 그냥 자기 스스로 이제 그 말씀 하신 건 약간 챗봇 같은 구조를 말씀하신 거 같은데 네네 자기가 직접 물어봐서 이렇게 대답하는 건 책 보수 책처럼 구현을 해야 되는데 그 거기는 아직 생각해 본 적이 없는데 이게 구조 자체는 비슷할 거 같긴 합니다.', '후자가 구영리 가능하면은 시켜 가지고 결과물을 보내 주고 그리고 그 이후에 추가적으로 AI가 따로 중요한 중요한 것들을 뽑아내지 못했다면 내가 직접 물어봤을 때도 나올 수 있게끔 하는 게 좋을 거 같아서 내가 일할 때 인터뷰 많이 진행한다고 했는데 인터뷰할 때도 결과적으로 콘서트는 인터뷰 대상으로부터 원하는 답변이 있고 딱 질문 있거든요.', '그래서 전율이 어떻게 되냐 이런 이런 것들을 바로바로 회의록을 다 읽어 보지 않고 그냥 바로 딱 정율 사관 바로 나올 수 있게 되면 좋으니까 글피 초대 한번 생각해 보면 좋을 거 같다.', 'fnq sequential 같이 하자 그러면 지금까지 생각해 보니까 아무래도 회의가 다방면적인 되게 되게 공통적으로 집중할 수 있는 속성값이 그렇게만 할까 싶기도 하네요.', '해주신 대로 편히 식으로 하는 게 훨씬 더 구형 자체는 같아요.', '그래서 만약에 주연이 힘들다면 보는 게 어떨까 그리고 말씀하셨던 말씀하셨던 그 일정은 그것도 그렇게 어렵진 않을 것 같아서요.', '그러면 자원 분배 취소가 AI 알고리즘 백신 분배 중심으로 하고 제목을 부쳤고 이거는 저희 그냥 별로 볼게 제작된 거라서 구현 중심으로만 이슈가 정리되어 있기 때문에 전반적인 스토리라인 같은 경우는 가 형님께서 올리신 자료 참조해 주시면 좋을 거 같아요.', '그 정도만 저희가 말씀을 드릴 수가 있을 것 같아요.', '저는 아 그렇구나 알겠습니다 가능하대요 그래서 이제 말씀드리면 저희가 자원 분배 구입할 수 있는 분들이 있을 것 같은데 그중에서도 누가 먼저 응급 받는가에 문제를 해결하기 위해서 알고리즘을 짜는 중에 있고요.', '그리고 기타 문제들도 지금 계속 3단 이쯤에서 짚어주고 계시는데 이 부분은 이제 저희가 추운 오늘 좀 해봐야 될 문제가 돼요.', '다 이제 저희가 기술적인 부분에 말씀을 드리고 다시 돌아와서 이야기해 보면 좋을 거 같아요.', '그래서 이제 저희가 러닝을 있었다고 하는데 그때 이제 강화석을 잘 모른다 그래 가지고 제가 엔지니어 분들을 위해서 또 이렇게 인트로덕션 슬라이드를 만들었는데 설명을 해 드릴까요.', '그다음에 엑스포스 한 번이라도 감염된 사람과 노출이 되었을 때 그런데 그 사람 사람들은 특정 확률분포의 해서 실제로 감염이 되기도 하고요.', '임인택 셔츠인 사람들은 그때 이제이 감염시키는 수준을 어떻게 나올 것인가를 또 연구자들이 고민을 했는데 같은 경우는 스미싱 터 메릭 와 그 아니 그냥 센터 말이 제주 가지런 거 하나도 없다고 하더라고요.', '그래서 이제 그 둘의 베르로만 나눠서 감염시키는 감염원 수준을 부분을 했대요 이거 아이솔레이션 스케이트 같은 경우는 패션스트리트같이 값을 가지고 있는 건데요.', '이렇게 정리를 하고 있다고 합니다.', '이런 식으로 저희 구성을 크게 하는데 여기서 저희가 백신을 넣어 줘야 되잖아요.', '210 넣어 주는 게임 패션스트리트를 제외한 서비스 터부 익스포즈드 그다음에 그중에서도 리커버 이렇게 3단계의 에이전트들에게만 백신을 투여하는 곳으로 시나리오를 자려고 합니다.', '그리고 이제 실제 인물의 특성을 반영한 가상 에이전트들은 생성해서 저희가 만든 환경이 필요로 하겠죠.', '그리고 코미디 빅 리그 합병증 유무를 줬는데 고혈압과 당뇨의 covid 와 함께 나타났을 때 유병률이 더 사망률이 높았던 그 두 질병이 있는지 없는지를 이렇게 또 값을 적더라고요.', '그래서 만약에 에이전트들이 끼리 콘택트가 일어났을 때 어떤 확률분포의 해서 그 에이전트들의 값들이 변하는 거죠.', '그러니까 정말 현실 세계를 구현했다고 보시면 돼요 이제 데이터 같은 경우는 그래서 사실 통계 데이터만으로도 충분하게 되는데요.', '서울시의 만약에 구현을 해봐야 저희가 이제 조금 감이 올 거 같기는 한데 만약에 서울시의 이런 것을 구현할 많아 데이터가 없다면 해당 논문에서 뉴욕 이라던가 롬바르디아 차이나 상하이에 있던 좀 커다란 도시에 있는 데이터를 제공하고 있기 때문에 해당 동문에서 사유 제공하는 데이터를 사용해도 크게 문제는 없을 것 같아요.', '어쨌든 그렇게 각각의 에이전트를 실제 사람과 어느 정도 튜닝을 마친 다음에 앞서 저희가 세팅을 했던 그 감염병 전염 환경에 에이전트들은 두고 이제 강화 시작을 하게 됩니다.', '이거는 사실 저희가 제가 더 깊이 설명을 할 필요는 없이 직관적으로 바로 이해가 되실 거 같아요.', '가기 전에 따라서 환경 변수가 변하고 그것에 따라서 계속 계속 에이전트들이 업데이트가 되고 전략이 업데이트가 되고 그러면서 결국에는 최적의 값을 찾는다 이렇게만 생각을 하시면 될 거 같습니다.', '너희 같은 경우는 약까지 그 저희가 생각한 게 그 그게 전체가 인바이로먼트 그러니까 그 천만 명 천만 케이크 가게 전체가 그 상호작용하면서 바이러스 허준은 그 자체가 그냥 전체 그러면 저희가 저희가 백신의 순서를 정한다.', '그거 그거를 방수라고 생각을 했었는데 그게 어떻게 적용이 되는 건가요.', '그렇게 인터넷 들어가면 에이전트가 그중에서 이제 그 말을 마트에 그 그 있는 인구 중에서 얼마를 그 대신에 접종할 것인가 그게 인젝션으로 들어가고 그게 변수가 될 겁니다.', '내가 다 지워지고 마님한테 상처를 스테이트 나타내고 그다음에 거기에 대해서 그 그이 상태에서는 어떻게 하겠다는 거야 보내 주면 이제 그게 적용돼서 이맘때 맡기고 그러면서 그 얼마나 잘 했는가를 리워드로 다시 보게 됩니다.', '그럼 그거 취득으로 저희가 표현을 해야 되는 건가요.', '그래서 이런 것들은 이제 정말로 너무 외로운 것들이라 구직 여기서 이야기할 필요는 없을 것 같은데 혹시 이후부터는 조미니 찬 님께서 이야기를 해 주시면 좋을 거 같아 그냥 부연 자체는 거 임차 님께서 아마 담당을 해 주시고 저는 거의 백업은 하게 될 거 같아서 차도 비가 되어 드릴게요 슬라이드 가세요.', '그리고 언제 그걸 10시에 단위로 끊어서 끝나 가지고 총 10개의 해즈브로 있다고 할 거고요.', '그러면서 인제 그러면 그 액션은 그 10만 원 해결이라고 생각하시면 돼요 그리고 그 값이 제 실수가 될 텐데 어떻게 일정을 바뀐다는 접수를 하면은 실수 없이 그 총 10개 갑시다 줘하면은 이게 되는 네 그 확률 값을 바뀝니다.', '그렇게 해 가지고 그렇게 해서 이제 그 LG 그룹의 그 전체 물량 1%씩 될 건가 이거를 계산하고요.', '우선 그 질문을 해야 될 것 같아서 구형 같은 경우는 아래를 하시는 분이 제대로 하시는 분이 민찬 님 밖에 없으셔서 엄마가 구입한 기술적인 질문하기가 애매할 것 같고 여기서 아마 돈이 할만한 것들은 저희 스토리라인 이라던가 이걸 어떻게 발전시킬 수 있을지 일 것 같아요.', '제 생각이 그런데 다른 분들 어떻게 생각하세요.', '일단 저희가 보여 드릴 수 있는 건 아래를 가지고 이런 것까지 할 수 있었고 우리가 구현할 수 있는 건이 정도예요.', '우리는 여러 명이 연구자들을 통해 검증된 피어 리뷰를 통해 검증된 연구논문에 가지고 이거를 구현을 해 볼 거예요.', '뭐 미국 연남 거기도 미국에서 썼는데 데이터를 제대로 업데이트를 최신으로 안 해 가지고 알고리즘을 잘못 들어간 거예요.', '생각해 주시면 될 것 같아요.', '지금 지금 당장은 아니더라도 저희도 이제 만약에 이걸로 발표를 하게 되고 할 때는 고층만큼은 아니더라도 어느 정도 무슨 인품을 가지고 어떻게 도서 대충은 알아야 될 것 같은데 지금 당장은 아니더라도 그 제가 아까 그러면 인천 님께서 써 주셨던 그 파일을 같이 공유해서 한번 천천히 이야기 나눠 보는 건 어떨까요.', '지금 당장 지금은 힘드시다면 나중에 공유를 해 주시는 것도 혹시나 이쁜 만이 아니라 이런 것들을 다 들어가는 건지 선수가 아니라 멀티 멀티 대기업이 된 건지 아 지금은 그 말이 별로 끊어 가지고 그거 밖에 할 수가 없고요.', '그 그렇게 하려면 사실 구현할 수 있지만 그 시간이면 집값은 순서를 결정하게 되는 건가요.', '아 그리고 사실 그 좀 더 정확해 말씀드리면 매일 그 볼륨 100% 물량을 구매할 건가 이렇게 나옵니다.', '확실하게 처리할 수 있는데 그러면 이제 지금 당장 이로서는 가지고 이렇게 하는 건데 혹시 멀티까지 두 개 정도이 정도까지는 괜찮은 건지 만약에 하려면 모델 자체가 그 각 개인의 대한 직업정보를 가지고 있어야 된대요 근데 그 그 그 정문에서 구현해놓은 코드 열어 보면 그런 데이터를 저장하고 또 이용하지는 않아요.', '실제로 직업에 따라서 만난 빈도가 달라지는지 클러스터링은 가지고 그거를 되거나라고 해야 되는데 언니가 괜찮겠죠.', '마지막으로 하나만 들어 보면은 여기 보면은 거기 들어가는 하던가 아니면은 그 그 통계수치 뭐 예를 들어서 얘네들의 합병증 비용은 얼마 뭐 이런 것들은 한국 세상에 맞춰서 제가 따로 없는 건지 아니면 미국에서 쓰는 놈은 애 있는 것들을 그대로 집어넣는 건지 나 한국 데이터를 가져다 쓰면 된다 선생님 궁금한 게 그 일자별로 결과가 나온다고 했잖아요.', '전체적으로 전체적으로 얼마 기간이 얼마 동안 그게 나오는 건지 처음에 그래서 그냥 충분히 길게 해 놓고 그냥 해야 될 것 같아요.', '그래서 이동이 많아졌다 하던가 그런 거는 고려가 안 되는 것 저 아직은 그렇게 뭐 정말 특별한 업무가 공휴일이라서 머리 용량이 늦게까지 한다.', '그러면 그 박스 되는 게 확 되지 않은 환경 때문에 아무래도 성능이 떨어지는 감소된다 그거는 지금 아마 그렇게 환경이 변하는 그 상태에서 최적을 찾아내는 것은 아마 저희 수준을 어려울 거라고 그래서 일단 그걸 좀 해 가지고 대충 그 학습을 할 수 있을 텐데 아무튼 그런 구관 드레스 성능 좀 떨어지면 감사드립니다.', '내부감사 먼지를 보면은 회사에서 업무 프로세스가 효율적으로 효과적으로 잘 이루어지고 있니라고 보시면 돼요 그래서 외부 회계감사 같은 거 생각을 해 보시면 걔네는 재무제표가 막 다 만들어진 상태에서 예 여기 분식회계 같은 게 없었나 그런 거를 보는 걸로 하면 내부 내부 회계감사는 그거를 생성하는 과정에서 문제가 없었느냐를 거라고 생각하시면 됩니다.', '그래서 목적을 가지고 있고 궁극적으로는 이 기업의 가치를 더 높이고 하고자 하는데 이따 내가 있습니다.', '그래서 그런 사람을 어떻게 결정할지 그런 거 자체가 어려운 문제가 있고 기업가치평가 모형에 적용해서 얼마나 애가 영향을 미치는지를 보장입니다 가치 평가 모형에 대해서 제가 좀 잘 몰라서 여긴 아직 어떻게 될지 조금 생각을 많이 못 하긴 했어요.', '그리고 그래서 최종적으로 서비스를 고향을 하면 약간 이런 식으로 서비스 제공이 가능하겠다 해서 만들어 본 건데 11시 만약에 어떤 회계법인에 쓰는 거 다 걔네가 다양한 기업에 대해서 내부감사 진행할 수 있잖아요.', '그래서 이렇게 여기서 회사를 어떤 회사인지 설정을 할 수가 있고 그건 선택하면 이 회사에 대한 위험요인 그리고 통제 여행기를 그거에 따른 같이 이렇게 이상해진다.', '그리고 여기는 전체적인 리스크 요인들이 어떻게 크게 난 있는지 표현할 수가 있고 요거 하나에 대해서 세부적으로 한번 보자 해 가지고 해 부여에 있는 이렇게 이런 식으로 나누어 볼 수 있고 이거에 해당하는 주요.', '문제점이 뭐더라라는 걸 이런 식으로 또 표현을 해 볼 수가 있을 것 같아요.', '그리고 이혼에 대해서 얘네가 이 정도로 위험에 처했을 때 시나리오를 나눠 봐서 기업가치가 이런 식으로도 변할 수 있다는 것까지 보여 줄 수 있지 않을까 생각을 해봤습니다.', '그래서 그런데 그러려면은 제가 낮에도 공유를 드렸듯이 일단 가치 평가 모형이 어떤 것이 있는지를 확실하게 알아야 될 거 같아요.', '제일 뒤에 토픽 모델링을 이용하신다고 하셨는데 LG 토픽 모델링 자체가 제가 알기로는 어떤 주제에 토픽 원 이렇게 해 가지고 그 토픽과 좀 자기가 생각했을 때 관련이 있다고 하는 주제가 좀 나오고 그것을 저희가 10개를 지정한다면 10개 토픽 1부터 10까지 짝 나오잖아요.', '얼마나 붓이랑 가 그걸 어떻게 저희가 이 보고서를 가지고 평가를 할 수가 있을까요.', '근데 그 이만큼 부실하다는 것을 어떻게 저희가 측정하고 라벨링 할 수 있는가 그것이 선행되어야 LG 토픽 모델링을 가능할 거 같다는 생각이 들었거든요.', '저희가 처음 말씀드린 건 저희는 잠재적 요인을 파악하고 전송해 주겠다고 하는 것들이 얘가 무슨 몇 퍼센트 세율이 있고 이런 식으로 저희가 나타내지 않고 저 아까 지연이가 보여 줘 썼던 것처럼 저희가 얘기를 해서이 책 집안에 그리고 텍스트 마이닝 중에서도 감성분석 또 들어가 있고 어느 정도 저희가 제목 재무 재무제표도 파악을 할 거잖아요.', '그렇기 때문에 저희가 일어난 그래프로 예상에 나타내는 것이지 그래서 보고서 맥락에 의해서 몇 퍼센트가 부실하다.', '아 여기서 봤을 때 제 플러스 올라가는 거야 내려가는 거 이렇게 나와 있길래 혹시 이런 건강하라고 생각을 했었습니다.', '응 그렇구나 네 저 라플라스 변환이 정도는 저희가 캡처를 할 수가 있잖아요.', '어떤 보고서에서 예 방금 승현 님이 올려주신 거 같긴 한데 보고서를 저희가 보고서를 통해서 자연어 처리와 각종 텍스트 마이닝 기법으로 도출할 수 있는 것들 간편하게 시각화해서 보여준다고 생각해 주시면 될 거 같습니다.', '최적인 부분은 사슬 할 때도 지금은 주관적으로 하시겠지만 자기 정말 재무제표를 정말 보고 말하는 게 아니면은 그냥 일반 정말 출구로 되어 있는 보고서 가지고 이거 내가 생각했을 때 몇 퍼센트 정도 보일 거라고 말하기는 어렵다.', '그렇구나 그렇다면 만약에 그 이해인 사이트를 제공하기 위해서는 기존 감사 평가 모델들을 알고 그거를 저희가 구현을 한 다음에 부연을 한 다음에 이후를 좀 생각을 해 봐야겠네요.', '그리고 재무에 관한 사항에서는 지금 뭐 재무제표에서 부채가 많이 잡혀 있거나 아니면은 당기순이익이 떨어지고 있구나 아니면 뭐 이런 것들을 포장해 가지고 회사에 재무건전성이라던가 이런 것들에 대해서 평가를 해 준다 이해하는 하는 게 맞을까요.', '그런데 한편으론 네 그러니까 저희가 조금 더 아주 진짜 딱 여기만 파 가지고 관련해 가지고 이렇게 데이터를 뽑을 수 있는 그런 거 같다.', '하면 되게 되게 좋아할 수도 있을 것 같은데 경영학도 애들이 그런 거 못 해 가지고 맨날 재무제표 같은 거 필요 없고 막 그거 어떻게 하려고 막 그런 애들이 많이 있거든요.', '안 왔었는데 일단은 그 처음 백신 피임 같은 경우에는 사실상 아까 주현님 말씀하신 것처럼 인천 님 제외하고는 4 3 2 이거를 실현할 수 있는 지금 사람이 별로 없으니까 저희도 들으면서 실제로 이거가 조금이라도 이렇게 돌아가는 걸 봐야 이게 뭐고 나를 알 수 있을 거 같아서 백신 팀 쪽은 아무래도 조금이라도 어떤 식으로 주연이 될 거라는 거를 한번 보여 주셨으면 저는 좋겠는데 그게 혹시 가능할까요.', '저는 이게 어떻게 구현이 되고 어떻게 이렇게 딱 타고 나타날지를 몰라서 저는 사실 도비가 되지 자신이 있는데 나 민찬이 민찬이 메모 좀 일정을 여쭤봐야 될 거 같아요.', '그래서 한번 해 볼까요.', '그다음에 그래서 이제 아무래도 남은 거는 승현 님이랑 가영 님 같은 경우에는 여지까지 너무나 열심히 리서치를 해 주셨기 때문에 이상으로 저희 과제가 있을까요.', '다음으로 이제는 거의 정말 대한 기술적인 부분 이렇게 써야 되니까 제안서를 어떤 형식으로 할 건지 결정을 하고 오늘 산에 아까 형님이 제시하신 포맷이 되게 마음에 들어 가지고 이렇게 저희가 추가해서 쓰면 되지 않을까 싶어요.', '딱딱히 막 특별하게 정해진 양식이라기보다는 그냥 저희 마음대로 정말 아이디어도 한 개 이상 제출할 수 있는 거 보니까 저희가 딱 그렇게 될 거 같긴 한데 일단 그러면 나랑 이제 민찬 이미 구현을 해야 되니까 24일까지잖아요.', '다음 날짜까지는 저도 가급적 그렇게 하고 싶은데 웬만하면 최대한 빨리 보여 드리려고 50 분데 다 끓이고 있어 가지고네 그래서 최수환 늦어도 한 22일 23일에는 보여 드릴 수 있도록 좀 노력 한번 해 보도록 하겠습니다.', '네 거 같아서 손님이랑 저는 좀 더 하고 그리고 민찬 님이랑 주연 님을 그 백신 쪽에 좀 쉬면해 주시는 걸로 가면은 주차하기가 그렇다면 회계 관리 쪽은 Air 아래쪽에 어떻게 해야 될까요.', '그렇게 되면 이상적으로 하고 정도나 그 정도는 저도 할 수 있으니까 만약에 도움이 필요하시다 쓰시면 됩니다.', '그리고 그 회의록을 어떤 식으로 했지 또 이제 구현하면서 가야겠네요.', '저희 둘이서 그거를 정리하면 될 거 같은데 다음 주까지 충분히 가능할 거 같고 대한 찬성을 써달라는 말씀이시죠 또 저거를 회의록 일단 기술적으로 구현하는 것 먼저 중심을 볼게요 서리지 언니는요 다음에 아까 그 말 했어 다 같이 그냥 조금만 조금 뭐 이렇게 뭐 하다가 좀 남는 시간 있으면은 어 어 이쪽으로 할 수도 있지 않을까 언제까지나 새로운 아이디어에서 오픈해 있는 걸로 하겠습니다.', '많았으니까 그 정도로 생각해 주시면 될 거 같고 그러면 일단은 다음 주 목요일 날에 생각을 하고 있는데 혹시 너무 빠를까요.']\n",
            "summarized  그래서 만약에 주연이 힘들다면 보는 게 어떨까 그리고 말씀하셨던 말씀하셨던 그 일정은 그것도 그렇게 어렵진 않을 것 같아서요.\n"
          ],
          "name": "stdout"
        }
      ]
    },
    {
      "cell_type": "code",
      "metadata": {
        "id": "GmpCMif760gu"
      },
      "source": [
        ""
      ],
      "execution_count": null,
      "outputs": []
    },
    {
      "cell_type": "code",
      "metadata": {
        "id": "55iX8F507Cq8"
      },
      "source": [
        ""
      ],
      "execution_count": null,
      "outputs": []
    },
    {
      "cell_type": "code",
      "metadata": {
        "id": "ReaiQCTEBr9M"
      },
      "source": [
        ""
      ],
      "execution_count": null,
      "outputs": []
    },
    {
      "cell_type": "code",
      "metadata": {
        "id": "aUnwt1GTB6Hv"
      },
      "source": [
        ""
      ],
      "execution_count": null,
      "outputs": []
    },
    {
      "cell_type": "code",
      "metadata": {
        "colab": {
          "base_uri": "https://localhost:8080/",
          "height": 35
        },
        "id": "bTkaatLht9lU",
        "outputId": "11638270-6918-418a-cfa7-6f46ae4ddd09"
      },
      "source": [
        "sum"
      ],
      "execution_count": null,
      "outputs": [
        {
          "output_type": "execute_result",
          "data": {
            "application/vnd.google.colaboratory.intrinsic+json": {
              "type": "string"
            },
            "text/plain": [
              "'그래서 만약에 주연이 힘들다면 보는 게 어떨까 그리고 말씀하셨던 말씀하셨던 그 일정은 그것도 그렇게 어렵진 않을 것 같아서요.'"
            ]
          },
          "metadata": {
            "tags": []
          },
          "execution_count": 23
        }
      ]
    },
    {
      "cell_type": "code",
      "metadata": {
        "id": "xF4qJzGTmJQt"
      },
      "source": [
        "# 놀라운 결과: Lexrank, Textrank 결과 자세히 보면 영어가 인식되어있음ㅎ"
      ],
      "execution_count": null,
      "outputs": []
    },
    {
      "cell_type": "markdown",
      "metadata": {
        "id": "Qv744gokBRfi"
      },
      "source": [
        "- 사용자 인식(speaker identification)이 됐으면 좋겠다 -- clova NOTE 사용시 해결\r\n",
        ">무료 api는 supervised만 있는 듯\r\n",
        "\r\n",
        "- 기본 웹프레임워크 만들기\r\n",
        "> 아웃풋 어떤 모양일지?\r\n",
        "\r\n",
        "- BERT summarization 모델 추가?\r\n",
        "> 기존의 majority voting ensemble대신 그냥 세 모델 결과 다 합칠지? 논의 필요\r\n",
        "\r\n",
        "  > 모델당 뽑는 요약본이 다 다르기 때문에 각 모델별 10%씩 합친다면 약 30% 요약\r\n",
        "\r\n",
        "    >이 경우 소연 자연어 처리 모듈 조금 수정하면 됨\r\n",
        "\r\n",
        "\r\n",
        "\r\n",
        "\r\n"
      ]
    }
  ]
}